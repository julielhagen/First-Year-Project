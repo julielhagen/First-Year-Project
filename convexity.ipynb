{
 "cells": [
  {
   "cell_type": "code",
   "execution_count": 2,
   "id": "22bfa483",
   "metadata": {},
   "outputs": [],
   "source": [
    "import numpy as np\n",
    "from scipy.spatial import ConvexHull\n",
    "import matplotlib.pyplot as plt"
   ]
  },
  {
   "cell_type": "code",
   "execution_count": 57,
   "id": "c7519088",
   "metadata": {},
   "outputs": [],
   "source": [
    "def convexity(mask):\n",
    "    '''Calculate convexity score between 0 and 1, \n",
    "    with 0 indicating a smoother border and 1 a more crooked border.\n",
    "\n",
    "    Args:\n",
    "        image (numpy.ndarray): input masked image\n",
    "    \n",
    "    Returns:\n",
    "        convexity_score (float): Float between 0 and 1 indicating convexity.    \n",
    "    '''\n",
    "\n",
    "    # Get coordinates of all pixels in the lesion mask\n",
    "    coords = np.transpose(np.nonzero(mask))\n",
    "\n",
    "    # Compute convex hull of lesion pixels\n",
    "    hull = ConvexHull(coords)\n",
    "\n",
    "    # Compute area of lesion mask\n",
    "    lesion_area = np.count_nonzero(mask)\n",
    "\n",
    "    # Compute area of convex hull\n",
    "    convex_hull_area = hull.volume\n",
    "\n",
    "    # Compute convexity as ratio of convex hull area to lesion area\n",
    "    convexity = lesion_area / convex_hull_area\n",
    "    \n",
    "    return(round(1-convexity, 3))"
   ]
  },
  {
   "cell_type": "code",
   "execution_count": 58,
   "id": "df453fce",
   "metadata": {},
   "outputs": [],
   "source": [
    " def show_convex_hull(mask):\n",
    "    '''Plot mask with convex hull.\n",
    "    Mask is plotted with its red convex hull line.\n",
    "\n",
    "    Args:\n",
    "        image (numpy.ndarray): input masked image\n",
    "    \n",
    "    Returns:\n",
    "        plot: plot including mask and convex hull boundary \n",
    "    '''\n",
    "\n",
    "    plt.imshow(mask, cmap='gray')\n",
    "\n",
    "    # Plot convex hull\n",
    "    for simplex in hull.simplices:\n",
    "        plt.plot(coords[simplex, 1], coords[simplex, 0], 'r')\n",
    "    \n",
    "    plt.show()"
   ]
  },
  {
   "cell_type": "code",
   "execution_count": 3,
   "id": "27d26e13",
   "metadata": {},
   "outputs": [
    {
     "data": {
      "text/plain": [
       "NoneType"
      ]
     },
     "execution_count": 3,
     "metadata": {},
     "output_type": "execute_result"
    }
   ],
   "source": []
  }
 ],
 "metadata": {
  "kernelspec": {
   "display_name": "Python 3 (ipykernel)",
   "language": "python",
   "name": "python3"
  },
  "language_info": {
   "codemirror_mode": {
    "name": "ipython",
    "version": 3
   },
   "file_extension": ".py",
   "mimetype": "text/x-python",
   "name": "python",
   "nbconvert_exporter": "python",
   "pygments_lexer": "ipython3",
   "version": "3.9.12"
  },
  "vscode": {
   "interpreter": {
    "hash": "56941cacf15e8b05765996006082865469347c2b4cdce983108d1335de8b4245"
   }
  }
 },
 "nbformat": 4,
 "nbformat_minor": 5
}
