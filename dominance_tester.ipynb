{
 "cells": [
  {
   "cell_type": "code",
   "execution_count": 1,
   "metadata": {},
   "outputs": [],
   "source": [
    "# Imports\n",
    "\n",
    "import os\n",
    "import numpy as np\n",
    "import matplotlib.pyplot as plt\n",
    "from sklearn.cluster import KMeans\n",
    "from prep_image import prep_im_and_mask\n",
    "from cut import cut_im_by_mask\n"
   ]
  },
  {
   "cell_type": "code",
   "execution_count": 2,
   "metadata": {},
   "outputs": [
    {
     "data": {
      "text/plain": [
       "(237521, 3)"
      ]
     },
     "execution_count": 2,
     "metadata": {},
     "output_type": "execute_result"
    }
   ],
   "source": [
    "im_path = 'test_images' + os.sep\n",
    "mask_path = 'test_images_masks' + os.sep\n",
    "im_id = 'PAT_1984_4038_265.png'\n",
    "\n",
    "im, mask = prep_im_and_mask(im_id, im_path, mask_path)\n",
    "\n",
    "cut_im = cut_im_by_mask(im, mask)\n",
    "\n",
    "flat_im = np.reshape(cut_im, (-1, 3))\n",
    "\n",
    "flat_im.shape\n",
    "\n",
    "#plt.imshow(cut_im)"
   ]
  },
  {
   "cell_type": "code",
   "execution_count": 3,
   "metadata": {},
   "outputs": [
    {
     "name": "stdout",
     "output_type": "stream",
     "text": [
      "5\n"
     ]
    }
   ],
   "source": [
    "clusters = 5\n",
    "\n",
    "k_means = KMeans(n_clusters=clusters, random_state=0)\n",
    "k_means.fit(flat_im)\n",
    "\n",
    "dom_colors = np.array(k_means.cluster_centers_, dtype='float32')\n",
    "\n",
    "counts = np.unique(k_means.labels_, return_counts=True)[1]\n",
    "percentages = counts / flat_im.shape[0]\n",
    "\n",
    "p_and_c = zip(percentages, dom_colors)\n",
    "p_and_c = sorted(p_and_c, reverse=True)\n",
    "\n",
    "print(len(p_and_c))"
   ]
  },
  {
   "cell_type": "code",
   "execution_count": 4,
   "metadata": {},
   "outputs": [
    {
     "data": {
      "image/png": "[encoded data removed]",
      "text/plain": [
       "<Figure size 864x576 with 1 Axes>"
      ]
     },
     "metadata": {},
     "output_type": "display_data"
    }
   ],
   "source": [
    "# Plot bar\n",
    "\n",
    "bar = np.ones((50, 500, 3), dtype='float32')\n",
    "plt.figure(figsize=(12,8))\n",
    "plt.title('Proportions of Dominent Colors in the Image')\n",
    "start = 0\n",
    "i = 1\n",
    "for percentage, color in p_and_c:\n",
    "    end = start + int(percentage * bar.shape[1])\n",
    "    if i == clusters:\n",
    "        bar[:, start:] = color[::-1]\n",
    "    else:\n",
    "        bar[:, start:end] = color[::-1]\n",
    "    start = end\n",
    "    i += 1\n",
    "\n",
    "plt.imshow(bar)\n",
    "plt.tick_params(\n",
    "    axis='both',\n",
    "    which='both',\n",
    "    bottom=False,\n",
    "    left=False,\n",
    "    labelbottom=False,\n",
    "    labelleft=False)"
   ]
  },
  {
   "cell_type": "code",
   "execution_count": 5,
   "metadata": {},
   "outputs": [
    {
     "data": {
      "text/plain": [
       "[(0.3617364359361909,\n",
       "  array([0.25412259, 0.23938827, 0.20213637], dtype=float32)),\n",
       " (0.21648191107312617,\n",
       "  array([0.3773046 , 0.33641246, 0.30721456], dtype=float32)),\n",
       " (0.1757528807979084,\n",
       "  array([0.53416944, 0.44635752, 0.38167965], dtype=float32)),\n",
       " (0.12678036889369781,\n",
       "  array([0.6340111 , 0.5631533 , 0.53189003], dtype=float32)),\n",
       " (0.11924840329907671,\n",
       "  array([0.84388363, 0.72556096, 0.679199  ], dtype=float32))]"
      ]
     },
     "execution_count": 5,
     "metadata": {},
     "output_type": "execute_result"
    }
   ],
   "source": [
    "from modules.dominance import color_dominance\n",
    "\n",
    "im, mask = prep_im_and_mask(im_id, im_path, mask_path)\n",
    "\n",
    "test = color_dominance(im, mask, clusters=5)\n",
    "test"
   ]
  }
 ],
 "metadata": {
  "kernelspec": {
   "display_name": "base",
   "language": "python",
   "name": "python3"
  },
  "language_info": {
   "codemirror_mode": {
    "name": "ipython",
    "version": 3
   },
   "file_extension": ".py",
   "mimetype": "text/x-python",
   "name": "python",
   "nbconvert_exporter": "python",
   "pygments_lexer": "ipython3",
   "version": "3.9.12"
  },
  "orig_nbformat": 4
 },
 "nbformat": 4,
 "nbformat_minor": 2
}
