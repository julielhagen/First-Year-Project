{
 "cells": [
  {
   "cell_type": "code",
   "execution_count": 1,
   "metadata": {},
   "outputs": [
    {
     "name": "stdout",
     "output_type": "stream",
     "text": [
      "634\n",
      "['.DS_S']\n"
     ]
    }
   ],
   "source": [
    "from os import listdir\n",
    "from os.path import isfile, join\n",
    "import pandas as pd\n",
    "import numpy as np\n",
    "\n",
    "images_names = [item for item in listdir('images/') if isfile(join('images/', item))]\n",
    "mask_names = [item for item in listdir('images_masks/') if isfile(join('images_masks/', item))]\n",
    "\n",
    "\n",
    "mask_names = [mask[:-9] for mask in mask_names]\n",
    "\n",
    "images_names = [name[:-4] for name in images_names]\n",
    "\n",
    "print(images_names.index(\"PAT_585_1130_552\"))\n",
    "combined_list = mask_names + images_names\n",
    "unique_elements = []\n",
    "\n",
    "for element in combined_list:\n",
    "    if element not in mask_names or element not in images_names:\n",
    "        unique_elements.append(element)\n",
    "\n",
    "\n",
    "print(unique_elements)"
   ]
  },
  {
   "cell_type": "code",
   "execution_count": 5,
   "metadata": {},
   "outputs": [
    {
     "data": {
      "text/html": [
       "<div>\n",
       "<style scoped>\n",
       "    .dataframe tbody tr th:only-of-type {\n",
       "        vertical-align: middle;\n",
       "    }\n",
       "\n",
       "    .dataframe tbody tr th {\n",
       "        vertical-align: top;\n",
       "    }\n",
       "\n",
       "    .dataframe thead th {\n",
       "        text-align: right;\n",
       "    }\n",
       "</style>\n",
       "<table border=\"1\" class=\"dataframe\">\n",
       "  <thead>\n",
       "    <tr style=\"text-align: right;\">\n",
       "      <th></th>\n",
       "      <th>img_id_</th>\n",
       "      <th>color</th>\n",
       "      <th>assymmetry_own</th>\n",
       "    </tr>\n",
       "  </thead>\n",
       "  <tbody>\n",
       "    <tr>\n",
       "      <th>0</th>\n",
       "      <td>PAT_1516_1765_530.png</td>\n",
       "      <td>0.0</td>\n",
       "      <td>0.0</td>\n",
       "    </tr>\n",
       "    <tr>\n",
       "      <th>1</th>\n",
       "      <td>PAT_46_881_939.png</td>\n",
       "      <td>1.0</td>\n",
       "      <td>1.3</td>\n",
       "    </tr>\n",
       "    <tr>\n",
       "      <th>2</th>\n",
       "      <td>PAT_1545_1867_547.png</td>\n",
       "      <td>1.0</td>\n",
       "      <td>2.6</td>\n",
       "    </tr>\n",
       "    <tr>\n",
       "      <th>3</th>\n",
       "      <td>PAT_684_1302_588.png</td>\n",
       "      <td>1.0</td>\n",
       "      <td>0.0</td>\n",
       "    </tr>\n",
       "    <tr>\n",
       "      <th>4</th>\n",
       "      <td>PAT_1549_1882_230.png</td>\n",
       "      <td>1.0</td>\n",
       "      <td>1.3</td>\n",
       "    </tr>\n",
       "    <tr>\n",
       "      <th>...</th>\n",
       "      <td>...</td>\n",
       "      <td>...</td>\n",
       "      <td>...</td>\n",
       "    </tr>\n",
       "    <tr>\n",
       "      <th>87</th>\n",
       "      <td>PAT_430_848_476.png</td>\n",
       "      <td>1.5</td>\n",
       "      <td>2.6</td>\n",
       "    </tr>\n",
       "    <tr>\n",
       "      <th>88</th>\n",
       "      <td>PAT_419_832_706.png</td>\n",
       "      <td>1.5</td>\n",
       "      <td>2.6</td>\n",
       "    </tr>\n",
       "    <tr>\n",
       "      <th>89</th>\n",
       "      <td>PAT_1423_1472_18.png</td>\n",
       "      <td>0.5</td>\n",
       "      <td>2.6</td>\n",
       "    </tr>\n",
       "    <tr>\n",
       "      <th>90</th>\n",
       "      <td>PAT_55_84_506.png</td>\n",
       "      <td>1.5</td>\n",
       "      <td>0.0</td>\n",
       "    </tr>\n",
       "    <tr>\n",
       "      <th>91</th>\n",
       "      <td>PAT_1710_3160_488.png</td>\n",
       "      <td>1.0</td>\n",
       "      <td>2.6</td>\n",
       "    </tr>\n",
       "  </tbody>\n",
       "</table>\n",
       "<p>92 rows × 3 columns</p>\n",
       "</div>"
      ],
      "text/plain": [
       "                  img_id_  color  assymmetry_own\n",
       "0   PAT_1516_1765_530.png    0.0             0.0\n",
       "1      PAT_46_881_939.png    1.0             1.3\n",
       "2   PAT_1545_1867_547.png    1.0             2.6\n",
       "3    PAT_684_1302_588.png    1.0             0.0\n",
       "4   PAT_1549_1882_230.png    1.0             1.3\n",
       "..                    ...    ...             ...\n",
       "87    PAT_430_848_476.png    1.5             2.6\n",
       "88    PAT_419_832_706.png    1.5             2.6\n",
       "89   PAT_1423_1472_18.png    0.5             2.6\n",
       "90      PAT_55_84_506.png    1.5             0.0\n",
       "91  PAT_1710_3160_488.png    1.0             2.6\n",
       "\n",
       "[92 rows x 3 columns]"
      ]
     },
     "execution_count": 5,
     "metadata": {},
     "output_type": "execute_result"
    }
   ],
   "source": [
    "df_own_features = pd.read_excel(\"metadata_with_feature_annotations.xlsx\", sheet_name=2, header=0)\n",
    "\n",
    "# df_own_features['assymmetry_own'] = df_own_features['assymmetry_own'] / 2.6\n",
    "# df_own_features['color'] = df_own_features['color'] / 0.5\n"
   ]
  },
  {
   "cell_type": "code",
   "execution_count": 83,
   "metadata": {},
   "outputs": [],
   "source": [
    "df_own_features['color'] = df_own_features['color'] / 0.5"
   ]
  },
  {
   "cell_type": "code",
   "execution_count": 21,
   "metadata": {},
   "outputs": [
    {
     "ename": "NameError",
     "evalue": "name 'df_own_features' is not defined",
     "output_type": "error",
     "traceback": [
      "\u001b[0;31m---------------------------------------------------------------------------\u001b[0m",
      "\u001b[0;31mNameError\u001b[0m                                 Traceback (most recent call last)",
      "\u001b[1;32m/Users/hugohoydal/Library/CloudStorage/GoogleDrive-hugohoydal@gmail.com/My Drive/Education/ITU/2. Sem/FYP/First-Year-Project/tester_.ipynb Cell 4\u001b[0m in \u001b[0;36m<cell line: 19>\u001b[0;34m()\u001b[0m\n\u001b[1;32m     <a href='vscode-notebook-cell:/Users/hugohoydal/Library/CloudStorage/GoogleDrive-hugohoydal%40gmail.com/My%20Drive/Education/ITU/2.%20Sem/FYP/First-Year-Project/tester_.ipynb#W3sZmlsZQ%3D%3D?line=15'>16</a>\u001b[0m df_features \u001b[39m=\u001b[39m pd\u001b[39m.\u001b[39mread_csv(file_features)\n\u001b[1;32m     <a href='vscode-notebook-cell:/Users/hugohoydal/Library/CloudStorage/GoogleDrive-hugohoydal%40gmail.com/My%20Drive/Education/ITU/2.%20Sem/FYP/First-Year-Project/tester_.ipynb#W3sZmlsZQ%3D%3D?line=17'>18</a>\u001b[0m df_features_sorted \u001b[39m=\u001b[39m df_features\u001b[39m.\u001b[39msort_values(\u001b[39m'\u001b[39m\u001b[39mimg_id\u001b[39m\u001b[39m'\u001b[39m)\n\u001b[0;32m---> <a href='vscode-notebook-cell:/Users/hugohoydal/Library/CloudStorage/GoogleDrive-hugohoydal%40gmail.com/My%20Drive/Education/ITU/2.%20Sem/FYP/First-Year-Project/tester_.ipynb#W3sZmlsZQ%3D%3D?line=18'>19</a>\u001b[0m df_own_features_sorted \u001b[39m=\u001b[39m df_own_features\u001b[39m.\u001b[39msort_values(\u001b[39m'\u001b[39m\u001b[39mimg_id_\u001b[39m\u001b[39m'\u001b[39m)\n\u001b[1;32m     <a href='vscode-notebook-cell:/Users/hugohoydal/Library/CloudStorage/GoogleDrive-hugohoydal%40gmail.com/My%20Drive/Education/ITU/2.%20Sem/FYP/First-Year-Project/tester_.ipynb#W3sZmlsZQ%3D%3D?line=20'>21</a>\u001b[0m df_features_sorted\u001b[39m.\u001b[39mreset_index(drop\u001b[39m=\u001b[39m\u001b[39mTrue\u001b[39;00m, inplace\u001b[39m=\u001b[39m\u001b[39mTrue\u001b[39;00m)\n\u001b[1;32m     <a href='vscode-notebook-cell:/Users/hugohoydal/Library/CloudStorage/GoogleDrive-hugohoydal%40gmail.com/My%20Drive/Education/ITU/2.%20Sem/FYP/First-Year-Project/tester_.ipynb#W3sZmlsZQ%3D%3D?line=21'>22</a>\u001b[0m df_own_features_sorted\u001b[39m.\u001b[39mreset_index(drop\u001b[39m=\u001b[39m\u001b[39mTrue\u001b[39;00m, inplace\u001b[39m=\u001b[39m\u001b[39mTrue\u001b[39;00m)\n",
      "\u001b[0;31mNameError\u001b[0m: name 'df_own_features' is not defined"
     ]
    }
   ],
   "source": [
    "import os\n",
    "\n",
    "from MyModel import ProcessImages\n",
    "import matplotlib.pyplot as plt\n",
    "\n",
    "\n",
    "#################\n",
    "### COMSTANTS ###\n",
    "#################\n",
    "\n",
    "file_data = 'metadata_withmasks.csv'\n",
    "image_folder = 'test_images' + os.sep\n",
    "mask_folder = 'test_images_mask' + os.sep\n",
    "file_features = 'feature_data.csv'\n",
    "\n",
    "df_features = pd.read_csv(file_features)\n",
    "\n",
    "df_features_sorted = df_features.sort_values('img_id')\n",
    "df_own_features_sorted = df_own_features.sort_values('img_id_')\n",
    "\n",
    "df_features_sorted.reset_index(drop=True, inplace=True)\n",
    "df_own_features_sorted.reset_index(drop=True, inplace=True)\n",
    "\n",
    "frames = [df_features_sorted, df_own_features_sorted]\n",
    "df_concated = pd.concat(frames, axis=1)\n",
    "\n",
    "df_concated = df_concated[df_concated[\"assymmetry_own\"] == 1]\n",
    "\n",
    "my_list = df_concated.assymmetry.tolist()\n",
    "\n",
    "df_concated = df_concated.sort_values('assymmetry')\n",
    "df_concated\n",
    "# asym1 = df_features_sorted.assymmetry.tolist()\n",
    "# asym2 = df_own_features_sorted.assymmetry.tolist()\n",
    "\n",
    "\n",
    "\n",
    "# print(asym1)\n",
    "# print(\"-----------------------------------\")\n",
    "# print(asym2)\n",
    "\n",
    "# plt.scatter(asym1, asym2)"
   ]
  },
  {
   "cell_type": "code",
   "execution_count": 26,
   "metadata": {},
   "outputs": [
    {
     "name": "stdout",
     "output_type": "stream",
     "text": [
      "(300, 300)\n"
     ]
    },
    {
     "data": {
      "text/plain": [
       "<matplotlib.image.AxesImage at 0x7ff2d26d4a90>"
      ]
     },
     "execution_count": 26,
     "metadata": {},
     "output_type": "execute_result"
    },
    {
     "data": {
      "image/png": "[encoded data removed]",
      "text/plain": [
       "<Figure size 640x480 with 1 Axes>"
      ]
     },
     "metadata": {},
     "output_type": "display_data"
    }
   ],
   "source": [
    "import os\n",
    "\n",
    "from MyModel import ProcessImages\n",
    "from prep_image import prep_im_and_mask\n",
    "import matplotlib.pyplot as plt\n",
    "\n",
    "#################\n",
    "### COMSTANTS ###\n",
    "#################\n",
    "file_data = 'metadata_withmasks.csv'\n",
    "image_folder = 'images' + os.sep\n",
    "mask_folder = 'images_masks' + os.sep\n",
    "file_features = 'feature_data.csv'\n",
    "\n",
    "im, mask = prep_im_and_mask(\"PAT_1305_4097_251.png\", image_folder, mask_folder)\n",
    "im1, mask1 = prep_im_and_mask(\"PAT_1461_1600_867.png\", image_folder, mask_folder)\n",
    "\n",
    "print(mask.shape)\n",
    "plt.imshow(mask)"
   ]
  },
  {
   "cell_type": "code",
   "execution_count": 2,
   "metadata": {},
   "outputs": [],
   "source": [
    "# Feature extraction\n",
    "from asymmetry import mean_asymmetry\n",
    "from color import slic_segmentation, rgb_var, hsv_var, color_dominance\n",
    "from compactness import compactness_score\n",
    "from convexity import convexity_score\n",
    "import numpy as np\n",
    "import matplotlib.pyplot as plt\n",
    "import pandas as pd"
   ]
  },
  {
   "cell_type": "code",
   "execution_count": 4,
   "metadata": {},
   "outputs": [
    {
     "name": "stderr",
     "output_type": "stream",
     "text": [
      "/Users/hugohoydal/opt/anaconda3/lib/python3.9/site-packages/scipy/cluster/vq.py:603: UserWarning: One of the clusters is empty. Re-run kmeans with a different initialization.\n",
      "  warnings.warn(\"One of the clusters is empty. \"\n"
     ]
    },
    {
     "data": {
      "text/plain": [
       "[0.080175,\n",
       " 0.004886532403515878,\n",
       " 0.00512445383527042,\n",
       " 0.0061272608774972336,\n",
       " 0.09529572254523888,\n",
       " 0.005720938955592519,\n",
       " 0.004741324438730219,\n",
       " 0.055585563,\n",
       " 0.06599762,\n",
       " 0.5338385,\n",
       " 0.722,\n",
       " 0.064]"
      ]
     },
     "execution_count": 4,
     "metadata": {},
     "output_type": "execute_result"
    }
   ],
   "source": [
    "df = pd.read_csv(file_data)\n",
    "\n",
    "# Remove images without masks\n",
    "df_mask = df['mask'] == 1\n",
    "df = df.loc[df_mask]\n",
    "\n",
    "\n",
    "def extract_features(im, im_mask):\n",
    "\n",
    "\t# Assymmetry\n",
    "\tasymmetry = mean_asymmetry(im_mask,4)\n",
    "\n",
    "\t# Color variance\n",
    "\tsegments = slic_segmentation(im, im_mask)\n",
    "\tred_var, green_var, blue_var = rgb_var(im, segments)\n",
    "\thue_var, sat_var, val_var = hsv_var(im, segments)\n",
    "\n",
    "\t# Color dominance\n",
    "\tdom_colors = color_dominance(im, im_mask, clusters=5, include_ratios=True) # Extract five most dominent colors, sorted by percentage of total area\n",
    "\tdom_hue, dom_sat, dom_val = dom_colors[0][1]     \n",
    "\n",
    "\t# Compactness\n",
    "\tcompactness = compactness_score(im_mask)\n",
    "\n",
    "\t# Convexity\n",
    "\tconvexity = convexity_score(im_mask)\n",
    "\n",
    "\treturn [asymmetry, red_var, green_var, blue_var, \\\n",
    "\t\thue_var, sat_var, val_var, dom_hue, dom_sat, dom_val, \\\n",
    "\t\tcompactness, convexity]\n",
    "\n",
    "\n",
    "extract_features(im1, mask1)\n",
    "# mylist = list(df['img_id'])\n",
    "\n",
    "# mylist[70]"
   ]
  },
  {
   "cell_type": "code",
   "execution_count": 5,
   "metadata": {},
   "outputs": [
    {
     "data": {
      "text/plain": [
       "[(0.34924320605435155,\n",
       "  array([0.05558556, 0.06599762, 0.5338385 ], dtype=float32)),\n",
       " (0.22557619539043688,\n",
       "  array([0.06275462, 0.2354895 , 0.385296  ], dtype=float32)),\n",
       " (0.18283453732370142,\n",
       "  array([0.13315374, 0.08380914, 0.3974588 ], dtype=float32)),\n",
       " (0.1720846233230134,\n",
       "  array([0.95187545, 0.062738  , 0.5616328 ], dtype=float32)),\n",
       " (0.07026143790849673,\n",
       "  array([0.44415718, 0.05271113, 0.4359557 ], dtype=float32))]"
      ]
     },
     "execution_count": 5,
     "metadata": {},
     "output_type": "execute_result"
    }
   ],
   "source": [
    "import numpy as np\n",
    "import matplotlib.pyplot as plt\n",
    "\n",
    "# Statistics\n",
    "from statistics import variance, stdev\n",
    "from scipy.stats import circmean, circvar, circstd\n",
    "from math import nan\n",
    "\n",
    "# Image processing\n",
    "from skimage.segmentation import slic\n",
    "from skimage.color import rgb2hsv\n",
    "from sklearn.cluster import KMeans\n",
    "\n",
    "# Own modules\n",
    "from cut import cut_im_by_mask\n",
    "\n",
    "\n",
    "cut_im = cut_im_by_mask(im1, mask1) # Cut image to remove excess skin pixels\n",
    "hsv_im = rgb2hsv(cut_im) # Convert image to HSV color space\n",
    "flat_im = np.reshape(hsv_im, (-1, 3)) # Flatten image to 2D array\n",
    "\n",
    "# Use KMeans to cluster image by colors\n",
    "k_means = KMeans(n_clusters=5, random_state=0)\n",
    "k_means.fit(flat_im)\n",
    "\n",
    "# Save cluster centers (dominant colors) in array\n",
    "dom_colors = np.array(k_means.cluster_centers_, dtype='float32') \n",
    "\n",
    "counts = np.unique(k_means.labels_, return_counts=True)[1] # Get count of each dominent color\n",
    "ratios = counts / flat_im.shape[0] # Get percentage of total image for each dominent color\n",
    "# print(ratios)\n",
    "# print(dom_colors)\n",
    "r_and_c = zip(ratios, dom_colors) # Percentage and colors\n",
    "r_and_c = sorted(r_and_c,key=lambda x: x[0], reverse= True) # Sort in descending order\n",
    "\n",
    "r_and_c\n",
    "\n",
    "\n",
    "# list_1 = [1, 2, 3, 3]\n",
    "# list_2 = [[1, 3], [3, 4], [4, 6], [6, 6]]\n",
    "\n",
    "# zip3 = zip(list_1, list_2)\n",
    "\n",
    "# zip3 = sorted(zip3)\n",
    "\n",
    "# zip3\n",
    "\n",
    "# plt.imshow(im)"
   ]
  },
  {
   "cell_type": "code",
   "execution_count": 30,
   "metadata": {},
   "outputs": [
    {
     "data": {
      "text/plain": [
       "<matplotlib.image.AxesImage at 0x7ff2d29227f0>"
      ]
     },
     "execution_count": 30,
     "metadata": {},
     "output_type": "execute_result"
    },
    {
     "data": {
      "image/png": "[encoded data removed]",
      "text/plain": [
       "<Figure size 640x480 with 1 Axes>"
      ]
     },
     "metadata": {},
     "output_type": "display_data"
    }
   ],
   "source": [
    "# Image processing\n",
    "from skimage import morphology\n",
    "\n",
    "from compactness import show_border\n",
    "\n",
    "# Pi\n",
    "from math import pi\n",
    "\n",
    "###################\n",
    "### COMPACTNESS ###\n",
    "###################\n",
    "\n",
    "def compactness_score(mask):\n",
    "    '''Computes a compactness score for the given mask.\n",
    "    The score is based of the Polsby-Popper measure. \n",
    "    The score falls between the value 0 and 1. Scores closer to 1 indicates a more compact mask.\n",
    "\n",
    "    Args:\n",
    "        mask (numpy.ndarray): input masked image\n",
    "    \n",
    "    Returns:\n",
    "        compactness_score (float): Float between 0 and 1 indicating compactness. \n",
    "    '''\n",
    "\n",
    "     #Area of ground truth \n",
    "    A = np.sum(mask)\n",
    "\n",
    "    #Structural element, that we will use as a \"brush\" on our mask\n",
    "    struct_el = morphology.disk(2)\n",
    "\n",
    "    # Use this \"brush\" to erode the image - eat away at the borders\n",
    "    mask_eroded = morphology.binary_erosion(mask, struct_el)\n",
    "\n",
    "    #Finding the perimeter of the ground truth\n",
    "    perimeter_gt = mask - mask_eroded\n",
    "\n",
    "    #Length of the perimeter\n",
    "    l = np.sum(perimeter_gt)\n",
    "\n",
    "    compactness = (4*pi*A)/(l**2)\n",
    "\n",
    "    score = round(1-compactness, 3)\n",
    "\n",
    "    return compactness\n",
    "\n",
    "\n",
    "    #Finding the perimeter of the ground truth\n",
    "    perimeter_gt = mask - mask_eroded\n",
    "\n",
    "    return plt.imshow(perimeter_gt, cmap='gray')\n",
    "\n",
    "df_features.sort_values(by = [\"convexity\"], ascending=False)\n",
    "\n",
    "im3, mask3 = prep_im_and_mask(\"PAT_513_965_496.png\", image_folder, mask_folder)\n",
    "\n",
    "plt.imshow(mask3)"
   ]
  },
  {
   "cell_type": "code",
   "execution_count": 18,
   "metadata": {},
   "outputs": [
    {
     "data": {
      "image/png": "[encoded data removed]",
      "text/plain": [
       "<Figure size 640x480 with 1 Axes>"
      ]
     },
     "metadata": {},
     "output_type": "display_data"
    },
    {
     "data": {
      "text/plain": [
       "<matplotlib.image.AxesImage at 0x7ff2e0baaaf0>"
      ]
     },
     "execution_count": 18,
     "metadata": {},
     "output_type": "execute_result"
    },
    {
     "data": {
      "image/png": "[encoded data removed]",
      "text/plain": [
       "<Figure size 640x480 with 1 Axes>"
      ]
     },
     "metadata": {},
     "output_type": "display_data"
    }
   ],
   "source": [
    "from scipy.spatial import ConvexHull\n",
    "from convexity import plot_convex_hull\n",
    "\n",
    "#################\n",
    "### CONVEXITY ###\n",
    "#################\n",
    "\n",
    "def convexity_score(mask):\n",
    "    '''Calculate convexity score between 0 and 1, \n",
    "    with 0 indicating a smoother border and 1 a more crooked border.\n",
    "\n",
    "    Args:\n",
    "        image (numpy.ndarray): input masked image\n",
    "    \n",
    "    Returns:\n",
    "        convexity_score (float): Float between 0 and 1 indicating convexity.    \n",
    "    '''\n",
    "\n",
    "    # Get coordinates of all pixels in the lesion mask\n",
    "    coords = np.transpose(np.nonzero(mask))\n",
    "\n",
    "    # Compute convex hull of lesion pixels\n",
    "    hull = ConvexHull(coords)\n",
    "\n",
    "    # Compute area of lesion mask\n",
    "    lesion_area = np.count_nonzero(mask)\n",
    "\n",
    "    # Compute area of convex hull\n",
    "    convex_hull_area = hull.volume + hull.area\n",
    "\n",
    "    # Compute convexity as ratio of lesion area to convex hull\n",
    "    convexity = lesion_area / convex_hull_area\n",
    "    \n",
    "    return round(1-convexity, 3)\n",
    "\n",
    "plot_convex_hull(mask)\n",
    "\n",
    "plt.imshow(mask)"
   ]
  }
 ],
 "metadata": {
  "kernelspec": {
   "display_name": "Python 3.9.12 ('base')",
   "language": "python",
   "name": "python3"
  },
  "language_info": {
   "codemirror_mode": {
    "name": "ipython",
    "version": 3
   },
   "file_extension": ".py",
   "mimetype": "text/x-python",
   "name": "python",
   "nbconvert_exporter": "python",
   "pygments_lexer": "ipython3",
   "version": "3.9.12"
  },
  "orig_nbformat": 4,
  "vscode": {
   "interpreter": {
    "hash": "534d4e8b37863f4f5932f7cc25a9e87e2170c9c2a9fe02ecf0dcf4a0cfc94044"
   }
  }
 },
 "nbformat": 4,
 "nbformat_minor": 2
}
