{
 "cells": [
  {
   "cell_type": "code",
   "execution_count": 1,
   "metadata": {},
   "outputs": [
    {
     "name": "stdout",
     "output_type": "stream",
     "text": [
      "(1474, 26)\n",
      "35.0\n",
      "19.408\n",
      "11.538\n",
      "19.78\n",
      "1.389\n",
      "32.292\n"
     ]
    }
   ],
   "source": [
    "import pandas as pd\n",
    "from matplotlib import pyplot as plt\n",
    "\n",
    "data = pd.read_csv('metadata.csv')\n",
    "data_wo_na = data.dropna()\n",
    "\n",
    "print(data_wo_na.shape)\n",
    "\n",
    "smoking = data_wo_na[data_wo_na['smoke']] \n",
    "age = data_wo_na['age']\n",
    "#print(age.head(15))\n",
    "\n",
    "SEK = data_wo_na[data_wo_na['diagnostic'] == 'SEK']\n",
    "old_SEK = SEK[SEK['age']>75]\n",
    "print(round(len(old_SEK)/len(SEK)*100, 3))\n",
    "\n",
    "BCC = data_wo_na[data_wo_na['diagnostic'] == 'BCC']\n",
    "old_BCC = BCC[BCC['age']>75]\n",
    "print(round(len(old_BCC)/len(BCC)*100, 3))\n",
    "\n",
    "MEL = data_wo_na[data_wo_na['diagnostic'] == 'MEL']\n",
    "old_MEL = MEL[MEL['age']>75]\n",
    "print(round(len(old_MEL)/len(MEL)*100, 3))\n",
    "\n",
    "ACK = data_wo_na[data_wo_na['diagnostic'] == 'ACK']\n",
    "old_ACK = ACK[ACK['age']>75]\n",
    "print(round(len(old_ACK)/len(ACK)*100, 3))\n",
    "\n",
    "NEV = data_wo_na[data_wo_na['diagnostic'] == 'NEV']\n",
    "old_NEV = NEV[NEV['age']>75]\n",
    "print(round(len(old_NEV)/len(NEV)*100, 3))\n",
    "\n",
    "SCC = data_wo_na[data_wo_na['diagnostic'] == 'SCC']\n",
    "old_SCC = SCC[SCC['age']>75]\n",
    "print(round(len(old_SCC)/len(SCC)*100, 3))\n",
    "\n",
    "\n",
    "\n",
    "\n",
    "\n"
   ]
  },
  {
   "cell_type": "code",
   "execution_count": 29,
   "metadata": {},
   "outputs": [
    {
     "data": {
      "text/plain": [
       "[10.618, 36.771, 31.767, 10.226, 8.355, 2.263]"
      ]
     },
     "execution_count": 29,
     "metadata": {},
     "output_type": "execute_result"
    }
   ],
   "source": [
    "\n",
    "def perc_finder(df):\n",
    "    diag = data.diagnostic.unique().tolist()\n",
    "    listn = []\n",
    "    for i in diag:\n",
    "        type_data = df[df[\"diagnostic\"] == i]\n",
    "        perc = round((type_data.shape[0]/data.shape[0])*100, 3)\n",
    "        listn.append(perc)\n",
    "    return listn\n",
    "\n",
    "perc_finder(data)"
   ]
  }
 ],
 "metadata": {
  "kernelspec": {
   "display_name": "base",
   "language": "python",
   "name": "python3"
  },
  "language_info": {
   "codemirror_mode": {
    "name": "ipython",
    "version": 3
   },
   "file_extension": ".py",
   "mimetype": "text/x-python",
   "name": "python",
   "nbconvert_exporter": "python",
   "pygments_lexer": "ipython3",
   "version": "3.9.12"
  },
  "orig_nbformat": 4,
  "vscode": {
   "interpreter": {
    "hash": "56941cacf15e8b05765996006082865469347c2b4cdce983108d1335de8b4245"
   }
  }
 },
 "nbformat": 4,
 "nbformat_minor": 2
}
