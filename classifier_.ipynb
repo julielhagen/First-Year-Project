{
 "cells": [
  {
   "cell_type": "markdown",
   "metadata": {},
   "source": [
    "### Imports"
   ]
  },
  {
   "cell_type": "code",
   "execution_count": 1,
   "metadata": {},
   "outputs": [],
   "source": [
    "import pandas as pd\n",
    "import numpy as np\n",
    "\n",
    "from sklearn.model_selection import train_test_split\n",
    "\n",
    "from sklearn.preprocessing import StandardScaler\n",
    "from sklearn.decomposition import PCA\n",
    "\n",
    "from sklearn.feature_selection import SelectKBest,mutual_info_classif\n",
    "\n",
    "from sklearn.model_selection import StratifiedGroupKFold\n",
    "from sklearn.neighbors import KNeighborsClassifier\n",
    "from sklearn.svm import LinearSVC\n",
    "\n",
    "from sklearn.metrics import accuracy_score, recall_score, precision_score, roc_auc_score\n",
    "from sklearn.model_selection import cross_validate\n",
    "from sklearn.linear_model import LogisticRegression\n",
    "\n",
    "import matplotlib.pyplot as plt\n",
    "\n",
    "import pickle as pk"
   ]
  },
  {
   "cell_type": "markdown",
   "metadata": {},
   "source": [
    "## File handling "
   ]
  },
  {
   "cell_type": "code",
   "execution_count": 2,
   "metadata": {},
   "outputs": [],
   "source": [
    "# Extracting found features for each lesions with mask\n",
    "file_features = \"feature_data.csv\"\n",
    "\n",
    "# Naming of features\n",
    "feature_names = ['assymmetry', 'red_var', 'green_var', 'blue_var', \\\n",
    "    'hue_var', 'sat_var', 'val_var', 'dom_hue', 'dom_sat', 'dom_val', \\\n",
    "    'compactness', 'convexity']\n",
    "\n",
    "# Creating data frame for features with mask \n",
    "df_features = pd.read_csv(file_features)\n",
    "\n",
    "# Loading in meta data for lesions with masks\n",
    "file_data = 'metadata_withmasks.csv'\n",
    "df = pd.read_csv(file_data)\n",
    "df = df[df['mask'] == 1]\n",
    "\n",
    "# Creating labels\n",
    "labels = np.array(df['diagnostic'])\n",
    "patient_id = df['patient_id']"
   ]
  },
  {
   "cell_type": "code",
   "execution_count": 3,
   "metadata": {},
   "outputs": [],
   "source": [
    "#Preparing data to be split\n",
    "X = df_features[feature_names]\n",
    "y =  (labels == 'BCC') | (labels == 'SCC') | (labels == 'MEL')   #now True means healthy nevus, False means something else\n",
    "groups = df_features['patient_id']"
   ]
  },
  {
   "cell_type": "code",
   "execution_count": 4,
   "metadata": {},
   "outputs": [
    {
     "data": {
      "text/plain": [
       "(690, 12)"
      ]
     },
     "execution_count": 4,
     "metadata": {},
     "output_type": "execute_result"
    }
   ],
   "source": [
    "X.shape"
   ]
  },
  {
   "cell_type": "markdown",
   "metadata": {},
   "source": [
    "## PCA Approach "
   ]
  },
  {
   "cell_type": "code",
   "execution_count": 7,
   "metadata": {},
   "outputs": [],
   "source": [
    "# standardizing X data  \n",
    "std_scl = StandardScaler()\n",
    "X_std = std_scl.fit_transform(X)\n",
    "\n",
    "pca = PCA(n_components= 0.95)\n",
    "\n",
    "X_pca2 = pca.fit_transform(X_std)"
   ]
  },
  {
   "cell_type": "code",
   "execution_count": 60,
   "metadata": {},
   "outputs": [
    {
     "data": {
      "text/plain": [
       "(690, 8)"
      ]
     },
     "execution_count": 60,
     "metadata": {},
     "output_type": "execute_result"
    }
   ],
   "source": [
    "X_pca.shape"
   ]
  },
  {
   "cell_type": "code",
   "execution_count": 61,
   "metadata": {},
   "outputs": [],
   "source": [
    "pk.dump(pca, open('pca.pkl','wb'))"
   ]
  },
  {
   "cell_type": "code",
   "execution_count": 5,
   "metadata": {},
   "outputs": [],
   "source": [
    "pca_reload = pk.load(open('pca.pkl','rb'))\n",
    "\n",
    "std_scl = StandardScaler()\n",
    "X_std = std_scl.fit_transform(X)\n",
    "X_pca = pca_reload.transform(X_std)"
   ]
  },
  {
   "cell_type": "code",
   "execution_count": 6,
   "metadata": {},
   "outputs": [
    {
     "data": {
      "text/plain": [
       "(690, 8)"
      ]
     },
     "execution_count": 6,
     "metadata": {},
     "output_type": "execute_result"
    }
   ],
   "source": [
    "X_pca.shape"
   ]
  },
  {
   "cell_type": "code",
   "execution_count": 8,
   "metadata": {},
   "outputs": [
    {
     "data": {
      "text/plain": [
       "array([[False, False, False, ..., False, False, False],\n",
       "       [False, False, False, ..., False, False, False],\n",
       "       [False, False, False, ..., False, False, False],\n",
       "       ...,\n",
       "       [ True, False, False, ..., False,  True, False],\n",
       "       [False, False, False, ..., False, False, False],\n",
       "       [False, False, False, ..., False, False, False]])"
      ]
     },
     "execution_count": 8,
     "metadata": {},
     "output_type": "execute_result"
    }
   ],
   "source": [
    "X_pca == X_pca2"
   ]
  },
  {
   "cell_type": "code",
   "execution_count": 95,
   "metadata": {},
   "outputs": [],
   "source": [
    "#Splitting data into trainning and test data\n",
    "X_train_std, X_test_std, y_train, y_test = train_test_split(X_std, y, test_size=0.2, random_state=41, stratify=y)"
   ]
  },
  {
   "cell_type": "code",
   "execution_count": 96,
   "metadata": {},
   "outputs": [
    {
     "data": {
      "text/plain": [
       "(552, 4)"
      ]
     },
     "execution_count": 96,
     "metadata": {},
     "output_type": "execute_result"
    }
   ],
   "source": [
    "# Creating PCA class\n",
    "pca = PCA(n_components=0.95)\n",
    "\n",
    "# Fitting PCA class for the training set\n",
    "pca.fit(X_train_std)\n",
    "\n",
    "# Transforming all X with the PCA class\n",
    "X_train_pca = pca.transform(X_train_std)\n",
    "X_test_pca = pca.transform(X_test_std)\n",
    "\n",
    "X_train_pca.shape"
   ]
  },
  {
   "cell_type": "code",
   "execution_count": null,
   "metadata": {},
   "outputs": [],
   "source": []
  },
  {
   "cell_type": "code",
   "execution_count": null,
   "metadata": {},
   "outputs": [],
   "source": []
  },
  {
   "cell_type": "markdown",
   "metadata": {},
   "source": [
    "## SelectKBest Approach"
   ]
  },
  {
   "cell_type": "code",
   "execution_count": 109,
   "metadata": {},
   "outputs": [
    {
     "data": {
      "text/plain": [
       "(690, 5)"
      ]
     },
     "execution_count": 109,
     "metadata": {},
     "output_type": "execute_result"
    }
   ],
   "source": [
    "feature_selector1 = SelectKBest(mutual_info_classif, k=5)\n",
    "feature_selector1.fit(X, y)\n",
    "\n",
    "X_1 = feature_selector1.transform(X)\n",
    "\n",
    "X_1.shape\n"
   ]
  },
  {
   "cell_type": "code",
   "execution_count": 101,
   "metadata": {},
   "outputs": [],
   "source": [
    "# Splitting data into training and test data\n",
    "X_train, X_test, y_train, y_test = train_test_split(X, y, test_size=0.2, random_state=1, stratify=y)"
   ]
  },
  {
   "cell_type": "code",
   "execution_count": 70,
   "metadata": {},
   "outputs": [],
   "source": [
    "feature_selector = SelectKBest(mutual_info_classif, k=5)\n",
    "feature_selector.fit(X_train, y_train)\n",
    "\n",
    "scores = feature_selector.scores_\n",
    "\n",
    "X_train_adj = feature_selector.transform(X_train)\n",
    "X_test_adj = feature_selector.transform(X_test)"
   ]
  },
  {
   "cell_type": "markdown",
   "metadata": {},
   "source": [
    "## Classifier "
   ]
  },
  {
   "cell_type": "code",
   "execution_count": 150,
   "metadata": {},
   "outputs": [],
   "source": [
    "#Different classifiers to test out\n",
    "# classifiers = [\n",
    "#     KNeighborsClassifier(),\n",
    "#     KNeighborsClassifier(10),\n",
    "#     LinearSVC(max_iter = 5000),\n",
    "#     LogisticRegression()\n",
    "# ]\n",
    "classifiers1 = [KNeighborsClassifier(n_neighbors=i) for i in range(1, 20, 2)]\n",
    "\n",
    "classifiers = [\n",
    "    KNeighborsClassifier(n_neighbors=3),\n",
    "    KNeighborsClassifier(n_neighbors=5),\n",
    "    KNeighborsClassifier(n_neighbors=7)\n",
    "]"
   ]
  },
  {
   "cell_type": "code",
   "execution_count": 112,
   "metadata": {},
   "outputs": [
    {
     "data": {
      "text/plain": [
       "{'fit_time': array([0.00045896, 0.00031376, 0.00031185, 0.00032091, 0.00030708]),\n",
       " 'score_time': array([0.00485015, 0.00454092, 0.00472212, 0.0045321 , 0.00462198]),\n",
       " 'test_accuracy': array([0.64963504, 0.67153285, 0.64028777, 0.6884058 , 0.6618705 ]),\n",
       " 'test_recall': array([0.51923077, 0.51923077, 0.55769231, 0.63461538, 0.51923077]),\n",
       " 'test_precision': array([0.54      , 0.57446809, 0.51785714, 0.57894737, 0.55102041]),\n",
       " 'test_roc_auc': array([0.67918552, 0.67647059, 0.69639699, 0.71265653, 0.7071176 ])}"
      ]
     },
     "execution_count": 112,
     "metadata": {},
     "output_type": "execute_result"
    }
   ],
   "source": [
    "from sklearn.model_selection import StratifiedShuffleSplit\n",
    "\n",
    "num_folds = 5\n",
    "sss = StratifiedShuffleSplit(n_splits = num_folds)\n",
    "sgkf = StratifiedGroupKFold(n_splits= num_folds)\n",
    "\n",
    "scores = ['accuracy', 'recall', 'precision', 'roc_auc']\n",
    "\n",
    "cv_result = cross_validate(KNeighborsClassifier(5), X_1, y, scoring= scores, cv=sgkf, groups= patient_id)\n",
    "cv_result"
   ]
  },
  {
   "cell_type": "code",
   "execution_count": 115,
   "metadata": {},
   "outputs": [],
   "source": [
    "def evaluate_classifiers(X_train, y_train, classifiers):\n",
    "    scores = ['accuracy', 'recall', 'precision', 'roc_auc']\n",
    "\n",
    "\n",
    "    num_folds = 5\n",
    "    # cross_val = StratifiedShuffleSplit(n_splits = num_folds)\n",
    "    cross_val = StratifiedGroupKFold(n_splits= num_folds)\n",
    "\n",
    "    evaluation_results = {}\n",
    "\n",
    "    for classifier in classifiers:\n",
    "        cv_results = cross_validate(classifier, X_train, y_train, scoring=scores, cv=cross_val, groups = patient_id)\n",
    "\n",
    "        if type(classifier).__name__ == \"KNeighborsClassifier\":\n",
    "            classifier_name = type(classifier).__name__\n",
    "            params_dict = classifier.get_params()\n",
    "            n_neigbors = params_dict[\"n_neighbors\"]\n",
    "            classifier_name = f\"{classifier_name} with n_neighbors: {n_neigbors}\"\n",
    "        else:\n",
    "            classifier_name = type(classifier).__name__\n",
    "\n",
    "        evaluation_results[classifier_name] = {\n",
    "            'Accuracy': cv_results['test_accuracy'].mean(),\n",
    "            'Recall': cv_results['test_recall'].mean(),\n",
    "            'Precision': cv_results['test_precision'].mean(),\n",
    "            'ROC AUC': cv_results['test_roc_auc'].mean()\n",
    "\n",
    "        }\n",
    "\n",
    "    # for classifier in classifiers:\n",
    "    #     cv_results = cross_validate(classifier, X_train, y_train, scoring=scores, cv=cross_val)\n",
    "    #     classifier_name = type(classifier).__name__\n",
    "        \n",
    "    #     results[classifier_name] = {\n",
    "    #         'Accuracy': cv_results['test_accuracy'].mean(),\n",
    "    #         'Recall': cv_results['test_recall'].mean(),\n",
    "    #         'Precision': cv_results['test_precision'].mean(),\n",
    "    #         'ROC AUC': cv_results['test_roc_auc'].mean()\n",
    "    #     }\n",
    "\n",
    "    return evaluation_results"
   ]
  },
  {
   "cell_type": "code",
   "execution_count": 151,
   "metadata": {},
   "outputs": [
    {
     "data": {
      "text/plain": [
       "{'KNeighborsClassifier with n_neighbors: 1': {'Accuracy': 0.630472150366029,\n",
       "  'Recall': 0.5269230769230769,\n",
       "  'Precision': 0.5114509193680525,\n",
       "  'ROC AUC': 0.6100653090796494},\n",
       " 'KNeighborsClassifier with n_neighbors: 3': {'Accuracy': 0.6636067724684105,\n",
       "  'Recall': 0.5,\n",
       "  'Precision': 0.5600512820512821,\n",
       "  'ROC AUC': 0.6739221975879366},\n",
       " 'KNeighborsClassifier with n_neighbors: 5': {'Accuracy': 0.6594274437638085,\n",
       "  'Recall': 0.4884615384615385,\n",
       "  'Precision': 0.5560261995424851,\n",
       "  'ROC AUC': 0.6897727517384105},\n",
       " 'KNeighborsClassifier with n_neighbors: 7': {'Accuracy': 0.6795921815388059,\n",
       "  'Recall': 0.5038461538461538,\n",
       "  'Precision': 0.588857653973933,\n",
       "  'ROC AUC': 0.7152835523204409},\n",
       " 'KNeighborsClassifier with n_neighbors: 9': {'Accuracy': 0.6797494914255837,\n",
       "  'Recall': 0.49230769230769234,\n",
       "  'Precision': 0.5949642144213447,\n",
       "  'ROC AUC': 0.7165520295466283},\n",
       " 'KNeighborsClassifier with n_neighbors: 11': {'Accuracy': 0.6796335828829795,\n",
       "  'Recall': 0.4653846153846154,\n",
       "  'Precision': 0.6011431387041143,\n",
       "  'ROC AUC': 0.7241461559023709},\n",
       " 'KNeighborsClassifier with n_neighbors: 13': {'Accuracy': 0.6709586313811534,\n",
       "  'Recall': 0.45,\n",
       "  'Precision': 0.5885503439649782,\n",
       "  'ROC AUC': 0.7142605390191361},\n",
       " 'KNeighborsClassifier with n_neighbors: 15': {'Accuracy': 0.6695827977414959,\n",
       "  'Recall': 0.4269230769230769,\n",
       "  'Precision': 0.5951245926777842,\n",
       "  'ROC AUC': 0.7170460961511248},\n",
       " 'KNeighborsClassifier with n_neighbors: 17': {'Accuracy': 0.6536613172172513,\n",
       "  'Recall': 0.3961538461538462,\n",
       "  'Precision': 0.5589647282821738,\n",
       "  'ROC AUC': 0.7141620432023281},\n",
       " 'KNeighborsClassifier with n_neighbors: 19': {'Accuracy': 0.6637436861047499,\n",
       "  'Recall': 0.40384615384615385,\n",
       "  'Precision': 0.5733200679849106,\n",
       "  'ROC AUC': 0.7235657765666256}}"
      ]
     },
     "execution_count": 151,
     "metadata": {},
     "output_type": "execute_result"
    }
   ],
   "source": [
    "results = evaluate_classifiers(X_pca, y, classifiers1)\n",
    "\n",
    "results"
   ]
  },
  {
   "cell_type": "code",
   "execution_count": 146,
   "metadata": {},
   "outputs": [
    {
     "name": "stdout",
     "output_type": "stream",
     "text": [
      "KNeighborsClassifier with n_neighbors: 1\n",
      "Accuracy: 0.6231\n",
      "Recall: 0.4962\n",
      "Precision: 0.4992\n",
      "ROC AUC: 0.5980\n",
      "\n",
      "KNeighborsClassifier with n_neighbors: 3\n",
      "Accuracy: 0.6563\n",
      "Recall: 0.4808\n",
      "Precision: 0.5516\n",
      "ROC AUC: 0.6669\n",
      "\n",
      "KNeighborsClassifier with n_neighbors: 5\n",
      "Accuracy: 0.6594\n",
      "Recall: 0.4923\n",
      "Precision: 0.5546\n",
      "ROC AUC: 0.6932\n",
      "\n",
      "KNeighborsClassifier with n_neighbors: 7\n",
      "Accuracy: 0.6696\n",
      "Recall: 0.4808\n",
      "Precision: 0.5769\n",
      "ROC AUC: 0.7134\n",
      "\n",
      "KNeighborsClassifier with n_neighbors: 9\n",
      "Accuracy: 0.6768\n",
      "Recall: 0.4846\n",
      "Precision: 0.5884\n",
      "ROC AUC: 0.7202\n",
      "\n",
      "KNeighborsClassifier with n_neighbors: 11\n",
      "Accuracy: 0.6884\n",
      "Recall: 0.4769\n",
      "Precision: 0.6143\n",
      "ROC AUC: 0.7261\n",
      "\n",
      "KNeighborsClassifier with n_neighbors: 13\n",
      "Accuracy: 0.6739\n",
      "Recall: 0.4500\n",
      "Precision: 0.5948\n",
      "ROC AUC: 0.7258\n",
      "\n"
     ]
    }
   ],
   "source": [
    "for classifier, scores in results.items():\n",
    "    print(classifier)\n",
    "    for metric, score in scores.items():\n",
    "        print(f'{metric}: {score:.4f}')\n",
    "    print()"
   ]
  },
  {
   "cell_type": "code",
   "execution_count": 123,
   "metadata": {},
   "outputs": [
    {
     "data": {
      "text/plain": [
       "array([[1.        , 0.        ],\n",
       "       [0.42857143, 0.57142857],\n",
       "       [0.42857143, 0.57142857],\n",
       "       ...,\n",
       "       [0.71428571, 0.28571429],\n",
       "       [0.42857143, 0.57142857],\n",
       "       [0.85714286, 0.14285714]])"
      ]
     },
     "execution_count": 123,
     "metadata": {},
     "output_type": "execute_result"
    }
   ],
   "source": [
    "kn7 = KNeighborsClassifier(n_neighbors=7)\n",
    "kn7.fit(X_1, y)\n",
    "kn7.predict(X_1)\n",
    "kn7.predict_proba(X_1)"
   ]
  },
  {
   "cell_type": "code",
   "execution_count": 308,
   "metadata": {},
   "outputs": [
    {
     "name": "stdout",
     "output_type": "stream",
     "text": [
      "KNeighborsClassifier with n_neighbors: 5\n",
      "KNeighborsClassifier with n_neighbors: 7\n"
     ]
    }
   ],
   "source": [
    "classifiers_trained = [\n",
    "    KNeighborsClassifier(n_neighbors=5).fit(X_train_adj, y_train),\n",
    "    KNeighborsClassifier(n_neighbors=7).fit(X_train_adj, y_train),\n",
    "    LinearSVC(max_iter = 5000).fit(X_train_adj, y_train),\n",
    "    LogisticRegression().fit(X_train_adj, y_train)\n",
    "]\n",
    "\n",
    "\n",
    "\n",
    "for clf in classifiers_trained:\n",
    "    if type(clf).__name__ == \"KNeighborsClassifier\":\n",
    "        classifier_name = type(clf).__name__\n",
    "        params_dict = clf.get_params()\n",
    "        n_neigbors = params_dict[\"n_neighbors\"]\n",
    "        classifier_name = f\"{classifier_name} with n_neighbors: {n_neigbors}\"\n",
    "        print(classifier_name)\n"
   ]
  },
  {
   "cell_type": "code",
   "execution_count": 304,
   "metadata": {},
   "outputs": [],
   "source": [
    "def evaluate_test_data(X_test, y_true, classifiers):\n",
    "\n",
    "    results = {}\n",
    "    for clf in classifiers:\n",
    "        y_pred = clf.predict(X_test)\n",
    "\n",
    "        if type(clf).__name__ == \"KNeighborsClassifier\":\n",
    "            classifier_name = type(clf).__name__\n",
    "            params_dict = clf.get_params()\n",
    "            n_neigbors = params_dict[\"n_neighbors\"]\n",
    "            classifier_name = f\"{classifier_name} with n_neighbors: {n_neigbors}\"\n",
    "        else:\n",
    "            classifier_name = type(clf).__name__\n",
    "  \n",
    "        \n",
    "        results[classifier_name] = {\n",
    "            'Accuracy': round(accuracy_score(y_true, y_pred), 3),\n",
    "            'Recall': round(recall_score(y_true, y_pred), 3),\n",
    "            'Precision': round(precision_score(y_true, y_pred), 3),\n",
    "        }\n",
    "    return results"
   ]
  },
  {
   "cell_type": "code",
   "execution_count": 305,
   "metadata": {},
   "outputs": [
    {
     "data": {
      "text/plain": [
       "{'KNeighborsClassifier with n_neighbors: 5': {'Accuracy': 0.684,\n",
       "  'Recall': 0.667,\n",
       "  'Precision': 0.667},\n",
       " 'KNeighborsClassifier with n_neighbors: 7': {'Accuracy': 0.684,\n",
       "  'Recall': 0.667,\n",
       "  'Precision': 0.667},\n",
       " 'LinearSVC': {'Accuracy': 0.684, 'Recall': 0.444, 'Precision': 0.8},\n",
       " 'LogisticRegression': {'Accuracy': 0.684, 'Recall': 0.444, 'Precision': 0.8}}"
      ]
     },
     "execution_count": 305,
     "metadata": {},
     "output_type": "execute_result"
    }
   ],
   "source": [
    "results = evaluate_test_data(X_test_adj, y_test, classifiers_trained)\n",
    "\n",
    "results"
   ]
  },
  {
   "cell_type": "code",
   "execution_count": 306,
   "metadata": {},
   "outputs": [
    {
     "name": "stdout",
     "output_type": "stream",
     "text": [
      "KNeighborsClassifier with n_neighbors: 5\n",
      "Accuracy: 0.6840\n",
      "Recall: 0.6670\n",
      "Precision: 0.6670\n",
      "\n",
      "KNeighborsClassifier with n_neighbors: 7\n",
      "Accuracy: 0.6840\n",
      "Recall: 0.6670\n",
      "Precision: 0.6670\n",
      "\n",
      "LinearSVC\n",
      "Accuracy: 0.6840\n",
      "Recall: 0.4440\n",
      "Precision: 0.8000\n",
      "\n",
      "LogisticRegression\n",
      "Accuracy: 0.6840\n",
      "Recall: 0.4440\n",
      "Precision: 0.8000\n",
      "\n"
     ]
    }
   ],
   "source": [
    "for classifier, scores in results.items():\n",
    "    print(classifier)\n",
    "    for metric, score in scores.items():\n",
    "        print(f'{metric}: {score:.4f}')\n",
    "    print()"
   ]
  }
 ],
 "metadata": {
  "kernelspec": {
   "display_name": "Python 3 (ipykernel)",
   "language": "python",
   "name": "python3"
  },
  "language_info": {
   "codemirror_mode": {
    "name": "ipython",
    "version": 3
   },
   "file_extension": ".py",
   "mimetype": "text/x-python",
   "name": "python",
   "nbconvert_exporter": "python",
   "pygments_lexer": "ipython3",
   "version": "3.9.12"
  },
  "vscode": {
   "interpreter": {
    "hash": "534d4e8b37863f4f5932f7cc25a9e87e2170c9c2a9fe02ecf0dcf4a0cfc94044"
   }
  }
 },
 "nbformat": 4,
 "nbformat_minor": 2
}
