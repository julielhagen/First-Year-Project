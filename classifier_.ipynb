{
 "cells": [
  {
   "cell_type": "markdown",
   "metadata": {},
   "source": [
    "### Imports"
   ]
  },
  {
   "cell_type": "code",
   "execution_count": 53,
   "metadata": {},
   "outputs": [],
   "source": [
    "import pandas as pd\n",
    "import numpy as np\n",
    "\n",
    "from sklearn.model_selection import train_test_split\n",
    "\n",
    "from sklearn.preprocessing import StandardScaler\n",
    "from sklearn.decomposition import PCA\n",
    "\n",
    "from sklearn.feature_selection import SelectKBest,mutual_info_classif\n",
    "\n",
    "from sklearn.model_selection import StratifiedGroupKFold\n",
    "from sklearn.neighbors import KNeighborsClassifier\n",
    "from sklearn.svm import LinearSVC\n",
    "\n",
    "from sklearn.metrics import accuracy_score, recall_score, precision_score, roc_auc_score\n",
    "from sklearn.model_selection import cross_validate\n",
    "from sklearn.linear_model import LogisticRegression\n",
    "\n"
   ]
  },
  {
   "cell_type": "markdown",
   "metadata": {},
   "source": [
    "## File handling "
   ]
  },
  {
   "cell_type": "code",
   "execution_count": 16,
   "metadata": {},
   "outputs": [],
   "source": [
    "# Extracting found features for each lesions with mask\n",
    "file_features = \"feature_data.csv\"\n",
    "\n",
    "# Naming of features\n",
    "feature_names = ['assymmetry', 'red_var', 'green_var', 'blue_var', \\\n",
    "    'hue_var', 'sat_var', 'val_var', 'dom_hue', 'dom_sat', 'dom_val', \\\n",
    "    'compactness', 'convexity']\n",
    "\n",
    "# Creating data frame for features with mask \n",
    "df_features = pd.read_csv(file_features)\n",
    "\n",
    "# Loading in meta data for lesions with masks\n",
    "file_data = 'metadata_withmasks.csv'\n",
    "df = pd.read_csv(file_data)\n",
    "df = df[df['mask'] == 1]\n",
    "\n",
    "# Creating labels\n",
    "labels = np.array(df['diagnostic'])"
   ]
  },
  {
   "cell_type": "code",
   "execution_count": 60,
   "metadata": {},
   "outputs": [
    {
     "data": {
      "text/plain": [
       "(92, 12)"
      ]
     },
     "execution_count": 60,
     "metadata": {},
     "output_type": "execute_result"
    }
   ],
   "source": [
    "#Preparing data to be split\n",
    "X = np.array(df_features[feature_names])\n",
    "y =  (labels == 'BCC') | (labels == 'SCC') | (labels == 'MEL')   #now True means healthy nevus, False means something else\n",
    "patient_id = df['patient_id']"
   ]
  },
  {
   "cell_type": "markdown",
   "metadata": {},
   "source": [
    "## PCA Approach "
   ]
  },
  {
   "cell_type": "code",
   "execution_count": 33,
   "metadata": {},
   "outputs": [],
   "source": [
    "# standardizing X data  \n",
    "std_scl = StandardScaler()\n",
    "X_std = std_scl.fit_transform(X)"
   ]
  },
  {
   "cell_type": "code",
   "execution_count": 179,
   "metadata": {},
   "outputs": [],
   "source": [
    "#Splitting data into trainning and test data\n",
    "X_train_std, X_test_std, y_train, y_test = train_test_split(X_std, y, test_size=0.2, random_state=1, stratify=y)"
   ]
  },
  {
   "cell_type": "code",
   "execution_count": 180,
   "metadata": {},
   "outputs": [],
   "source": [
    "# Creating PCA class\n",
    "pca = PCA(n_components=5)\n",
    "\n",
    "# Fitting PCA class for the training set\n",
    "pca.fit(X_train_std)\n",
    "\n",
    "# Transforming all X with the PCA class\n",
    "X_train_pca = pca.transform(X_train_std)\n",
    "X_test_pca = pca.transform(X_test_std)"
   ]
  },
  {
   "cell_type": "markdown",
   "metadata": {},
   "source": [
    "## SelectKBest Approach"
   ]
  },
  {
   "cell_type": "code",
   "execution_count": 168,
   "metadata": {},
   "outputs": [],
   "source": [
    "# Splitting data into training and test data\n",
    "X_train, X_test, y_train, y_test = train_test_split(X_std, y, test_size=0.2, random_state=1, stratify=y)"
   ]
  },
  {
   "cell_type": "code",
   "execution_count": 171,
   "metadata": {},
   "outputs": [],
   "source": [
    "feature_selector = SelectKBest(mutual_info_classif, k=5)\n",
    "feature_selector.fit(X_train, y_train)\n",
    "\n",
    "X_train_adj = feature_selector.transform(X_train)\n",
    "X_test_adj = feature_selector.transform(X_test)"
   ]
  },
  {
   "cell_type": "markdown",
   "metadata": {},
   "source": [
    "## Classifier "
   ]
  },
  {
   "cell_type": "code",
   "execution_count": 297,
   "metadata": {},
   "outputs": [],
   "source": [
    "#Different classifiers to test out\n",
    "# classifiers = [\n",
    "#     KNeighborsClassifier(),\n",
    "#     KNeighborsClassifier(10),\n",
    "#     LinearSVC(max_iter = 5000),\n",
    "#     LogisticRegression()\n",
    "# ]\n",
    "classifiers = [\n",
    "    KNeighborsClassifier(n_neighbors=3),\n",
    "    KNeighborsClassifier(n_neighbors=5),\n",
    "    KNeighborsClassifier(n_neighbors=7),\n",
    "    LogisticRegression(),\n",
    "    LinearSVC(max_iter = 5000)\n",
    "]"
   ]
  },
  {
   "cell_type": "code",
   "execution_count": null,
   "metadata": {},
   "outputs": [],
   "source": [
    "from sklearn.model_selection import StratifiedShuffleSplit\n",
    "\n",
    "num_folds = 5\n",
    "sss = StratifiedShuffleSplit(n_splits = num_folds)\n",
    "sgkf = StratifiedGroupKFold(n_splits= num_folds)\n",
    "\n",
    "\n",
    "cv_result = cross_validate(KNeighborsClassifier(), X_train_pca, y_train, scoring=\"accuracy\", cv=sgkf)\n",
    "cv_result"
   ]
  },
  {
   "cell_type": "code",
   "execution_count": 300,
   "metadata": {},
   "outputs": [],
   "source": [
    "def evaluate_classifiers(X_train, y_train, classifiers):\n",
    "    scores = ['accuracy', 'recall', 'precision', 'roc_auc']\n",
    "\n",
    "\n",
    "    num_folds = 5\n",
    "    cross_val = StratifiedShuffleSplit(n_splits = num_folds)\n",
    "\n",
    "    evaluation_results = {}\n",
    "\n",
    "    for classifier in classifiers:\n",
    "        cv_results = cross_validate(classifier, X_train, y_train, scoring=scores, cv=cross_val)\n",
    "\n",
    "        if type(classifier).__name__ == \"KNeighborsClassifier\":\n",
    "            classifier_name = type(classifier).__name__\n",
    "            params_dict = classifier.get_params()\n",
    "            n_neigbors = params_dict[\"n_neighbors\"]\n",
    "            classifier_name = f\"{classifier_name} with n_neighbors: {n_neigbors}\"\n",
    "        else:\n",
    "            classifier_name = type(classifier).__name__\n",
    "\n",
    "        evaluation_results[classifier_name] = {\n",
    "            'Accuracy': cv_results['test_accuracy'].mean(),\n",
    "            'Recall': cv_results['test_recall'].mean(),\n",
    "            'Precision': cv_results['test_precision'].mean(),\n",
    "            'ROC AUC': cv_results['test_roc_auc'].mean()\n",
    "\n",
    "        }\n",
    "\n",
    "    # for classifier in classifiers:\n",
    "    #     cv_results = cross_validate(classifier, X_train, y_train, scoring=scores, cv=cross_val)\n",
    "    #     classifier_name = type(classifier).__name__\n",
    "        \n",
    "    #     results[classifier_name] = {\n",
    "    #         'Accuracy': cv_results['test_accuracy'].mean(),\n",
    "    #         'Recall': cv_results['test_recall'].mean(),\n",
    "    #         'Precision': cv_results['test_precision'].mean(),\n",
    "    #         'ROC AUC': cv_results['test_roc_auc'].mean()\n",
    "    #     }\n",
    "\n",
    "    return evaluation_results"
   ]
  },
  {
   "cell_type": "code",
   "execution_count": 301,
   "metadata": {},
   "outputs": [
    {
     "data": {
      "text/plain": [
       "{'KNeighborsClassifier with n_neighbors: 3': {'Accuracy': 0.375,\n",
       "  'Recall': 0.3,\n",
       "  'Precision': 0.32999999999999996,\n",
       "  'ROC AUC': 0.31875},\n",
       " 'KNeighborsClassifier with n_neighbors: 5': {'Accuracy': 0.375,\n",
       "  'Recall': 0.25,\n",
       "  'Precision': 0.2966666666666667,\n",
       "  'ROC AUC': 0.375},\n",
       " 'KNeighborsClassifier with n_neighbors: 7': {'Accuracy': 0.475,\n",
       "  'Recall': 0.3,\n",
       "  'Precision': 0.4333333333333333,\n",
       "  'ROC AUC': 0.50625},\n",
       " 'LogisticRegression': {'Accuracy': 0.675,\n",
       "  'Recall': 0.55,\n",
       "  'Precision': 0.7333333333333333,\n",
       "  'ROC AUC': 0.6375},\n",
       " 'LinearSVC': {'Accuracy': 0.675,\n",
       "  'Recall': 0.5,\n",
       "  'Precision': 0.7833333333333333,\n",
       "  'ROC AUC': 0.6125}}"
      ]
     },
     "execution_count": 301,
     "metadata": {},
     "output_type": "execute_result"
    }
   ],
   "source": [
    "evaluation_results = evaluate_classifiers(X_train_pca, y_train, classifiers)\n",
    "\n",
    "evaluation_results"
   ]
  },
  {
   "cell_type": "code",
   "execution_count": 302,
   "metadata": {},
   "outputs": [
    {
     "name": "stdout",
     "output_type": "stream",
     "text": [
      "KNeighborsClassifier with n_neighbors: 3\n",
      "Accuracy: 0.3750\n",
      "Recall: 0.3000\n",
      "Precision: 0.3300\n",
      "ROC AUC: 0.3187\n",
      "\n",
      "KNeighborsClassifier with n_neighbors: 5\n",
      "Accuracy: 0.3750\n",
      "Recall: 0.2500\n",
      "Precision: 0.2967\n",
      "ROC AUC: 0.3750\n",
      "\n",
      "KNeighborsClassifier with n_neighbors: 7\n",
      "Accuracy: 0.4750\n",
      "Recall: 0.3000\n",
      "Precision: 0.4333\n",
      "ROC AUC: 0.5062\n",
      "\n",
      "LogisticRegression\n",
      "Accuracy: 0.6750\n",
      "Recall: 0.5500\n",
      "Precision: 0.7333\n",
      "ROC AUC: 0.6375\n",
      "\n",
      "LinearSVC\n",
      "Accuracy: 0.6750\n",
      "Recall: 0.5000\n",
      "Precision: 0.7833\n",
      "ROC AUC: 0.6125\n",
      "\n"
     ]
    }
   ],
   "source": [
    "for classifier, scores in evaluation_results.items():\n",
    "    print(classifier)\n",
    "    for metric, score in scores.items():\n",
    "        print(f'{metric}: {score:.4f}')\n",
    "    print()"
   ]
  },
  {
   "cell_type": "code",
   "execution_count": 308,
   "metadata": {},
   "outputs": [
    {
     "name": "stdout",
     "output_type": "stream",
     "text": [
      "KNeighborsClassifier with n_neighbors: 5\n",
      "KNeighborsClassifier with n_neighbors: 7\n"
     ]
    }
   ],
   "source": [
    "classifiers_trained = [\n",
    "    KNeighborsClassifier(n_neighbors=5).fit(X_train_adj, y_train),\n",
    "    KNeighborsClassifier(n_neighbors=7).fit(X_train_adj, y_train),\n",
    "    LinearSVC(max_iter = 5000).fit(X_train_adj, y_train),\n",
    "    LogisticRegression().fit(X_train_adj, y_train)\n",
    "]\n",
    "\n",
    "\n",
    "for clf in classifiers_trained:\n",
    "    if type(clf).__name__ == \"KNeighborsClassifier\":\n",
    "        classifier_name = type(clf).__name__\n",
    "        params_dict = clf.get_params()\n",
    "        n_neigbors = params_dict[\"n_neighbors\"]\n",
    "        classifier_name = f\"{classifier_name} with n_neighbors: {n_neigbors}\"\n",
    "        print(classifier_name)\n"
   ]
  },
  {
   "cell_type": "code",
   "execution_count": 304,
   "metadata": {},
   "outputs": [],
   "source": [
    "def evaluate_test_data(X_test, y_true, classifiers):\n",
    "\n",
    "    results = {}\n",
    "    for clf in classifiers:\n",
    "        y_pred = clf.predict(X_test)\n",
    "\n",
    "        if type(clf).__name__ == \"KNeighborsClassifier\":\n",
    "            classifier_name = type(clf).__name__\n",
    "            params_dict = clf.get_params()\n",
    "            n_neigbors = params_dict[\"n_neighbors\"]\n",
    "            classifier_name = f\"{classifier_name} with n_neighbors: {n_neigbors}\"\n",
    "        else:\n",
    "            classifier_name = type(clf).__name__\n",
    "  \n",
    "        \n",
    "        results[classifier_name] = {\n",
    "            'Accuracy': round(accuracy_score(y_true, y_pred), 3),\n",
    "            'Recall': round(recall_score(y_true, y_pred), 3),\n",
    "            'Precision': round(precision_score(y_true, y_pred), 3),\n",
    "        }\n",
    "    return results"
   ]
  },
  {
   "cell_type": "code",
   "execution_count": 305,
   "metadata": {},
   "outputs": [
    {
     "data": {
      "text/plain": [
       "{'KNeighborsClassifier with n_neighbors: 5': {'Accuracy': 0.684,\n",
       "  'Recall': 0.667,\n",
       "  'Precision': 0.667},\n",
       " 'KNeighborsClassifier with n_neighbors: 7': {'Accuracy': 0.684,\n",
       "  'Recall': 0.667,\n",
       "  'Precision': 0.667},\n",
       " 'LinearSVC': {'Accuracy': 0.684, 'Recall': 0.444, 'Precision': 0.8},\n",
       " 'LogisticRegression': {'Accuracy': 0.684, 'Recall': 0.444, 'Precision': 0.8}}"
      ]
     },
     "execution_count": 305,
     "metadata": {},
     "output_type": "execute_result"
    }
   ],
   "source": [
    "results = evaluate_test_data(X_test_adj, y_test, classifiers_trained)\n",
    "\n",
    "results"
   ]
  },
  {
   "cell_type": "code",
   "execution_count": 306,
   "metadata": {},
   "outputs": [
    {
     "name": "stdout",
     "output_type": "stream",
     "text": [
      "KNeighborsClassifier with n_neighbors: 5\n",
      "Accuracy: 0.6840\n",
      "Recall: 0.6670\n",
      "Precision: 0.6670\n",
      "\n",
      "KNeighborsClassifier with n_neighbors: 7\n",
      "Accuracy: 0.6840\n",
      "Recall: 0.6670\n",
      "Precision: 0.6670\n",
      "\n",
      "LinearSVC\n",
      "Accuracy: 0.6840\n",
      "Recall: 0.4440\n",
      "Precision: 0.8000\n",
      "\n",
      "LogisticRegression\n",
      "Accuracy: 0.6840\n",
      "Recall: 0.4440\n",
      "Precision: 0.8000\n",
      "\n"
     ]
    }
   ],
   "source": [
    "for classifier, scores in results.items():\n",
    "    print(classifier)\n",
    "    for metric, score in scores.items():\n",
    "        print(f'{metric}: {score:.4f}')\n",
    "    print()"
   ]
  }
 ],
 "metadata": {
  "kernelspec": {
   "display_name": "Python 3.9.12 ('base')",
   "language": "python",
   "name": "python3"
  },
  "language_info": {
   "codemirror_mode": {
    "name": "ipython",
    "version": 3
   },
   "file_extension": ".py",
   "mimetype": "text/x-python",
   "name": "python",
   "nbconvert_exporter": "python",
   "pygments_lexer": "ipython3",
   "version": "3.9.12"
  },
  "orig_nbformat": 4,
  "vscode": {
   "interpreter": {
    "hash": "534d4e8b37863f4f5932f7cc25a9e87e2170c9c2a9fe02ecf0dcf4a0cfc94044"
   }
  }
 },
 "nbformat": 4,
 "nbformat_minor": 2
}
