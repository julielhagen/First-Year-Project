{
 "cells": [
  {
   "cell_type": "code",
   "execution_count": 3,
   "id": "0a653aab",
   "metadata": {},
   "outputs": [],
   "source": [
    "import os\n",
    "from os.path import isfile, join\n",
    "import pandas as pd\n",
    "import numpy as np\n",
    "from prep_image import prep_im_and_mask\n",
    "import matplotlib.pyplot as plt\n",
    "\n",
    "from asymmetry import mean_asymmetry\n",
    "from color import color_var\n",
    "from compactness import compactness_score\n",
    "from convexity import convexity_score"
   ]
  },
  {
   "attachments": {},
   "cell_type": "markdown",
   "id": "153887bd",
   "metadata": {},
   "source": [
    "## Extract features"
   ]
  },
  {
   "cell_type": "code",
   "execution_count": 2,
   "id": "a393e61b",
   "metadata": {},
   "outputs": [],
   "source": [
    "def extract_features(im, im_mask):\n",
    "    \n",
    "    # Assymmetry\n",
    "    asymmetry = mean_asymmetry(im_mask)\n",
    "    \n",
    "    # Color\n",
    "    col_r, col_g, col_b = color_var(im, im_mask)\n",
    "    \n",
    "    # Compactness\n",
    "    compactness = compactness_score(im_mask)\n",
    "    \n",
    "    # Convexity\n",
    "    convexity = convexity_score(im_mask)\n",
    "    \n",
    "    return np.array([asymmetry, col_r, col_g, col_b, compactness, convexity], dtype=np.float16)"
   ]
  },
  {
   "attachments": {},
   "cell_type": "markdown",
   "id": "afa2b8b8",
   "metadata": {},
   "source": [
    "## Process Images"
   ]
  },
  {
   "cell_type": "code",
   "execution_count": 7,
   "id": "157a30c7",
   "metadata": {},
   "outputs": [],
   "source": [
    "file_data = 'metadata_withmasks.csv'\n",
    "image_folder = 'test_images' + os.sep\n",
    "mask_folder = 'test_images_masks' + os.sep\n",
    "file_features = 'feature_data.csv'"
   ]
  },
  {
   "cell_type": "code",
   "execution_count": 4,
   "id": "50a56102",
   "metadata": {},
   "outputs": [],
   "source": [
    "# Extract image ids and labels\n",
    "df = pd.read_csv(file_data)\n",
    "\n",
    "# Remove images without masks\n",
    "df_mask = df['mask'] == 1\n",
    "df = df.loc[df_mask]\n",
    "\n",
    "labels = list(df['diagnostic'])"
   ]
  },
  {
   "cell_type": "code",
   "execution_count": 5,
   "id": "00d46a23",
   "metadata": {},
   "outputs": [],
   "source": [
    "# Extract feature\n",
    "feature_names = ['assymmetry', 'color_r', 'color_g', 'color_b', 'compactness', 'convexity']\n",
    "features_n = len(feature_names)\n",
    "features = np.zeros(shape = [len(df), features_n], dtype = np.float16)"
   ]
  },
  {
   "cell_type": "code",
   "execution_count": 1,
   "id": "af1be068",
   "metadata": {},
   "outputs": [
    {
     "ename": "NameError",
     "evalue": "name 'df' is not defined",
     "output_type": "error",
     "traceback": [
      "\u001b[0;31m---------------------------------------------------------------------------\u001b[0m",
      "\u001b[0;31mNameError\u001b[0m                                 Traceback (most recent call last)",
      "\u001b[1;32m/Users/sanderengelthilo/Documents/ITU/first_year_project/Project-2/Main.ipynb Cell 8\u001b[0m in \u001b[0;36m<cell line: 3>\u001b[0;34m()\u001b[0m\n\u001b[1;32m      <a href='vscode-notebook-cell:/Users/sanderengelthilo/Documents/ITU/first_year_project/Project-2/Main.ipynb#X10sZmlsZQ%3D%3D?line=0'>1</a>\u001b[0m \u001b[39m# Extract features\u001b[39;00m\n\u001b[1;32m      <a href='vscode-notebook-cell:/Users/sanderengelthilo/Documents/ITU/first_year_project/Project-2/Main.ipynb#X10sZmlsZQ%3D%3D?line=1'>2</a>\u001b[0m images \u001b[39m=\u001b[39m []\n\u001b[0;32m----> <a href='vscode-notebook-cell:/Users/sanderengelthilo/Documents/ITU/first_year_project/Project-2/Main.ipynb#X10sZmlsZQ%3D%3D?line=2'>3</a>\u001b[0m \u001b[39mfor\u001b[39;00m i, \u001b[39mid\u001b[39m \u001b[39min\u001b[39;00m \u001b[39menumerate\u001b[39m(\u001b[39mlist\u001b[39m(df[\u001b[39m'\u001b[39m\u001b[39mimg_id\u001b[39m\u001b[39m'\u001b[39m])):\n\u001b[1;32m      <a href='vscode-notebook-cell:/Users/sanderengelthilo/Documents/ITU/first_year_project/Project-2/Main.ipynb#X10sZmlsZQ%3D%3D?line=4'>5</a>\u001b[0m     im, mask \u001b[39m=\u001b[39m prep_im_and_mask(\u001b[39mid\u001b[39m, image_folder, mask_folder)\n\u001b[1;32m      <a href='vscode-notebook-cell:/Users/sanderengelthilo/Documents/ITU/first_year_project/Project-2/Main.ipynb#X10sZmlsZQ%3D%3D?line=5'>6</a>\u001b[0m     images\u001b[39m.\u001b[39mappend(im)\n",
      "\u001b[0;31mNameError\u001b[0m: name 'df' is not defined"
     ]
    }
   ],
   "source": [
    "# Extract features\n",
    "images = []\n",
    "for i, id in enumerate(list(df['img_id'])):\n",
    "    \n",
    "    im, mask = prep_im_and_mask(id, image_folder, mask_folder)\n",
    "    images.append(im)\n",
    "\n",
    "    # Extract features\n",
    "    x = extract_features(im, mask)\n",
    "    features[i,:] = x"
   ]
  },
  {
   "cell_type": "code",
   "execution_count": null,
   "id": "e53090eb",
   "metadata": {},
   "outputs": [],
   "source": [
    "list(df[\"img_id\"])\n"
   ]
  },
  {
   "cell_type": "code",
   "execution_count": null,
   "id": "e2269060",
   "metadata": {},
   "outputs": [],
   "source": [
    "# Save image_ids and features in a file\n",
    "df_features = pd.DataFrame(features, columns = feature_names)\n",
    "df_features.to_csv(file_features, index = False)"
   ]
  },
  {
   "attachments": {},
   "cell_type": "markdown",
   "id": "fab39146",
   "metadata": {},
   "source": [
    "## Train classifier"
   ]
  },
  {
   "cell_type": "code",
   "execution_count": null,
   "id": "9c27c056",
   "metadata": {},
   "outputs": [],
   "source": [
    "import os\n",
    "import pandas as pd\n",
    "import numpy as np\n",
    "\n",
    "# Default packages for the minimum example\n",
    "from sklearn.neighbors import KNeighborsClassifier\n",
    "from sklearn.model_selection import GroupKFold, train_test_split\n",
    "from sklearn.metrics import accuracy_score #example for measuring performance\n",
    "\n",
    "\n",
    "import pickle #for saving/loading trained classifiers"
   ]
  },
  {
   "cell_type": "code",
   "execution_count": null,
   "id": "e05679bd",
   "metadata": {},
   "outputs": [],
   "source": [
    "# Train-test split\n",
    "#X_train, X_test, y_train, y_test = train_test_split(features, y, test_size= 0.2, random_state = 1, stratify = y)\n",
    "\n",
    "folds = 5\n",
    "group_kfold = GroupKFold(n_splits=folds)\n",
    "group_kfold.get_n_splits(x, , patient_id)"
   ]
  },
  {
   "cell_type": "code",
   "execution_count": null,
   "id": "f5c5caac",
   "metadata": {},
   "outputs": [],
   "source": [
    "clf = KNeighborsClassifier(n_neighbors = 10)\n",
    "\n",
    "# Train it --> need to define y first\n",
    "clf.fit(X_train_transformed, y_train)\n",
    "\n",
    "# Predict on validation dataset and measure accuracy, f1-score\n",
    "clf.predict(X_test_transformed);\n",
    "\n",
    "print(clf.score(X_test_transformed, y_test))"
   ]
  },
  {
   "cell_type": "code",
   "execution_count": null,
   "id": "6e1079f1",
   "metadata": {},
   "outputs": [],
   "source": []
  },
  {
   "cell_type": "code",
   "execution_count": null,
   "id": "f4e27f1e",
   "metadata": {},
   "outputs": [],
   "source": []
  },
  {
   "cell_type": "code",
   "execution_count": null,
   "id": "f6562482",
   "metadata": {},
   "outputs": [],
   "source": []
  },
  {
   "cell_type": "code",
   "execution_count": null,
   "id": "3a5bd543",
   "metadata": {},
   "outputs": [],
   "source": []
  },
  {
   "cell_type": "code",
   "execution_count": null,
   "id": "f34a603d",
   "metadata": {},
   "outputs": [],
   "source": []
  },
  {
   "cell_type": "code",
   "execution_count": null,
   "id": "e49d933c",
   "metadata": {},
   "outputs": [],
   "source": []
  },
  {
   "cell_type": "code",
   "execution_count": null,
   "id": "9821b112",
   "metadata": {},
   "outputs": [],
   "source": []
  },
  {
   "attachments": {},
   "cell_type": "markdown",
   "id": "cc76bd46",
   "metadata": {},
   "source": [
    "## Evaluate classifier"
   ]
  },
  {
   "cell_type": "code",
   "execution_count": null,
   "id": "5fd80a48",
   "metadata": {},
   "outputs": [],
   "source": [
    "import pickle #for loading your trained classifier\n",
    "\n",
    "from extract_features import extract_features #our feature extraction\n",
    "\n",
    "# The function that should classify new images. \n",
    "# The image and mask are the same size, and are already loaded using plt.imread\n",
    "def classify(img, mask):\n",
    "    \n",
    "    \n",
    "     #Resize the image etc, if you did that during training\n",
    "    \n",
    "     #Extract features (the same ones that you used for training)\n",
    "     x = extract_features(img, mask)\n",
    "         \n",
    "     \n",
    "     #Load the trained classifier\n",
    "     classifier = pickle.load(open('groupXY_classifier.sav', 'rb'))\n",
    "    \n",
    "    \n",
    "     #Use it on this example to predict the label AND posterior probability\n",
    "     pred_label = classifier.predict(x)\n",
    "     pred_prob = classifier.predict_proba(x)\n",
    "     \n",
    "     \n",
    "     #print('predicted label is ', pred_label)\n",
    "     #print('predicted probability is ', pred_prob)\n",
    "     return pred_label, pred_prob"
   ]
  },
  {
   "cell_type": "code",
   "execution_count": null,
   "id": "7090012a",
   "metadata": {},
   "outputs": [],
   "source": [
    "# Call in a loop"
   ]
  }
 ],
 "metadata": {
  "kernelspec": {
   "display_name": "Python 3 (ipykernel)",
   "language": "python",
   "name": "python3"
  },
  "language_info": {
   "codemirror_mode": {
    "name": "ipython",
    "version": 3
   },
   "file_extension": ".py",
   "mimetype": "text/x-python",
   "name": "python",
   "nbconvert_exporter": "python",
   "pygments_lexer": "ipython3",
   "version": "3.9.12"
  }
 },
 "nbformat": 4,
 "nbformat_minor": 5
}
