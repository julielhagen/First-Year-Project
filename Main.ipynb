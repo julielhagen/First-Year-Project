{
 "cells": [
  {
   "cell_type": "code",
   "execution_count": 21,
   "id": "0a653aab",
   "metadata": {},
   "outputs": [],
   "source": [
    "import os\n",
    "from os.path import isfile, join\n",
    "import pandas as pd\n",
    "import numpy as np\n",
    "from prep_image import prep_im_and_mask\n",
    "import matplotlib.pyplot as plt\n",
    "\n",
    "from asymmetry import mean_asymmetry\n",
    "from color import slic_segmentation, rgb_var\n",
    "from compactness import compactness_score\n",
    "from convexity import convexity_score"
   ]
  },
  {
   "cell_type": "markdown",
   "id": "153887bd",
   "metadata": {},
   "source": [
    "## Extract features"
   ]
  },
  {
   "cell_type": "code",
   "execution_count": 22,
   "id": "a393e61b",
   "metadata": {},
   "outputs": [],
   "source": [
    "def extract_features(im, im_mask):\n",
    "    \n",
    "    # Assymmetry\n",
    "    asymmetry = mean_asymmetry(im_mask,4)\n",
    "    \n",
    "    # Color\n",
    "    segments = slic_segmentation(im, im_mask)\n",
    "    col_r, col_g, col_b = rgb_var(im, segments)\n",
    "    \n",
    "    # Compactness\n",
    "    compactness = compactness_score(im_mask)\n",
    "    \n",
    "    # Convexity\n",
    "    convexity = convexity_score(im_mask)\n",
    "    \n",
    "    return np.array([asymmetry, col_r, col_g, col_b, compactness, convexity], dtype=np.float16)"
   ]
  },
  {
   "cell_type": "markdown",
   "id": "afa2b8b8",
   "metadata": {},
   "source": [
    "## Process Images"
   ]
  },
  {
   "cell_type": "code",
   "execution_count": 23,
   "id": "157a30c7",
   "metadata": {},
   "outputs": [],
   "source": [
    "file_data = 'metadata_withmasks.csv'\n",
    "image_folder = 'test_images' + os.sep\n",
    "mask_folder = 'test_images_masks' + os.sep\n",
    "file_features = 'feature_data.csv'"
   ]
  },
  {
   "cell_type": "code",
   "execution_count": 24,
   "id": "50a56102",
   "metadata": {},
   "outputs": [],
   "source": [
    "# Extract image ids and labels\n",
    "df = pd.read_csv(file_data)\n",
    "\n",
    "# Remove images without masks\n",
    "df_mask = df['mask'] == 1\n",
    "df = df.loc[df_mask]\n",
    "\n",
    "labels = list(df['diagnostic'])"
   ]
  },
  {
   "cell_type": "code",
   "execution_count": 25,
   "id": "00d46a23",
   "metadata": {},
   "outputs": [],
   "source": [
    "# Extract feature\n",
    "feature_names = ['assymmetry', 'color_r', 'color_g', 'color_b', 'compactness', 'convexity']\n",
    "features_n = len(feature_names)\n",
    "features = np.zeros(shape = [len(df), features_n], dtype = np.float16)"
   ]
  },
  {
   "cell_type": "code",
   "execution_count": 26,
   "id": "af1be068",
   "metadata": {},
   "outputs": [
    {
     "ename": "KeyboardInterrupt",
     "evalue": "",
     "output_type": "error",
     "traceback": [
      "\u001b[1;31m-------------------------------------------------------------------------\u001b[0m",
      "\u001b[1;31mKeyboardInterrupt\u001b[0m                       Traceback (most recent call last)",
      "Input \u001b[1;32mIn [26]\u001b[0m, in \u001b[0;36m<cell line: 3>\u001b[1;34m()\u001b[0m\n\u001b[0;32m      6\u001b[0m images\u001b[38;5;241m.\u001b[39mappend(im)\n\u001b[0;32m      8\u001b[0m \u001b[38;5;66;03m# Extract features\u001b[39;00m\n\u001b[1;32m----> 9\u001b[0m x \u001b[38;5;241m=\u001b[39m \u001b[43mextract_features\u001b[49m\u001b[43m(\u001b[49m\u001b[43mim\u001b[49m\u001b[43m,\u001b[49m\u001b[43m \u001b[49m\u001b[43mmask\u001b[49m\u001b[43m)\u001b[49m\n\u001b[0;32m     10\u001b[0m features[i,:] \u001b[38;5;241m=\u001b[39m x\n",
      "Input \u001b[1;32mIn [22]\u001b[0m, in \u001b[0;36mextract_features\u001b[1;34m(im, im_mask)\u001b[0m\n\u001b[0;32m      4\u001b[0m asymmetry \u001b[38;5;241m=\u001b[39m mean_asymmetry(im_mask,\u001b[38;5;241m4\u001b[39m)\n\u001b[0;32m      6\u001b[0m \u001b[38;5;66;03m# Color\u001b[39;00m\n\u001b[1;32m----> 7\u001b[0m segments \u001b[38;5;241m=\u001b[39m \u001b[43mslic_segmentation\u001b[49m\u001b[43m(\u001b[49m\u001b[43mim\u001b[49m\u001b[43m,\u001b[49m\u001b[43m \u001b[49m\u001b[43mim_mask\u001b[49m\u001b[43m)\u001b[49m\n\u001b[0;32m      8\u001b[0m col_r, col_g, col_b \u001b[38;5;241m=\u001b[39m rgb_var(im, segments)\n\u001b[0;32m     10\u001b[0m \u001b[38;5;66;03m# Compactness\u001b[39;00m\n",
      "File \u001b[1;32m~\\OneDrive\\Dokumenter\\GitHub\\First-Year-Project\\color.py:47\u001b[0m, in \u001b[0;36mslic_segmentation\u001b[1;34m(image, mask, n_segments, compactness)\u001b[0m\n\u001b[0;32m     31\u001b[0m \u001b[38;5;28;01mdef\u001b[39;00m \u001b[38;5;21mslic_segmentation\u001b[39m(image, mask, n_segments \u001b[38;5;241m=\u001b[39m \u001b[38;5;241m50\u001b[39m, compactness \u001b[38;5;241m=\u001b[39m \u001b[38;5;241m0.1\u001b[39m):\n\u001b[0;32m     32\u001b[0m     \u001b[38;5;124;03m'''Get color segments of lesion from SLIC algorithm. \u001b[39;00m\n\u001b[0;32m     33\u001b[0m \u001b[38;5;124;03m    Optional argument n_segments (defualt 50) defines desired amount of segments.\u001b[39;00m\n\u001b[0;32m     34\u001b[0m \u001b[38;5;124;03m    Optional argument compactness (defualt 0.1) defines balance between color \u001b[39;00m\n\u001b[1;32m   (...)\u001b[0m\n\u001b[0;32m     45\u001b[0m \u001b[38;5;124;03m        slic_segments (numpy.ndarray): SLIC color segments.\u001b[39;00m\n\u001b[0;32m     46\u001b[0m \u001b[38;5;124;03m    '''\u001b[39;00m\n\u001b[1;32m---> 47\u001b[0m     slic_segments \u001b[38;5;241m=\u001b[39m \u001b[43mslic\u001b[49m\u001b[43m(\u001b[49m\u001b[43mimage\u001b[49m\u001b[43m,\u001b[49m\n\u001b[0;32m     48\u001b[0m \u001b[43m                    \u001b[49m\u001b[43mn_segments\u001b[49m\u001b[43m \u001b[49m\u001b[38;5;241;43m=\u001b[39;49m\u001b[43m \u001b[49m\u001b[43mn_segments\u001b[49m\u001b[43m,\u001b[49m\n\u001b[0;32m     49\u001b[0m \u001b[43m                    \u001b[49m\u001b[43mcompactness\u001b[49m\u001b[43m \u001b[49m\u001b[38;5;241;43m=\u001b[39;49m\u001b[43m \u001b[49m\u001b[43mcompactness\u001b[49m\u001b[43m,\u001b[49m\n\u001b[0;32m     50\u001b[0m \u001b[43m                    \u001b[49m\u001b[43msigma\u001b[49m\u001b[43m \u001b[49m\u001b[38;5;241;43m=\u001b[39;49m\u001b[43m \u001b[49m\u001b[38;5;241;43m1\u001b[39;49m\u001b[43m,\u001b[49m\n\u001b[0;32m     51\u001b[0m \u001b[43m                    \u001b[49m\u001b[43mmask\u001b[49m\u001b[43m \u001b[49m\u001b[38;5;241;43m=\u001b[39;49m\u001b[43m \u001b[49m\u001b[43mmask\u001b[49m\u001b[43m,\u001b[49m\n\u001b[0;32m     52\u001b[0m \u001b[43m                    \u001b[49m\u001b[43mstart_label\u001b[49m\u001b[43m \u001b[49m\u001b[38;5;241;43m=\u001b[39;49m\u001b[43m \u001b[49m\u001b[38;5;241;43m1\u001b[39;49m\u001b[43m,\u001b[49m\n\u001b[0;32m     53\u001b[0m \u001b[43m                    \u001b[49m\u001b[43mchannel_axis\u001b[49m\u001b[43m \u001b[49m\u001b[38;5;241;43m=\u001b[39;49m\u001b[43m \u001b[49m\u001b[38;5;241;43m2\u001b[39;49m\u001b[43m)\u001b[49m\n\u001b[0;32m     55\u001b[0m     \u001b[38;5;28;01mreturn\u001b[39;00m slic_segments\n",
      "File \u001b[1;32m~\\anaconda3\\lib\\site-packages\\skimage\\_shared\\utils.py:427\u001b[0m, in \u001b[0;36mchannel_as_last_axis.__call__.<locals>.fixed_func\u001b[1;34m(*args, **kwargs)\u001b[0m\n\u001b[0;32m    424\u001b[0m kwargs[\u001b[38;5;124m\"\u001b[39m\u001b[38;5;124mchannel_axis\u001b[39m\u001b[38;5;124m\"\u001b[39m] \u001b[38;5;241m=\u001b[39m \u001b[38;5;241m-\u001b[39m\u001b[38;5;241m1\u001b[39m\n\u001b[0;32m    426\u001b[0m \u001b[38;5;66;03m# Call the function with the fixed arguments\u001b[39;00m\n\u001b[1;32m--> 427\u001b[0m out \u001b[38;5;241m=\u001b[39m func(\u001b[38;5;241m*\u001b[39mnew_args, \u001b[38;5;241m*\u001b[39m\u001b[38;5;241m*\u001b[39mkwargs)\n\u001b[0;32m    428\u001b[0m \u001b[38;5;28;01mif\u001b[39;00m \u001b[38;5;28mself\u001b[39m\u001b[38;5;241m.\u001b[39mmultichannel_output:\n\u001b[0;32m    429\u001b[0m     out \u001b[38;5;241m=\u001b[39m np\u001b[38;5;241m.\u001b[39mmoveaxis(out, \u001b[38;5;241m-\u001b[39m\u001b[38;5;241m1\u001b[39m, channel_axis[\u001b[38;5;241m0\u001b[39m])\n",
      "File \u001b[1;32m~\\anaconda3\\lib\\site-packages\\skimage\\_shared\\utils.py:348\u001b[0m, in \u001b[0;36mdeprecate_multichannel_kwarg.__call__.<locals>.fixed_func\u001b[1;34m(*args, **kwargs)\u001b[0m\n\u001b[0;32m    345\u001b[0m     kwargs[\u001b[38;5;124m'\u001b[39m\u001b[38;5;124mchannel_axis\u001b[39m\u001b[38;5;124m'\u001b[39m] \u001b[38;5;241m=\u001b[39m convert[kwargs\u001b[38;5;241m.\u001b[39mpop(\u001b[38;5;124m'\u001b[39m\u001b[38;5;124mmultichannel\u001b[39m\u001b[38;5;124m'\u001b[39m)]\n\u001b[0;32m    347\u001b[0m \u001b[38;5;66;03m# Call the function with the fixed arguments\u001b[39;00m\n\u001b[1;32m--> 348\u001b[0m \u001b[38;5;28;01mreturn\u001b[39;00m func(\u001b[38;5;241m*\u001b[39margs, \u001b[38;5;241m*\u001b[39m\u001b[38;5;241m*\u001b[39mkwargs)\n",
      "File \u001b[1;32m~\\anaconda3\\lib\\site-packages\\skimage\\_shared\\utils.py:282\u001b[0m, in \u001b[0;36mdeprecate_kwarg.__call__.<locals>.fixed_func\u001b[1;34m(*args, **kwargs)\u001b[0m\n\u001b[0;32m    279\u001b[0m         kwargs[new_arg] \u001b[38;5;241m=\u001b[39m kwargs\u001b[38;5;241m.\u001b[39mpop(old_arg)\n\u001b[0;32m    281\u001b[0m \u001b[38;5;66;03m# Call the function with the fixed arguments\u001b[39;00m\n\u001b[1;32m--> 282\u001b[0m \u001b[38;5;28;01mreturn\u001b[39;00m func(\u001b[38;5;241m*\u001b[39margs, \u001b[38;5;241m*\u001b[39m\u001b[38;5;241m*\u001b[39mkwargs)\n",
      "File \u001b[1;32m~\\anaconda3\\lib\\site-packages\\skimage\\segmentation\\slic_superpixels.py:368\u001b[0m, in \u001b[0;36mslic\u001b[1;34m(image, n_segments, compactness, max_num_iter, sigma, spacing, multichannel, convert2lab, enforce_connectivity, min_size_factor, max_size_factor, slic_zero, start_label, mask, channel_axis)\u001b[0m\n\u001b[0;32m    362\u001b[0m \u001b[38;5;28;01mif\u001b[39;00m update_centroids:\n\u001b[0;32m    363\u001b[0m     \u001b[38;5;66;03m# Step 2 of the algorithm [3]_\u001b[39;00m\n\u001b[0;32m    364\u001b[0m     _slic_cython(image, mask, segments, step, max_num_iter, spacing,\n\u001b[0;32m    365\u001b[0m                  slic_zero, ignore_color\u001b[38;5;241m=\u001b[39m\u001b[38;5;28;01mTrue\u001b[39;00m,\n\u001b[0;32m    366\u001b[0m                  start_label\u001b[38;5;241m=\u001b[39mstart_label)\n\u001b[1;32m--> 368\u001b[0m labels \u001b[38;5;241m=\u001b[39m \u001b[43m_slic_cython\u001b[49m\u001b[43m(\u001b[49m\u001b[43mimage\u001b[49m\u001b[43m,\u001b[49m\u001b[43m \u001b[49m\u001b[43mmask\u001b[49m\u001b[43m,\u001b[49m\u001b[43m \u001b[49m\u001b[43msegments\u001b[49m\u001b[43m,\u001b[49m\u001b[43m \u001b[49m\u001b[43mstep\u001b[49m\u001b[43m,\u001b[49m\u001b[43m \u001b[49m\u001b[43mmax_num_iter\u001b[49m\u001b[43m,\u001b[49m\n\u001b[0;32m    369\u001b[0m \u001b[43m                      \u001b[49m\u001b[43mspacing\u001b[49m\u001b[43m,\u001b[49m\u001b[43m \u001b[49m\u001b[43mslic_zero\u001b[49m\u001b[43m,\u001b[49m\u001b[43m \u001b[49m\u001b[43mignore_color\u001b[49m\u001b[38;5;241;43m=\u001b[39;49m\u001b[38;5;28;43;01mFalse\u001b[39;49;00m\u001b[43m,\u001b[49m\n\u001b[0;32m    370\u001b[0m \u001b[43m                      \u001b[49m\u001b[43mstart_label\u001b[49m\u001b[38;5;241;43m=\u001b[39;49m\u001b[43mstart_label\u001b[49m\u001b[43m)\u001b[49m\n\u001b[0;32m    372\u001b[0m \u001b[38;5;28;01mif\u001b[39;00m enforce_connectivity:\n\u001b[0;32m    373\u001b[0m     \u001b[38;5;28;01mif\u001b[39;00m use_mask:\n",
      "\u001b[1;31mKeyboardInterrupt\u001b[0m: "
     ]
    }
   ],
   "source": [
    "# Extract features\n",
    "images = []\n",
    "for i, id in enumerate(list(df['img_id'])):\n",
    "    \n",
    "    im, mask = prep_im_and_mask(id, image_folder, mask_folder)\n",
    "    images.append(im)\n",
    "\n",
    "    # Extract features\n",
    "    x = extract_features(im, mask)\n",
    "    features[i,:] = x"
   ]
  },
  {
   "cell_type": "code",
   "execution_count": 38,
   "id": "e2269060",
   "metadata": {},
   "outputs": [],
   "source": [
    "# Save image_ids and features in a file\n",
    "#df_features = pd.DataFrame(features, columns = feature_names)\n",
    "#df_features.to_csv(file_features, index = False)"
   ]
  },
  {
   "cell_type": "markdown",
   "id": "4f347ed8",
   "metadata": {},
   "source": [
    "## Feature selection"
   ]
  },
  {
   "cell_type": "code",
   "execution_count": null,
   "id": "9e335275",
   "metadata": {},
   "outputs": [],
   "source": [
    "from sklearn.feature_selection import SelectKBest, mutual_info_classif\n",
    "\n",
    "selector = SelectKBest(mutual_info_classif, k=k)\n",
    "selector.fit(X_train, y_train)\n",
    "\n"
   ]
  },
  {
   "cell_type": "markdown",
   "id": "5247bfe2",
   "metadata": {},
   "source": [
    "## Feature extraction with PCA"
   ]
  },
  {
   "cell_type": "code",
   "execution_count": null,
   "id": "8259aca7",
   "metadata": {},
   "outputs": [],
   "source": []
  },
  {
   "cell_type": "markdown",
   "id": "fab39146",
   "metadata": {},
   "source": [
    "## Train classifier"
   ]
  },
  {
   "cell_type": "code",
   "execution_count": 27,
   "id": "9c27c056",
   "metadata": {},
   "outputs": [],
   "source": [
    "import os\n",
    "import pandas as pd\n",
    "import numpy as np\n",
    "\n",
    "# Default packages for the minimum example\n",
    "from sklearn.neighbors import KNeighborsClassifier\n",
    "from sklearn.model_selection import GroupKFold, StratifiedShuffleSplit, StratifiedKFold, train_test_split\n",
    "from sklearn.metrics import accuracy_score #example for measuring performance\n",
    "\n",
    "\n",
    "import pickle #for saving/loading trained classifiers"
   ]
  },
  {
   "cell_type": "code",
   "execution_count": 28,
   "id": "f26b6138",
   "metadata": {},
   "outputs": [],
   "source": [
    "file_data = 'metadata_withmasks.csv'\n",
    "file_features = 'feature_data.csv'"
   ]
  },
  {
   "cell_type": "code",
   "execution_count": 29,
   "id": "ee3ebe05",
   "metadata": {},
   "outputs": [],
   "source": [
    "# Extract metadata for images\n",
    "df = pd.read_csv(file_data)\n",
    "df_mask = df['mask'] == 1\n",
    "df = df.loc[df_mask]\n",
    "\n",
    "# Extract labels\n",
    "labels = np.array(df['diagnostic'])"
   ]
  },
  {
   "cell_type": "code",
   "execution_count": 30,
   "id": "0fe2788f",
   "metadata": {},
   "outputs": [],
   "source": [
    "# Extract features\n",
    "feature_names = ['assymmetry', 'color_r', 'color_g', 'color_b', 'compactness', 'convexity']\n",
    "df_features = pd.read_csv(file_features)"
   ]
  },
  {
   "cell_type": "code",
   "execution_count": 31,
   "id": "2bf8529a",
   "metadata": {},
   "outputs": [],
   "source": [
    "# Make dataset\n",
    "X = np.array(df_features[feature_names])\n",
    "y =  (labels == 'BCC') | (labels == 'SCC') | (labels == 'MEL')   #now True means healthy nevus, False means something else\n",
    "patient_id = df['patient_id']"
   ]
  },
  {
   "cell_type": "code",
   "execution_count": 68,
   "id": "e05679bd",
   "metadata": {},
   "outputs": [],
   "source": [
    "# Train-test split\n",
    "num_folds = 5\n",
    "group_kfold = GroupKFold(n_splits=num_folds)\n",
    "group_kfold.get_n_splits(X, y, patient_id)\n",
    "\n",
    "sss = StratifiedShuffleSplit(n_splits = num_folds)\n",
    "sss.get_n_splits(X,y)\n",
    "\n",
    "skf = StratifiedKFold(n_splits=num_folds)"
   ]
  },
  {
   "cell_type": "code",
   "execution_count": 47,
   "id": "788121ff",
   "metadata": {},
   "outputs": [],
   "source": [
    "#Different classifiers to test out\n",
    "classifiers = [\n",
    "    KNeighborsClassifier(1),\n",
    "    KNeighborsClassifier(5)\n",
    "]\n",
    "\n",
    "num_classifiers = len(classifiers)"
   ]
  },
  {
   "cell_type": "code",
   "execution_count": 48,
   "id": "9ac0f3bf",
   "metadata": {},
   "outputs": [],
   "source": [
    "from sklearn.model_selection import cross_validate\n",
    "from sklearn.metrics import accuracy_score, recall_score, precision_score, roc_auc_score\n",
    "\n",
    "# Metrics with result from cross-validation\n",
    "# We wish to measure accuracy, sensitivity, specificity, auc (area under the ROC curve)\n",
    "scoring =['accuracy', 'recall', 'precision', 'roc_auc']"
   ]
  },
  {
   "cell_type": "code",
   "execution_count": 97,
   "id": "0d12c796",
   "metadata": {},
   "outputs": [],
   "source": [
    "for i in enumerate(classifiers, n_splits):\n",
    "    \n",
    "    skf = StratifiedKFold(n_splits)\n",
    "    scores = cross_validate(clf, X, y, cv=skf, scoring = scoring)"
   ]
  },
  {
   "cell_type": "code",
   "execution_count": 114,
   "id": "73660bf6",
   "metadata": {},
   "outputs": [
    {
     "data": {
      "text/plain": [
       "array([0.42105263, 0.47368421, 0.61111111, 0.5       , 0.61111111])"
      ]
     },
     "execution_count": 114,
     "metadata": {},
     "output_type": "execute_result"
    }
   ],
   "source": [
    "scores['test_accuracy']"
   ]
  },
  {
   "cell_type": "markdown",
   "id": "662ead57",
   "metadata": {},
   "source": [
    "## Evaluate classifier"
   ]
  },
  {
   "cell_type": "code",
   "execution_count": 39,
   "id": "f5c5caac",
   "metadata": {},
   "outputs": [
    {
     "name": "stdout",
     "output_type": "stream",
     "text": [
      "Classifier 1 average accuracy=0.444 \n",
      "Classifier 2 average accuracy=0.523 \n"
     ]
    }
   ],
   "source": [
    "#Average over all folds\n",
    "average_acc = np.mean(acc_val,axis=0) \n",
    "   \n",
    "print('Classifier 1 average accuracy={:.3f} '.format(average_acc[0]))\n",
    "print('Classifier 2 average accuracy={:.3f} '.format(average_acc[1]))"
   ]
  },
  {
   "cell_type": "code",
   "execution_count": null,
   "id": "1f80d77e",
   "metadata": {},
   "outputs": [],
   "source": [
    "from sklean"
   ]
  },
  {
   "cell_type": "markdown",
   "id": "000dc43d",
   "metadata": {},
   "source": [
    "## Save final classifier"
   ]
  },
  {
   "cell_type": "code",
   "execution_count": null,
   "id": "6e1079f1",
   "metadata": {},
   "outputs": [],
   "source": [
    "#Let's say you now decided to use the 5-NN \n",
    "classifier = KNeighborsClassifier(n_neighbors = 5)\n",
    "\n",
    "#It will be tested on external data, so we can try to maximize the use of our available data by training on \n",
    "#ALL of x and y\n",
    "classifier = classifier.fit(X,y)\n",
    "\n",
    "#This is the classifier you need to save using pickle, add this to your zip file submission\n",
    "filename = 'groupXY_classifier.sav'\n",
    "pickle.dump(classifier, open(filename, 'wb'))"
   ]
  },
  {
   "cell_type": "code",
   "execution_count": null,
   "id": "f4e27f1e",
   "metadata": {},
   "outputs": [],
   "source": []
  },
  {
   "cell_type": "code",
   "execution_count": null,
   "id": "f6562482",
   "metadata": {},
   "outputs": [],
   "source": []
  },
  {
   "cell_type": "code",
   "execution_count": null,
   "id": "3a5bd543",
   "metadata": {},
   "outputs": [],
   "source": []
  },
  {
   "cell_type": "code",
   "execution_count": null,
   "id": "f34a603d",
   "metadata": {},
   "outputs": [],
   "source": []
  },
  {
   "cell_type": "code",
   "execution_count": null,
   "id": "e49d933c",
   "metadata": {},
   "outputs": [],
   "source": []
  },
  {
   "cell_type": "code",
   "execution_count": null,
   "id": "9821b112",
   "metadata": {},
   "outputs": [],
   "source": []
  },
  {
   "cell_type": "markdown",
   "id": "cc76bd46",
   "metadata": {},
   "source": [
    "## Evaluate classifier"
   ]
  },
  {
   "cell_type": "code",
   "execution_count": null,
   "id": "5fd80a48",
   "metadata": {},
   "outputs": [],
   "source": [
    "import pickle #for loading your trained classifier\n",
    "\n",
    "from extract_features import extract_features #our feature extraction\n",
    "\n",
    "# The function that should classify new images. \n",
    "# The image and mask are the same size, and are already loaded using plt.imread\n",
    "def classify(img, mask):\n",
    "    \n",
    "    \n",
    "     #Resize the image etc, if you did that during training\n",
    "    \n",
    "     #Extract features (the same ones that you used for training)\n",
    "     x = extract_features(img, mask)\n",
    "         \n",
    "     \n",
    "     #Load the trained classifier\n",
    "     classifier = pickle.load(open('groupXY_classifier.sav', 'rb'))\n",
    "    \n",
    "    \n",
    "     #Use it on this example to predict the label AND posterior probability\n",
    "     pred_label = classifier.predict(x)\n",
    "     pred_prob = classifier.predict_proba(x)\n",
    "     \n",
    "     \n",
    "     #print('predicted label is ', pred_label)\n",
    "     #print('predicted probability is ', pred_prob)\n",
    "     return pred_label, pred_prob"
   ]
  },
  {
   "cell_type": "code",
   "execution_count": null,
   "id": "7090012a",
   "metadata": {},
   "outputs": [],
   "source": [
    "# Call in a loop"
   ]
  }
 ],
 "metadata": {
  "kernelspec": {
   "display_name": "Python 3 (ipykernel)",
   "language": "python",
   "name": "python3"
  },
  "language_info": {
   "codemirror_mode": {
    "name": "ipython",
    "version": 3
   },
   "file_extension": ".py",
   "mimetype": "text/x-python",
   "name": "python",
   "nbconvert_exporter": "python",
   "pygments_lexer": "ipython3",
   "version": "3.9.12"
  }
 },
 "nbformat": 4,
 "nbformat_minor": 5
}
