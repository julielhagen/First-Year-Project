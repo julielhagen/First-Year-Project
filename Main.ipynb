{
 "cells": [
  {
   "cell_type": "markdown",
   "id": "153887bd",
   "metadata": {},
   "source": [
    "## Extract features"
   ]
  },
  {
   "cell_type": "code",
   "execution_count": 40,
   "id": "a393e61b",
   "metadata": {},
   "outputs": [],
   "source": [
    "def extract_features(im, im_mask):\n",
    "    \n",
    "    # Assymmetry\n",
    "    asymmetry = mean_asymmetry(im_mask)\n",
    "    \n",
    "    # Color\n",
    "    col_r, col_g, col_b = color_var(im, im_mask)\n",
    "    \n",
    "    # Compactness\n",
    "    compactness = compactness_score(im_mask)\n",
    "    \n",
    "    # Convexity\n",
    "    convexity = convexity_score(im_mask)\n",
    "    \n",
    "    return np.array([asymmetry, col_r, col_g, col_b, compactness, convexity], dtype=np.float16)"
   ]
  },
  {
   "cell_type": "markdown",
   "id": "c81a65ad",
   "metadata": {},
   "source": [
    "## Process Images"
   ]
  },
  {
   "cell_type": "code",
   "execution_count": null,
   "id": "361a77c9",
   "metadata": {},
   "outputs": [],
   "source": [
    "import os\n",
    "from os.path import isfile, join\n",
    "\n",
    "import pandas as pd\n",
    "\n",
    "import numpy as np\n",
    "\n",
    "from prep_image import prep_im, prep_gt\n",
    "import matplotlib.pyplot as plt\n",
    "\n",
    "# Import feature \n",
    "from asymmetry import mean_asymmetry\n",
    "from color import color_var\n",
    "from compactness_score import compactness_score\n",
    "from convexity import convexity_score"
   ]
  },
  {
   "cell_type": "code",
   "execution_count": 31,
   "id": "157a30c7",
   "metadata": {},
   "outputs": [],
   "source": [
    "file_data = 'metadata.csv'\n",
    "image_folder = 'test_images'"
   ]
  },
  {
   "cell_type": "code",
   "execution_count": 33,
   "id": "8b7e5288",
   "metadata": {},
   "outputs": [],
   "source": [
    "file_features = 'feature_data.csv'"
   ]
  },
  {
   "cell_type": "code",
   "execution_count": 34,
   "id": "a1d4d61a",
   "metadata": {},
   "outputs": [],
   "source": [
    "# Image paths\n",
    "image_ids = [f for f in os.listdir(image_folder) if isfile(join(image_folder, f))]\n",
    "n_images = len(image_ids)"
   ]
  },
  {
   "cell_type": "code",
   "execution_count": 35,
   "id": "50a56102",
   "metadata": {},
   "outputs": [],
   "source": [
    "# Extract image ids and labels\n",
    "df = pd.read_csv(file_data)"
   ]
  },
  {
   "cell_type": "code",
   "execution_count": 36,
   "id": "a8099f46",
   "metadata": {},
   "outputs": [],
   "source": [
    "labels = []\n",
    "for img_id in image_ids:\n",
    "    if img_id in list(df['img_id']):\n",
    "        mask = df['img_id']==img_id\n",
    "        labels.append(df.loc[mask,'diagnostic'].iloc[0]) # Problem"
   ]
  },
  {
   "cell_type": "code",
   "execution_count": 38,
   "id": "00d46a23",
   "metadata": {},
   "outputs": [],
   "source": [
    "# Extract feature\n",
    "feature_names = ['assymmetry', 'color_r', 'color_g', 'color_b', 'compactness', 'convexity']\n",
    "features_n = len(feature_names)\n",
    "features = np.zeros([n_images, features_n], dtype = np.float16)"
   ]
  },
  {
   "cell_type": "code",
   "execution_count": 41,
   "id": "af1be068",
   "metadata": {},
   "outputs": [],
   "source": [
    "# Extract feature\n",
    "images = []\n",
    "for i in range(len(image_ids)):\n",
    "    \n",
    "    # Get maks\n",
    "    im = prep_im(image_ids[i], image_folder + os.sep, output_shape = (300,300))\n",
    "    arr = np.asarray(im)\n",
    "    images.append(arr)\n",
    "    \n",
    "    im_mask = prep_gt(image_ids[i].split('.')[0], image_folder + '_groundtruths/', output_shape = (300,300))\n",
    "\n",
    "    # Extract features\n",
    "    x = extract_features(im, im_mask)\n",
    "    features[i,:] = x"
   ]
  },
  {
   "cell_type": "code",
   "execution_count": 42,
   "id": "e2269060",
   "metadata": {},
   "outputs": [],
   "source": [
    "# Save image_ids and features in a file\n",
    "df_features = pd.DataFrame(features, columns = feature_names)\n",
    "#df_features.to_csv(file_features, index = False)"
   ]
  },
  {
   "cell_type": "code",
   "execution_count": 50,
   "id": "e31d1f9c",
   "metadata": {},
   "outputs": [
    {
     "data": {
      "text/plain": [
       "array([-0.007, -0.007,  0.025,  0.083, -0.166,  0.162, -0.006,  0.119,\n",
       "        0.016,  0.068,  0.053,  0.002,  0.057, -0.079, -0.007, -0.003,\n",
       "        0.048,  0.003,  0.622,  0.05 ,  0.143,  0.02 ,  0.013, -0.006,\n",
       "        0.005,  0.012,  0.009,  0.04 ,  0.161,  0.162,  0.047, -0.019,\n",
       "        0.08 ,  0.02 ,  0.081,  0.014,  0.08 , -0.01 , -0.001, -0.003,\n",
       "       -0.005, -0.016, -0.001,  0.041, -0.01 ,  0.072, -0.001,  0.133,\n",
       "        0.121,  0.032, -0.008,  0.05 , -0.012,  0.022,  0.008, -0.003,\n",
       "        0.068,  0.171,  0.039, -0.011,  0.052,  0.033,  0.016,  0.083,\n",
       "        0.164,  0.107, -0.012,  0.05 , -0.014,  0.357, -0.003,  0.038,\n",
       "        0.028,  0.046,  0.026,  0.094,  0.242,  0.05 ,  0.141, -0.006,\n",
       "        0.017, -0.004, -0.001,  0.029, -0.004,  0.035,  0.076,  0.125,\n",
       "       -0.004,  0.331], dtype=float16)"
      ]
     },
     "execution_count": 50,
     "metadata": {},
     "output_type": "execute_result"
    }
   ],
   "source": [
    "features[:,-1]"
   ]
  },
  {
   "cell_type": "code",
   "execution_count": 56,
   "id": "f57decaf",
   "metadata": {},
   "outputs": [
    {
     "data": {
      "text/html": [
       "<div>\n",
       "<style scoped>\n",
       "    .dataframe tbody tr th:only-of-type {\n",
       "        vertical-align: middle;\n",
       "    }\n",
       "\n",
       "    .dataframe tbody tr th {\n",
       "        vertical-align: top;\n",
       "    }\n",
       "\n",
       "    .dataframe thead th {\n",
       "        text-align: right;\n",
       "    }\n",
       "</style>\n",
       "<table border=\"1\" class=\"dataframe\">\n",
       "  <thead>\n",
       "    <tr style=\"text-align: right;\">\n",
       "      <th></th>\n",
       "      <th>assymmetry</th>\n",
       "      <th>color_r</th>\n",
       "      <th>color_g</th>\n",
       "      <th>color_b</th>\n",
       "      <th>compactness</th>\n",
       "      <th>convexity</th>\n",
       "    </tr>\n",
       "  </thead>\n",
       "  <tbody>\n",
       "    <tr>\n",
       "      <th>0</th>\n",
       "      <td>0.200684</td>\n",
       "      <td>0.000963</td>\n",
       "      <td>0.001459</td>\n",
       "      <td>0.001370</td>\n",
       "      <td>0.737793</td>\n",
       "      <td>-0.007000</td>\n",
       "    </tr>\n",
       "    <tr>\n",
       "      <th>1</th>\n",
       "      <td>0.190430</td>\n",
       "      <td>0.000501</td>\n",
       "      <td>0.002333</td>\n",
       "      <td>0.002220</td>\n",
       "      <td>0.729980</td>\n",
       "      <td>-0.007000</td>\n",
       "    </tr>\n",
       "    <tr>\n",
       "      <th>2</th>\n",
       "      <td>0.216553</td>\n",
       "      <td>0.002441</td>\n",
       "      <td>0.002157</td>\n",
       "      <td>0.001656</td>\n",
       "      <td>0.749023</td>\n",
       "      <td>0.024994</td>\n",
       "    </tr>\n",
       "    <tr>\n",
       "      <th>3</th>\n",
       "      <td>0.236816</td>\n",
       "      <td>0.001623</td>\n",
       "      <td>0.004570</td>\n",
       "      <td>0.004230</td>\n",
       "      <td>0.810059</td>\n",
       "      <td>0.083008</td>\n",
       "    </tr>\n",
       "    <tr>\n",
       "      <th>4</th>\n",
       "      <td>0.263184</td>\n",
       "      <td>0.001086</td>\n",
       "      <td>0.002434</td>\n",
       "      <td>0.002497</td>\n",
       "      <td>0.676758</td>\n",
       "      <td>-0.166016</td>\n",
       "    </tr>\n",
       "    <tr>\n",
       "      <th>...</th>\n",
       "      <td>...</td>\n",
       "      <td>...</td>\n",
       "      <td>...</td>\n",
       "      <td>...</td>\n",
       "      <td>...</td>\n",
       "      <td>...</td>\n",
       "    </tr>\n",
       "    <tr>\n",
       "      <th>85</th>\n",
       "      <td>0.178345</td>\n",
       "      <td>0.003025</td>\n",
       "      <td>0.009186</td>\n",
       "      <td>0.011055</td>\n",
       "      <td>0.741211</td>\n",
       "      <td>0.035004</td>\n",
       "    </tr>\n",
       "    <tr>\n",
       "      <th>86</th>\n",
       "      <td>0.127686</td>\n",
       "      <td>0.000061</td>\n",
       "      <td>0.001193</td>\n",
       "      <td>0.000849</td>\n",
       "      <td>0.788086</td>\n",
       "      <td>0.075989</td>\n",
       "    </tr>\n",
       "    <tr>\n",
       "      <th>87</th>\n",
       "      <td>0.212036</td>\n",
       "      <td>0.003263</td>\n",
       "      <td>0.010963</td>\n",
       "      <td>0.008514</td>\n",
       "      <td>0.833984</td>\n",
       "      <td>0.125000</td>\n",
       "    </tr>\n",
       "    <tr>\n",
       "      <th>88</th>\n",
       "      <td>0.218384</td>\n",
       "      <td>0.003323</td>\n",
       "      <td>0.014473</td>\n",
       "      <td>0.019730</td>\n",
       "      <td>0.736816</td>\n",
       "      <td>-0.004002</td>\n",
       "    </tr>\n",
       "    <tr>\n",
       "      <th>89</th>\n",
       "      <td>0.514160</td>\n",
       "      <td>0.007462</td>\n",
       "      <td>0.002375</td>\n",
       "      <td>0.001101</td>\n",
       "      <td>0.890137</td>\n",
       "      <td>0.331055</td>\n",
       "    </tr>\n",
       "  </tbody>\n",
       "</table>\n",
       "<p>90 rows × 6 columns</p>\n",
       "</div>"
      ],
      "text/plain": [
       "    assymmetry   color_r   color_g   color_b  compactness  convexity\n",
       "0     0.200684  0.000963  0.001459  0.001370     0.737793  -0.007000\n",
       "1     0.190430  0.000501  0.002333  0.002220     0.729980  -0.007000\n",
       "2     0.216553  0.002441  0.002157  0.001656     0.749023   0.024994\n",
       "3     0.236816  0.001623  0.004570  0.004230     0.810059   0.083008\n",
       "4     0.263184  0.001086  0.002434  0.002497     0.676758  -0.166016\n",
       "..         ...       ...       ...       ...          ...        ...\n",
       "85    0.178345  0.003025  0.009186  0.011055     0.741211   0.035004\n",
       "86    0.127686  0.000061  0.001193  0.000849     0.788086   0.075989\n",
       "87    0.212036  0.003263  0.010963  0.008514     0.833984   0.125000\n",
       "88    0.218384  0.003323  0.014473  0.019730     0.736816  -0.004002\n",
       "89    0.514160  0.007462  0.002375  0.001101     0.890137   0.331055\n",
       "\n",
       "[90 rows x 6 columns]"
      ]
     },
     "execution_count": 56,
     "metadata": {},
     "output_type": "execute_result"
    }
   ],
   "source": [
    "df_features"
   ]
  },
  {
   "cell_type": "code",
   "execution_count": 87,
   "id": "5515b0a9",
   "metadata": {},
   "outputs": [
    {
     "data": {
      "text/plain": [
       "array([ 0.2632  ,  0.001086,  0.002434,  0.002497,  0.677   , -0.166   ],\n",
       "      dtype=float16)"
      ]
     },
     "execution_count": 87,
     "metadata": {},
     "output_type": "execute_result"
    }
   ],
   "source": [
    "mask = features[:,-1] == min(features[:,-1])\n",
    "features[4]"
   ]
  },
  {
   "cell_type": "code",
   "execution_count": 95,
   "id": "37c19320",
   "metadata": {},
   "outputs": [
    {
     "data": {
      "text/plain": [
       "<matplotlib.image.AxesImage at 0x2179c0e0b80>"
      ]
     },
     "execution_count": 95,
     "metadata": {},
     "output_type": "execute_result"
    },
    {
     "data": {
      "image/png": "[encoded data removed]",
      "text/plain": [
       "<Figure size 432x288 with 1 Axes>"
      ]
     },
     "metadata": {
      "needs_background": "light"
     },
     "output_type": "display_data"
    }
   ],
   "source": [
    "plt.imshow(images[-2])"
   ]
  },
  {
   "cell_type": "code",
   "execution_count": 99,
   "id": "e8a26bc8",
   "metadata": {},
   "outputs": [
    {
     "data": {
      "text/plain": [
       "<matplotlib.image.AxesImage at 0x2179d7b4df0>"
      ]
     },
     "execution_count": 99,
     "metadata": {},
     "output_type": "execute_result"
    },
    {
     "data": {
      "image/png": "[encoded data removed]",
      "text/plain": [
       "<Figure size 432x288 with 1 Axes>"
      ]
     },
     "metadata": {
      "needs_background": "light"
     },
     "output_type": "display_data"
    }
   ],
   "source": [
    "mask = prep_gt(image_ids[-2].split('.')[0], image_folder + '_groundtruths/', output_shape = (300,300))\n",
    "plt.imshow(mask)"
   ]
  },
  {
   "cell_type": "code",
   "execution_count": 100,
   "id": "c4dabe80",
   "metadata": {
    "scrolled": true
   },
   "outputs": [
    {
     "data": {
      "image/png": "[encoded data removed]",
      "text/plain": [
       "<Figure size 432x288 with 1 Axes>"
      ]
     },
     "metadata": {
      "needs_background": "light"
     },
     "output_type": "display_data"
    },
    {
     "name": "stdout",
     "output_type": "stream",
     "text": [
      "557\n",
      "641.7778177135323\n"
     ]
    }
   ],
   "source": [
    "from convexity import show_convex_hull\n",
    "from scipy.spatial import ConvexHull\n",
    "show_convex_hull(mask)\n",
    "print(np.count_nonzero(mask))\n",
    "coords = np.transpose(np.nonzero(mask))\n",
    "print(ConvexHull(coords).volume+ConvexHull(coords).area)"
   ]
  },
  {
   "cell_type": "code",
   "execution_count": 72,
   "id": "91eb9249",
   "metadata": {},
   "outputs": [
    {
     "data": {
      "text/plain": [
       "array([0, 1])"
      ]
     },
     "execution_count": 72,
     "metadata": {},
     "output_type": "execute_result"
    }
   ],
   "source": [
    "np.unique(mask)"
   ]
  },
  {
   "cell_type": "code",
   "execution_count": 102,
   "id": "c791e310",
   "metadata": {},
   "outputs": [
    {
     "data": {
      "text/plain": [
       "0.13104524180967236"
      ]
     },
     "execution_count": 102,
     "metadata": {},
     "output_type": "execute_result"
    }
   ],
   "source": [
    "1-557/641"
   ]
  },
  {
   "cell_type": "markdown",
   "id": "fab39146",
   "metadata": {},
   "source": [
    "## Train classifier"
   ]
  },
  {
   "cell_type": "code",
   "execution_count": null,
   "id": "9c27c056",
   "metadata": {},
   "outputs": [],
   "source": [
    "import os\n",
    "import pandas as pd\n",
    "import numpy as np\n",
    "\n",
    "# Default packages for the minimum example\n",
    "from sklearn.neighbors import KNeighborsClassifier\n",
    "from sklearn.model_selection import GroupKFold\n",
    "from sklearn.metrics import accuracy_score #example for measuring performance\n",
    "\n",
    "\n",
    "import pickle #for saving/loading trained classifiers"
   ]
  },
  {
   "cell_type": "code",
   "execution_count": null,
   "id": "e05679bd",
   "metadata": {},
   "outputs": [],
   "source": [
    "# Train-test split\n",
    "X_train, X_test, y_train, y_test = train_test_split(features, y, test_size= 0.2, random_state =1,stratify = y)"
   ]
  },
  {
   "cell_type": "code",
   "execution_count": null,
   "id": "f5c5caac",
   "metadata": {},
   "outputs": [],
   "source": [
    "clf = KNeighborsClassifier(n_neighbors = 10)\n",
    "\n",
    "# Train it --> need to define y first\n",
    "clf.fit(X_train_transformed, y_train)\n",
    "\n",
    "# Predict on validation dataset and measure accuracy, f1-score\n",
    "clf.predict(X_test_transformed);\n",
    "\n",
    "print(clf.score(X_test_transformed, y_test))"
   ]
  },
  {
   "cell_type": "code",
   "execution_count": null,
   "id": "227fcafa",
   "metadata": {},
   "outputs": [],
   "source": []
  },
  {
   "cell_type": "code",
   "execution_count": null,
   "id": "48342672",
   "metadata": {},
   "outputs": [],
   "source": []
  },
  {
   "cell_type": "code",
   "execution_count": null,
   "id": "c6dc86af",
   "metadata": {},
   "outputs": [],
   "source": []
  },
  {
   "cell_type": "code",
   "execution_count": null,
   "id": "87a6b0f4",
   "metadata": {},
   "outputs": [],
   "source": []
  },
  {
   "cell_type": "code",
   "execution_count": null,
   "id": "03b2b749",
   "metadata": {},
   "outputs": [],
   "source": []
  },
  {
   "cell_type": "code",
   "execution_count": null,
   "id": "1b0686b7",
   "metadata": {},
   "outputs": [],
   "source": []
  },
  {
   "cell_type": "code",
   "execution_count": null,
   "id": "b1031092",
   "metadata": {},
   "outputs": [],
   "source": []
  },
  {
   "cell_type": "markdown",
   "id": "f1e33c3b",
   "metadata": {},
   "source": [
    "## Evaluate classifier"
   ]
  },
  {
   "cell_type": "code",
   "execution_count": null,
   "id": "ebf2b0a4",
   "metadata": {},
   "outputs": [],
   "source": [
    "import pickle #for loading your trained classifier\n",
    "\n",
    "from extract_features import extract_features #our feature extraction\n",
    "\n",
    "# The function that should classify new images. \n",
    "# The image and mask are the same size, and are already loaded using plt.imread\n",
    "def classify(img, mask):\n",
    "    \n",
    "    \n",
    "     #Resize the image etc, if you did that during training\n",
    "    \n",
    "     #Extract features (the same ones that you used for training)\n",
    "     x = extract_features(img, mask)\n",
    "         \n",
    "     \n",
    "     #Load the trained classifier\n",
    "     classifier = pickle.load(open('groupXY_classifier.sav', 'rb'))\n",
    "    \n",
    "    \n",
    "     #Use it on this example to predict the label AND posterior probability\n",
    "     pred_label = classifier.predict(x)\n",
    "     pred_prob = classifier.predict_proba(x)\n",
    "     \n",
    "     \n",
    "     #print('predicted label is ', pred_label)\n",
    "     #print('predicted probability is ', pred_prob)\n",
    "     return pred_label, pred_prob"
   ]
  },
  {
   "cell_type": "code",
   "execution_count": null,
   "id": "9598cf12",
   "metadata": {},
   "outputs": [],
   "source": [
    "# Call in a loop"
   ]
  }
 ],
 "metadata": {
  "kernelspec": {
   "display_name": "Python 3 (ipykernel)",
   "language": "python",
   "name": "python3"
  },
  "language_info": {
   "codemirror_mode": {
    "name": "ipython",
    "version": 3
   },
   "file_extension": ".py",
   "mimetype": "text/x-python",
   "name": "python",
   "nbconvert_exporter": "python",
   "pygments_lexer": "ipython3",
   "version": "3.9.12"
  }
 },
 "nbformat": 4,
 "nbformat_minor": 5
}
