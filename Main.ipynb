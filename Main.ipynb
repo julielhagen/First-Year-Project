{
 "cells": [
  {
   "cell_type": "code",
   "execution_count": 1,
   "id": "0a653aab",
   "metadata": {},
   "outputs": [],
   "source": [
    "import os\n",
    "from os.path import isfile, join\n",
    "import pandas as pd\n",
    "import numpy as np\n",
    "from prep_image import prep_im_and_mask\n",
    "import matplotlib.pyplot as plt\n",
    "\n",
    "from asymmetry import mean_asymmetry\n",
    "from color import slic_segmentation, rgb_var\n",
    "from compactness import compactness_score\n",
    "from convexity import convexity_score"
   ]
  },
  {
   "cell_type": "markdown",
   "id": "153887bd",
   "metadata": {},
   "source": [
    "## Extract features"
   ]
  },
  {
   "cell_type": "code",
   "execution_count": 2,
   "id": "a393e61b",
   "metadata": {},
   "outputs": [],
   "source": [
    "def extract_features(im, im_mask):\n",
    "    \n",
    "    # Assymmetry\n",
    "    asymmetry = mean_asymmetry(im_mask,4)\n",
    "    \n",
    "    # Color\n",
    "    segments = slic_segmentation(im, im_mask)\n",
    "    col_r, col_g, col_b = rgb_var(im, segments)\n",
    "    \n",
    "    # Compactness\n",
    "    compactness = compactness_score(im_mask)\n",
    "    \n",
    "    # Convexity\n",
    "    convexity = convexity_score(im_mask)\n",
    "    \n",
    "    return np.array([asymmetry, col_r, col_g, col_b, compactness, convexity], dtype=np.float16)"
   ]
  },
  {
   "cell_type": "markdown",
   "id": "afa2b8b8",
   "metadata": {},
   "source": [
    "## Process Images"
   ]
  },
  {
   "cell_type": "code",
   "execution_count": 8,
   "id": "157a30c7",
   "metadata": {},
   "outputs": [],
   "source": [
    "file_data = 'metadata_withmasks.csv'\n",
    "image_folder = 'test_images' + os.sep\n",
    "mask_folder = 'test_images_mask' + os.sep\n",
    "file_features = 'feature_data.csv'"
   ]
  },
  {
   "cell_type": "code",
   "execution_count": 9,
   "id": "50a56102",
   "metadata": {},
   "outputs": [],
   "source": [
    "# Extract image ids and labels\n",
    "df = pd.read_csv(file_data)\n",
    "\n",
    "# Remove images without masks\n",
    "df_mask = df['mask'] == 1\n",
    "df = df.loc[df_mask]\n",
    "\n",
    "labels = list(df['diagnostic'])"
   ]
  },
  {
   "cell_type": "code",
   "execution_count": 10,
   "id": "00d46a23",
   "metadata": {},
   "outputs": [],
   "source": [
    "# Extract feature\n",
    "feature_names = ['assymmetry', 'color_r', 'color_g', 'color_b', 'compactness', 'convexity']\n",
    "features_n = len(feature_names)\n",
    "features = np.zeros(shape = [len(df), features_n], dtype = np.float16)"
   ]
  },
  {
   "cell_type": "code",
   "execution_count": 11,
   "id": "af1be068",
   "metadata": {},
   "outputs": [],
   "source": [
    "# Extract features\n",
    "images = []\n",
    "for i, id in enumerate(list(df['img_id'])):\n",
    "    \n",
    "    im, mask = prep_im_and_mask(id, image_folder, mask_folder)\n",
    "    images.append(im)\n",
    "\n",
    "    # Extract features\n",
    "    x = extract_features(im, mask)\n",
    "    features[i,:] = x"
   ]
  },
  {
   "cell_type": "code",
   "execution_count": 38,
   "id": "e2269060",
   "metadata": {},
   "outputs": [],
   "source": [
    "# Save image_ids and features in a file\n",
    "#df_features = pd.DataFrame(features, columns = feature_names)\n",
    "#df_features.to_csv(file_features, index = False)"
   ]
  },
  {
   "cell_type": "markdown",
   "id": "4f347ed8",
   "metadata": {},
   "source": [
    "## Feature selection"
   ]
  },
  {
   "cell_type": "code",
   "execution_count": null,
   "id": "9e335275",
   "metadata": {},
   "outputs": [],
   "source": [
    "from sklearn.feature_selection import SelectKBest, mutual_info_classif\n",
    "\n",
    "selector = SelectKBest(mutual_info_classif, k=k)\n",
    "selector.fit(X_train, y_train)\n",
    "\n"
   ]
  },
  {
   "cell_type": "markdown",
   "id": "5247bfe2",
   "metadata": {},
   "source": [
    "## Feature extraction with PCA"
   ]
  },
  {
   "cell_type": "code",
   "execution_count": null,
   "id": "8259aca7",
   "metadata": {},
   "outputs": [],
   "source": []
  },
  {
   "cell_type": "markdown",
   "id": "fab39146",
   "metadata": {},
   "source": [
    "## Train classifier"
   ]
  },
  {
   "cell_type": "code",
   "execution_count": 1,
   "id": "9c27c056",
   "metadata": {},
   "outputs": [],
   "source": [
    "import os\n",
    "import pandas as pd\n",
    "import numpy as np\n",
    "\n",
    "# Default packages for the minimum example\n",
    "from sklearn.neighbors import KNeighborsClassifier\n",
    "from sklearn.model_selection import GroupKFold, StratifiedShuffleSplit, StratifiedKFold, train_test_split\n",
    "from sklearn.metrics import accuracy_score #example for measuring performance\n",
    "\n",
    "\n",
    "import pickle #for saving/loading trained classifiers"
   ]
  },
  {
   "cell_type": "code",
   "execution_count": 2,
   "id": "f26b6138",
   "metadata": {},
   "outputs": [],
   "source": [
    "file_data = 'metadata_withmasks.csv'\n",
    "file_features = 'feature_data.csv'"
   ]
  },
  {
   "cell_type": "code",
   "execution_count": 3,
   "id": "ee3ebe05",
   "metadata": {},
   "outputs": [],
   "source": [
    "# Extract metadata for images\n",
    "df = pd.read_csv(file_data)\n",
    "df_mask = df['mask'] == 1\n",
    "df = df.loc[df_mask]\n",
    "\n",
    "# Extract labels\n",
    "labels = np.array(df['diagnostic'])"
   ]
  },
  {
   "cell_type": "code",
   "execution_count": 6,
   "id": "0fe2788f",
   "metadata": {},
   "outputs": [],
   "source": [
    "# Extract features\n",
    "feature_names = ['assymmetry', 'red_var', 'green_var', 'blue_var', \\\n",
    "\t\t'hue_var', 'sat_var', 'val_var', 'dom_hue', 'dom_sat', 'dom_val', \\\n",
    "\t\t'compactness', 'convexity']\n",
    "df_features = pd.read_csv(file_features)"
   ]
  },
  {
   "cell_type": "code",
   "execution_count": 9,
   "id": "2bf8529a",
   "metadata": {},
   "outputs": [],
   "source": [
    "# Make dataset\n",
    "X = np.array(df_features[feature_names])\n",
    "y =  (labels == 'BCC') | (labels == 'SCC') | (labels == 'MEL')   #now True means healthy nevus, False means something else\n",
    "patient_id = df['patient_id']"
   ]
  },
  {
   "cell_type": "code",
   "execution_count": 68,
   "id": "e05679bd",
   "metadata": {},
   "outputs": [],
   "source": [
    "# Train-test split\n",
    "num_folds = 5\n",
    "group_kfold = GroupKFold(n_splits=num_folds)\n",
    "group_kfold.get_n_splits(X, y, patient_id)\n",
    "\n",
    "sss = StratifiedShuffleSplit(n_splits = num_folds)\n",
    "sss.get_n_splits(X,y)\n",
    "\n",
    "skf = StratifiedKFold(n_splits=num_folds)"
   ]
  },
  {
   "cell_type": "code",
   "execution_count": 47,
   "id": "788121ff",
   "metadata": {},
   "outputs": [],
   "source": [
    "#Different classifiers to test out\n",
    "classifiers = [\n",
    "    KNeighborsClassifier(1),\n",
    "    KNeighborsClassifier(5)\n",
    "]\n",
    "\n",
    "num_classifiers = len(classifiers)"
   ]
  },
  {
   "cell_type": "code",
   "execution_count": 48,
   "id": "9ac0f3bf",
   "metadata": {},
   "outputs": [],
   "source": [
    "from sklearn.model_selection import cross_validate\n",
    "from sklearn.metrics import accuracy_score, recall_score, precision_score, roc_auc_score\n",
    "\n",
    "# Metrics with result from cross-validation\n",
    "# We wish to measure accuracy, sensitivity, specificity, auc (area under the ROC curve)\n",
    "scoring =['accuracy', 'recall', 'precision', 'roc_auc']"
   ]
  },
  {
   "cell_type": "code",
   "execution_count": 97,
   "id": "0d12c796",
   "metadata": {},
   "outputs": [],
   "source": [
    "for i in enumerate(classifiers, n_splits):\n",
    "    \n",
    "    skf = StratifiedKFold(n_splits)\n",
    "    scores = cross_validate(clf, X, y, cv=skf, scoring = scoring)"
   ]
  },
  {
   "cell_type": "code",
   "execution_count": 7,
   "id": "73660bf6",
   "metadata": {},
   "outputs": [
    {
     "ename": "NameError",
     "evalue": "name 'scores' is not defined",
     "output_type": "error",
     "traceback": [
      "\u001b[1;31m---------------------------------------------------------------------------\u001b[0m",
      "\u001b[1;31mNameError\u001b[0m                                 Traceback (most recent call last)",
      "Input \u001b[1;32mIn [7]\u001b[0m, in \u001b[0;36m<cell line: 1>\u001b[1;34m()\u001b[0m\n\u001b[1;32m----> 1\u001b[0m \u001b[43mscores\u001b[49m\n",
      "\u001b[1;31mNameError\u001b[0m: name 'scores' is not defined"
     ]
    }
   ],
   "source": [
    "scores['test_accuracy']"
   ]
  },
  {
   "cell_type": "markdown",
   "id": "662ead57",
   "metadata": {},
   "source": [
    "## Evaluate classifier"
   ]
  },
  {
   "cell_type": "code",
   "execution_count": 39,
   "id": "f5c5caac",
   "metadata": {},
   "outputs": [
    {
     "name": "stdout",
     "output_type": "stream",
     "text": [
      "Classifier 1 average accuracy=0.444 \n",
      "Classifier 2 average accuracy=0.523 \n"
     ]
    }
   ],
   "source": [
    "#Average over all folds\n",
    "average_acc = np.mean(acc_val,axis=0) \n",
    "   \n",
    "print('Classifier 1 average accuracy={:.3f} '.format(average_acc[0]))\n",
    "print('Classifier 2 average accuracy={:.3f} '.format(average_acc[1]))"
   ]
  },
  {
   "cell_type": "code",
   "execution_count": null,
   "id": "1f80d77e",
   "metadata": {},
   "outputs": [],
   "source": [
    "from sklean"
   ]
  },
  {
   "cell_type": "markdown",
   "id": "000dc43d",
   "metadata": {},
   "source": [
    "## Save final classifier"
   ]
  },
  {
   "cell_type": "code",
   "execution_count": null,
   "id": "6e1079f1",
   "metadata": {},
   "outputs": [],
   "source": [
    "#Let's say you now decided to use the 5-NN \n",
    "classifier = KNeighborsClassifier(n_neighbors = 5)\n",
    "\n",
    "#It will be tested on external data, so we can try to maximize the use of our available data by training on \n",
    "#ALL of x and y\n",
    "classifier = classifier.fit(X,y)\n",
    "\n",
    "#This is the classifier you need to save using pickle, add this to your zip file submission\n",
    "filename = 'groupXY_classifier.sav'\n",
    "pickle.dump(classifier, open(filename, 'wb'))"
   ]
  },
  {
   "cell_type": "code",
   "execution_count": null,
   "id": "f4e27f1e",
   "metadata": {},
   "outputs": [],
   "source": []
  },
  {
   "cell_type": "code",
   "execution_count": null,
   "id": "f6562482",
   "metadata": {},
   "outputs": [],
   "source": []
  },
  {
   "cell_type": "code",
   "execution_count": null,
   "id": "3a5bd543",
   "metadata": {},
   "outputs": [],
   "source": []
  },
  {
   "cell_type": "code",
   "execution_count": null,
   "id": "f34a603d",
   "metadata": {},
   "outputs": [],
   "source": []
  },
  {
   "cell_type": "code",
   "execution_count": null,
   "id": "e49d933c",
   "metadata": {},
   "outputs": [],
   "source": []
  },
  {
   "cell_type": "code",
   "execution_count": null,
   "id": "9821b112",
   "metadata": {},
   "outputs": [],
   "source": []
  },
  {
   "cell_type": "markdown",
   "id": "cc76bd46",
   "metadata": {},
   "source": [
    "## Evaluate classifier"
   ]
  },
  {
   "cell_type": "code",
   "execution_count": null,
   "id": "5fd80a48",
   "metadata": {},
   "outputs": [],
   "source": [
    "import pickle #for loading your trained classifier\n",
    "\n",
    "from extract_features import extract_features #our feature extraction\n",
    "\n",
    "# The function that should classify new images. \n",
    "# The image and mask are the same size, and are already loaded using plt.imread\n",
    "def classify(img, mask):\n",
    "    \n",
    "    \n",
    "     #Resize the image etc, if you did that during training\n",
    "    \n",
    "     #Extract features (the same ones that you used for training)\n",
    "     x = extract_features(img, mask)\n",
    "         \n",
    "     \n",
    "     #Load the trained classifier\n",
    "     classifier = pickle.load(open('groupXY_classifier.sav', 'rb'))\n",
    "    \n",
    "    \n",
    "     #Use it on this example to predict the label AND posterior probability\n",
    "     pred_label = classifier.predict(x)\n",
    "     pred_prob = classifier.predict_proba(x)\n",
    "     \n",
    "     \n",
    "     #print('predicted label is ', pred_label)\n",
    "     #print('predicted probability is ', pred_prob)\n",
    "     return pred_label, pred_prob"
   ]
  },
  {
   "cell_type": "code",
   "execution_count": null,
   "id": "7090012a",
   "metadata": {},
   "outputs": [],
   "source": [
    "# Call in a loop"
   ]
  }
 ],
 "metadata": {
  "kernelspec": {
   "display_name": "Python 3 (ipykernel)",
   "language": "python",
   "name": "python3"
  },
  "language_info": {
   "codemirror_mode": {
    "name": "ipython",
    "version": 3
   },
   "file_extension": ".py",
   "mimetype": "text/x-python",
   "name": "python",
   "nbconvert_exporter": "python",
   "pygments_lexer": "ipython3",
   "version": "3.9.12"
  },
  "vscode": {
   "interpreter": {
    "hash": "534d4e8b37863f4f5932f7cc25a9e87e2170c9c2a9fe02ecf0dcf4a0cfc94044"
   }
  }
 },
 "nbformat": 4,
 "nbformat_minor": 5
}
