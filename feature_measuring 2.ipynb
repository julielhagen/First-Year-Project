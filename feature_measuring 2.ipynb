{
 "cells": [
  {
   "cell_type": "markdown",
   "id": "c1e9e456",
   "metadata": {},
   "source": [
    "## Assymmetry"
   ]
  },
  {
   "cell_type": "code",
   "execution_count": 6,
   "id": "90bcb4a8",
   "metadata": {},
   "outputs": [],
   "source": [
    "import numpy as np\n",
    "import matplotlib.pyplot as plt\n",
    "from skimage.transform import resize\n",
    "\n",
    "# Function to get us some example images and their masks, and resize them \n",
    "def prepare_im(im_id):\n",
    "\n",
    "  im = plt.imread('example_imgs_ida/' + im_id + '.png')\n",
    "  im = resize(im, (im.shape[0] // 4, im.shape[1] // 4), anti_aliasing=True)\n",
    " \n",
    "  gt = plt.imread('example_segmentation_ida/' + im_id + '_GT.png')\n",
    "  gt = resize(gt, (gt.shape[0] // 4, gt.shape[1] // 4), anti_aliasing=False) #Setting it to True creates values that are not 0 or 1\n",
    "\n",
    "\n",
    "  return im, gt"
   ]
  },
  {
   "cell_type": "code",
   "execution_count": 7,
   "id": "c73fa5ef",
   "metadata": {},
   "outputs": [
    {
     "data": {
      "text/plain": [
       "<matplotlib.image.AxesImage at 0x279635ad0d0>"
      ]
     },
     "execution_count": 7,
     "metadata": {},
     "output_type": "execute_result"
    },
    {
     "data": {
      "image/png": "[encoded data removed]",
      "text/plain": [
       "<Figure size 432x288 with 1 Axes>"
      ]
     },
     "metadata": {
      "needs_background": "light"
     },
     "output_type": "display_data"
    }
   ],
   "source": [
    "im1, mask1 = prepare_im('PAT_98_152_562')\n",
    "im2, mask2 = prepare_im('PAT_241_367_89')\n",
    "\n",
    "plt.imshow(mask1, cmap='gray')"
   ]
  },
  {
   "cell_type": "markdown",
   "id": "087f0de4",
   "metadata": {},
   "source": [
    "### Diameter"
   ]
  },
  {
   "cell_type": "code",
   "execution_count": 21,
   "id": "a318ae7d",
   "metadata": {},
   "outputs": [],
   "source": [
    "pixels_in_col = np.sum(mask1,axis=0)\n",
    "pixels_in_row = np.sum(mask1,axis=1)\n",
    "\n",
    "pixels2 = pixels_in_col > 0\n",
    "pixels2 = pixels2.astype(np.int8)"
   ]
  },
  {
   "cell_type": "code",
   "execution_count": 41,
   "id": "8a2cd82e",
   "metadata": {},
   "outputs": [
    {
     "data": {
      "text/plain": [
       "array([False, False, False, False, False, False, False, False, False,\n",
       "       False, False, False, False, False, False, False, False, False,\n",
       "       False, False, False, False, False, False, False, False, False,\n",
       "       False, False, False, False, False, False, False, False, False,\n",
       "       False, False, False, False, False, False, False, False, False,\n",
       "       False, False, False, False, False, False, False, False, False,\n",
       "       False, False, False, False, False, False, False, False, False,\n",
       "       False, False, False, False, False, False, False, False, False,\n",
       "       False, False, False, False, False, False, False, False, False,\n",
       "       False, False, False, False, False, False, False, False, False,\n",
       "       False, False, False, False, False, False, False, False, False,\n",
       "       False, False, False, False, False, False, False, False, False,\n",
       "       False, False, False, False, False, False, False, False, False,\n",
       "       False, False, False, False, False, False, False, False,  True,\n",
       "        True,  True,  True,  True,  True,  True,  True,  True,  True,\n",
       "       False, False, False, False, False, False, False, False, False,\n",
       "       False, False, False, False, False, False, False, False, False,\n",
       "       False, False, False, False, False, False, False, False, False,\n",
       "       False, False, False, False, False, False, False, False, False,\n",
       "       False, False, False, False, False, False, False, False, False,\n",
       "       False, False, False, False, False, False, False, False, False,\n",
       "       False, False, False, False, False, False, False, False, False,\n",
       "       False, False, False, False, False, False, False, False, False])"
      ]
     },
     "execution_count": 41,
     "metadata": {},
     "output_type": "execute_result"
    }
   ],
   "source": [
    "pixels_in_col == np.max(pixels_in_col)"
   ]
  },
  {
   "cell_type": "code",
   "execution_count": 22,
   "id": "faec355a",
   "metadata": {},
   "outputs": [
    {
     "data": {
      "text/plain": [
       "118.347824"
      ]
     },
     "execution_count": 22,
     "metadata": {},
     "output_type": "execute_result"
    }
   ],
   "source": [
    "np.max(pixels_in_row)"
   ]
  },
  {
   "cell_type": "code",
   "execution_count": 24,
   "id": "aed3047e",
   "metadata": {},
   "outputs": [
    {
     "data": {
      "text/plain": [
       "(207, 207)"
      ]
     },
     "execution_count": 24,
     "metadata": {},
     "output_type": "execute_result"
    }
   ],
   "source": [
    "mask1.shape"
   ]
  },
  {
   "cell_type": "code",
   "execution_count": 27,
   "id": "45dccdad",
   "metadata": {},
   "outputs": [
    {
     "data": {
      "text/plain": [
       "<matplotlib.image.AxesImage at 0x27963d9d640>"
      ]
     },
     "execution_count": 27,
     "metadata": {},
     "output_type": "execute_result"
    },
    {
     "data": {
      "image/png": "[encoded data removed]",
      "text/plain": [
       "<Figure size 432x288 with 1 Axes>"
      ]
     },
     "metadata": {
      "needs_background": "light"
     },
     "output_type": "display_data"
    }
   ],
   "source": [
    "plt.imshow(mask1)"
   ]
  },
  {
   "cell_type": "code",
   "execution_count": 29,
   "id": "51dfde27",
   "metadata": {},
   "outputs": [
    {
     "data": {
      "text/plain": [
       "0.1608611349046944"
      ]
     },
     "execution_count": 29,
     "metadata": {},
     "output_type": "execute_result"
    }
   ],
   "source": [
    "np.sum(mask1)/mask1.shape[0]**2"
   ]
  },
  {
   "cell_type": "code",
   "execution_count": 32,
   "id": "167a6301",
   "metadata": {},
   "outputs": [],
   "source": [
    "mask1[mask1 > 0] =1"
   ]
  },
  {
   "cell_type": "code",
   "execution_count": 33,
   "id": "377a8ea0",
   "metadata": {},
   "outputs": [
    {
     "data": {
      "text/plain": [
       "array([0., 1.], dtype=float32)"
      ]
     },
     "execution_count": 33,
     "metadata": {},
     "output_type": "execute_result"
    }
   ],
   "source": [
    "np.unique(mask1)"
   ]
  },
  {
   "cell_type": "code",
   "execution_count": 34,
   "id": "937be5de",
   "metadata": {},
   "outputs": [],
   "source": [
    "dim = mask1.shape[0]"
   ]
  },
  {
   "cell_type": "code",
   "execution_count": 36,
   "id": "4bada85a",
   "metadata": {},
   "outputs": [],
   "source": [
    "upper = mask1[:int(dim/2)]"
   ]
  },
  {
   "cell_type": "code",
   "execution_count": 37,
   "id": "df36aa14",
   "metadata": {},
   "outputs": [
    {
     "data": {
      "text/plain": [
       "<matplotlib.image.AxesImage at 0x279634920a0>"
      ]
     },
     "execution_count": 37,
     "metadata": {},
     "output_type": "execute_result"
    },
    {
     "data": {
      "image/png": "[encoded data removed]",
      "text/plain": [
       "<Figure size 432x288 with 1 Axes>"
      ]
     },
     "metadata": {
      "needs_background": "light"
     },
     "output_type": "display_data"
    }
   ],
   "source": [
    "plt.imshow(upper)"
   ]
  },
  {
   "cell_type": "code",
   "execution_count": null,
   "id": "e90ce9ed",
   "metadata": {},
   "outputs": [],
   "source": []
  },
  {
   "cell_type": "code",
   "execution_count": null,
   "id": "a69b4e8d",
   "metadata": {},
   "outputs": [],
   "source": []
  },
  {
   "cell_type": "code",
   "execution_count": null,
   "id": "71976e66",
   "metadata": {},
   "outputs": [],
   "source": []
  },
  {
   "cell_type": "code",
   "execution_count": null,
   "id": "95056885",
   "metadata": {},
   "outputs": [],
   "source": []
  }
 ],
 "metadata": {
  "kernelspec": {
   "display_name": "Python 3 (ipykernel)",
   "language": "python",
   "name": "python3"
  },
  "language_info": {
   "codemirror_mode": {
    "name": "ipython",
    "version": 3
   },
   "file_extension": ".py",
   "mimetype": "text/x-python",
   "name": "python",
   "nbconvert_exporter": "python",
   "pygments_lexer": "ipython3",
   "version": "3.9.12"
  }
 },
 "nbformat": 4,
 "nbformat_minor": 5
}
