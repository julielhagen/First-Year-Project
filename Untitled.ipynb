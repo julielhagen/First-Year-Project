{
 "cells": [
  {
   "cell_type": "code",
   "execution_count": 1,
   "id": "cac18f34",
   "metadata": {},
   "outputs": [],
   "source": [
    "import os\n",
    "from os.path import isfile, join\n",
    "\n",
    "import pandas as pd\n",
    "\n",
    "import numpy as np\n",
    "\n",
    "from prep_image import prep_im, prep_gt\n",
    "import matplotlib.pyplot as plt\n",
    "\n",
    "# Import feature \n",
    "from asymmetry import mean_asymmetry\n",
    "from color import color_var\n",
    "from compactness_score import compactness_score\n",
    "from convexity import convexity_score"
   ]
  },
  {
   "cell_type": "code",
   "execution_count": 3,
   "id": "587b3baa",
   "metadata": {},
   "outputs": [],
   "source": [
    "file_data = 'metadata.csv'\n",
    "image_folder = 'test_images'"
   ]
  },
  {
   "cell_type": "code",
   "execution_count": 24,
   "id": "5ff2a08d",
   "metadata": {},
   "outputs": [],
   "source": [
    "# Image paths\n",
    "image_ids = [f for f in os.listdir(image_folder) if isfile(join(image_folder, f))]\n",
    "n_images = len(image_ids)"
   ]
  },
  {
   "cell_type": "code",
   "execution_count": 5,
   "id": "4289c8c6",
   "metadata": {},
   "outputs": [],
   "source": [
    "# Extract image ids and labels\n",
    "df = pd.read_csv(file_data)"
   ]
  },
  {
   "cell_type": "code",
   "execution_count": 6,
   "id": "6771888d",
   "metadata": {},
   "outputs": [],
   "source": [
    "labels = []\n",
    "for i in range(len(df)):\n",
    "    if df['img_id'][i] in image_ids:\n",
    "        labels.append(df['diagnostic'][i])"
   ]
  },
  {
   "cell_type": "code",
   "execution_count": 7,
   "id": "91911599",
   "metadata": {},
   "outputs": [],
   "source": [
    "# Extract feature\n",
    "features_names = ['assymmetry', 'color_r', 'color_g', 'color_b', 'compactness', 'convexity']\n",
    "features_n = len(features_names)\n",
    "features = np.zeros([n_images, features_n], dtype = np.float16)"
   ]
  },
  {
   "cell_type": "code",
   "execution_count": null,
   "id": "7d41a29d",
   "metadata": {},
   "outputs": [],
   "source": [
    "# Extract feature\n",
    "images = []\n",
    "for i in range(len(image_ids)):\n",
    "    \n",
    "    # Get maks\n",
    "    im = prep_im(image_ids[i], image_folder + os.sep, output_shape = (300,300))\n",
    "    arr = np.asarray(im)\n",
    "    images.append(arr)\n",
    "    \n",
    "    im_mask = prep_gt(image_ids[i].split('.')[0], image_folder + '_groundtruths/', output_shape = (300,300))\n",
    "    \n",
    "    # Extract features\n",
    "    x = extract_features(im, im_mask)\n",
    "    features[i,:] = x"
   ]
  },
  {
   "cell_type": "code",
   "execution_count": null,
   "id": "5dd028eb",
   "metadata": {},
   "outputs": [],
   "source": [
    "# Save image_ids and features in a file\n",
    "df_features = pd.DataFrame(features, columns = feature_names)\n",
    "df_features.to_csv(file_features, index = False)"
   ]
  },
  {
   "cell_type": "markdown",
   "id": "5a661668",
   "metadata": {},
   "source": [
    "## Extract features"
   ]
  },
  {
   "cell_type": "code",
   "execution_count": 2,
   "id": "6cfe0783",
   "metadata": {},
   "outputs": [],
   "source": [
    "def extract_features(im, im_mask):\n",
    "    \n",
    "    # Assymmetry\n",
    "    asymmetry = mean_asymmetry(im_mask)\n",
    "    \n",
    "    # Color\n",
    "    col_r, col_g, col_b = color_var(im, im_mask)\n",
    "    \n",
    "    # Compactness\n",
    "    compactness = compactness_score(im_mask)\n",
    "    \n",
    "    # Convexity\n",
    "    convexity = convexity_score(im_mask)\n",
    "    \n",
    "    return np.array([asymmetry, col_r, col_g, col_b, compactness, convexity])"
   ]
  },
  {
   "cell_type": "markdown",
   "id": "3038220f",
   "metadata": {},
   "source": [
    "## Train classifier"
   ]
  },
  {
   "cell_type": "code",
   "execution_count": null,
   "id": "1df8cfab",
   "metadata": {},
   "outputs": [],
   "source": []
  }
 ],
 "metadata": {
  "kernelspec": {
   "display_name": "Python 3 (ipykernel)",
   "language": "python",
   "name": "python3"
  },
  "language_info": {
   "codemirror_mode": {
    "name": "ipython",
    "version": 3
   },
   "file_extension": ".py",
   "mimetype": "text/x-python",
   "name": "python",
   "nbconvert_exporter": "python",
   "pygments_lexer": "ipython3",
   "version": "3.9.12"
  }
 },
 "nbformat": 4,
 "nbformat_minor": 5
}
