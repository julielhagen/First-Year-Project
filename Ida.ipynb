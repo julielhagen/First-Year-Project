{
 "cells": [
  {
   "cell_type": "code",
   "execution_count": 153,
   "id": "a380e674",
   "metadata": {},
   "outputs": [],
   "source": [
    "import pandas as pd\n",
    "import numpy as np\n",
    "from sklearn.neighbors import KNeighborsClassifier\n",
    "from sklearn.model_selection import train_test_split\n",
    "from MyModel import *\n",
    "from prep_image import prep_im_and_mask\n",
    "import os\n",
    "import matplotlib.pyplot as plt\n",
    "from skimage.color import rgb2gray"
   ]
  },
  {
   "cell_type": "code",
   "execution_count": 244,
   "id": "ce8b358a",
   "metadata": {},
   "outputs": [],
   "source": [
    "df_features = pd.read_csv('feature_data.csv')\n",
    "df = pd.read_csv('metadata_withmasks.csv')\n",
    "\n",
    "df = df[df['mask']==1]\n",
    "labels = df['diagnostic']"
   ]
  },
  {
   "cell_type": "code",
   "execution_count": 245,
   "id": "ea960b8b",
   "metadata": {},
   "outputs": [
    {
     "data": {
      "text/html": [
       "<div>\n",
       "<style scoped>\n",
       "    .dataframe tbody tr th:only-of-type {\n",
       "        vertical-align: middle;\n",
       "    }\n",
       "\n",
       "    .dataframe tbody tr th {\n",
       "        vertical-align: top;\n",
       "    }\n",
       "\n",
       "    .dataframe thead th {\n",
       "        text-align: right;\n",
       "    }\n",
       "</style>\n",
       "<table border=\"1\" class=\"dataframe\">\n",
       "  <thead>\n",
       "    <tr style=\"text-align: right;\">\n",
       "      <th></th>\n",
       "      <th>patient_id</th>\n",
       "      <th>img_id</th>\n",
       "      <th>mean_assymmetry</th>\n",
       "      <th>best_asymmetry</th>\n",
       "      <th>worst_asymmetry</th>\n",
       "      <th>red_var</th>\n",
       "      <th>green_var</th>\n",
       "      <th>blue_var</th>\n",
       "      <th>hue_var</th>\n",
       "      <th>sat_var</th>\n",
       "      <th>...</th>\n",
       "      <th>compactness</th>\n",
       "      <th>area</th>\n",
       "      <th>perimeter</th>\n",
       "      <th>convexity</th>\n",
       "      <th>F1</th>\n",
       "      <th>F2</th>\n",
       "      <th>F3</th>\n",
       "      <th>F10</th>\n",
       "      <th>F11</th>\n",
       "      <th>F12</th>\n",
       "    </tr>\n",
       "  </thead>\n",
       "  <tbody>\n",
       "    <tr>\n",
       "      <th>69</th>\n",
       "      <td>PAT_1461</td>\n",
       "      <td>PAT_1461_1600_867.png</td>\n",
       "      <td>0.0802</td>\n",
       "      <td>0.0761</td>\n",
       "      <td>0.086</td>\n",
       "      <td>0.004887</td>\n",
       "      <td>0.005123</td>\n",
       "      <td>0.006126</td>\n",
       "      <td>0.0953</td>\n",
       "      <td>0.005722</td>\n",
       "      <td>...</td>\n",
       "      <td>0.2778</td>\n",
       "      <td>8420.0</td>\n",
       "      <td>617.0</td>\n",
       "      <td>0.9365</td>\n",
       "      <td>0.3616</td>\n",
       "      <td>0.3284</td>\n",
       "      <td>0.31</td>\n",
       "      <td>-0.1195</td>\n",
       "      <td>-0.1604</td>\n",
       "      <td>-0.1829</td>\n",
       "    </tr>\n",
       "  </tbody>\n",
       "</table>\n",
       "<p>1 rows × 24 columns</p>\n",
       "</div>"
      ],
      "text/plain": [
       "   patient_id                 img_id  mean_assymmetry  best_asymmetry  \\\n",
       "69   PAT_1461  PAT_1461_1600_867.png           0.0802          0.0761   \n",
       "\n",
       "    worst_asymmetry   red_var  green_var  blue_var  hue_var   sat_var  ...  \\\n",
       "69            0.086  0.004887   0.005123  0.006126   0.0953  0.005722  ...   \n",
       "\n",
       "    compactness    area  perimeter  convexity      F1      F2    F3     F10  \\\n",
       "69       0.2778  8420.0      617.0     0.9365  0.3616  0.3284  0.31 -0.1195   \n",
       "\n",
       "       F11     F12  \n",
       "69 -0.1604 -0.1829  \n",
       "\n",
       "[1 rows x 24 columns]"
      ]
     },
     "execution_count": 245,
     "metadata": {},
     "output_type": "execute_result"
    }
   ],
   "source": [
    "df_features.iloc[[69]]"
   ]
  },
  {
   "cell_type": "code",
   "execution_count": 246,
   "id": "5f835c05",
   "metadata": {},
   "outputs": [],
   "source": [
    "feature_names = ['mean_assymmetry', 'best_asymmetry', 'worst_asymmetry', 'red_var', 'green_var', 'blue_var', \\\n",
    "     'hue_var', 'sat_var', 'val_var', 'dom_hue', 'dom_sat', 'dom_val', \\\n",
    "     'compactness', 'area', 'perimeter', 'convexity', 'F1', 'F2', 'F3', 'F10', 'F11', 'F12']"
   ]
  },
  {
   "cell_type": "code",
   "execution_count": 247,
   "id": "6ee8e313",
   "metadata": {},
   "outputs": [],
   "source": [
    "X=df_features\n",
    "y = (labels == 'BCC') | (labels == 'SCC') | (labels == 'MEL')\n",
    "X_train, X_test, y_train, y_test = train_test_split(X, y, test_size = 0.2, random_state = 41, stratify = y)"
   ]
  },
  {
   "cell_type": "code",
   "execution_count": 262,
   "id": "df3b0f76",
   "metadata": {},
   "outputs": [
    {
     "name": "stderr",
     "output_type": "stream",
     "text": [
      "C:\\Users\\idawe\\anaconda3\\lib\\site-packages\\sklearn\\base.py:443: UserWarning: X has feature names, but SelectKBest was fitted without feature names\n",
      "  warnings.warn(\n"
     ]
    },
    {
     "ename": "ValueError",
     "evalue": "X has 22 features, but SelectKBest is expecting 11 features as input.",
     "output_type": "error",
     "traceback": [
      "\u001b[1;31m---------------------------------------------------------------------------\u001b[0m",
      "\u001b[1;31mValueError\u001b[0m                                Traceback (most recent call last)",
      "Input \u001b[1;32mIn [262]\u001b[0m, in \u001b[0;36m<cell line: 1>\u001b[1;34m()\u001b[0m\n\u001b[1;32m----> 1\u001b[0m X_train_transformed \u001b[38;5;241m=\u001b[39m apply_pca(\u001b[43mfeature_selector\u001b[49m\u001b[38;5;241;43m.\u001b[39;49m\u001b[43mtransform\u001b[49m\u001b[43m(\u001b[49m\u001b[43mX_train\u001b[49m\u001b[43m[\u001b[49m\u001b[43mfeature_names\u001b[49m\u001b[43m]\u001b[49m\u001b[43m)\u001b[49m)\n\u001b[0;32m      2\u001b[0m X_test_transformed \u001b[38;5;241m=\u001b[39m apply_pca(feature_selector\u001b[38;5;241m.\u001b[39mtransform(X_test[feature_names]))\n",
      "File \u001b[1;32m~\\anaconda3\\lib\\site-packages\\sklearn\\feature_selection\\_base.py:83\u001b[0m, in \u001b[0;36mSelectorMixin.transform\u001b[1;34m(self, X)\u001b[0m\n\u001b[0;32m     69\u001b[0m \u001b[38;5;124;03m\"\"\"Reduce X to the selected features.\u001b[39;00m\n\u001b[0;32m     70\u001b[0m \n\u001b[0;32m     71\u001b[0m \u001b[38;5;124;03mParameters\u001b[39;00m\n\u001b[1;32m   (...)\u001b[0m\n\u001b[0;32m     79\u001b[0m \u001b[38;5;124;03m    The input samples with only the selected features.\u001b[39;00m\n\u001b[0;32m     80\u001b[0m \u001b[38;5;124;03m\"\"\"\u001b[39;00m\n\u001b[0;32m     81\u001b[0m \u001b[38;5;66;03m# note: we use _safe_tags instead of _get_tags because this is a\u001b[39;00m\n\u001b[0;32m     82\u001b[0m \u001b[38;5;66;03m# public Mixin.\u001b[39;00m\n\u001b[1;32m---> 83\u001b[0m X \u001b[38;5;241m=\u001b[39m \u001b[38;5;28;43mself\u001b[39;49m\u001b[38;5;241;43m.\u001b[39;49m\u001b[43m_validate_data\u001b[49m\u001b[43m(\u001b[49m\n\u001b[0;32m     84\u001b[0m \u001b[43m    \u001b[49m\u001b[43mX\u001b[49m\u001b[43m,\u001b[49m\n\u001b[0;32m     85\u001b[0m \u001b[43m    \u001b[49m\u001b[43mdtype\u001b[49m\u001b[38;5;241;43m=\u001b[39;49m\u001b[38;5;28;43;01mNone\u001b[39;49;00m\u001b[43m,\u001b[49m\n\u001b[0;32m     86\u001b[0m \u001b[43m    \u001b[49m\u001b[43maccept_sparse\u001b[49m\u001b[38;5;241;43m=\u001b[39;49m\u001b[38;5;124;43m\"\u001b[39;49m\u001b[38;5;124;43mcsr\u001b[39;49m\u001b[38;5;124;43m\"\u001b[39;49m\u001b[43m,\u001b[49m\n\u001b[0;32m     87\u001b[0m \u001b[43m    \u001b[49m\u001b[43mforce_all_finite\u001b[49m\u001b[38;5;241;43m=\u001b[39;49m\u001b[38;5;129;43;01mnot\u001b[39;49;00m\u001b[43m \u001b[49m\u001b[43m_safe_tags\u001b[49m\u001b[43m(\u001b[49m\u001b[38;5;28;43mself\u001b[39;49m\u001b[43m,\u001b[49m\u001b[43m \u001b[49m\u001b[43mkey\u001b[49m\u001b[38;5;241;43m=\u001b[39;49m\u001b[38;5;124;43m\"\u001b[39;49m\u001b[38;5;124;43mallow_nan\u001b[39;49m\u001b[38;5;124;43m\"\u001b[39;49m\u001b[43m)\u001b[49m\u001b[43m,\u001b[49m\n\u001b[0;32m     88\u001b[0m \u001b[43m    \u001b[49m\u001b[43mreset\u001b[49m\u001b[38;5;241;43m=\u001b[39;49m\u001b[38;5;28;43;01mFalse\u001b[39;49;00m\u001b[43m,\u001b[49m\n\u001b[0;32m     89\u001b[0m \u001b[43m\u001b[49m\u001b[43m)\u001b[49m\n\u001b[0;32m     90\u001b[0m \u001b[38;5;28;01mreturn\u001b[39;00m \u001b[38;5;28mself\u001b[39m\u001b[38;5;241m.\u001b[39m_transform(X)\n",
      "File \u001b[1;32m~\\anaconda3\\lib\\site-packages\\sklearn\\base.py:585\u001b[0m, in \u001b[0;36mBaseEstimator._validate_data\u001b[1;34m(self, X, y, reset, validate_separately, **check_params)\u001b[0m\n\u001b[0;32m    582\u001b[0m     out \u001b[38;5;241m=\u001b[39m X, y\n\u001b[0;32m    584\u001b[0m \u001b[38;5;28;01mif\u001b[39;00m \u001b[38;5;129;01mnot\u001b[39;00m no_val_X \u001b[38;5;129;01mand\u001b[39;00m check_params\u001b[38;5;241m.\u001b[39mget(\u001b[38;5;124m\"\u001b[39m\u001b[38;5;124mensure_2d\u001b[39m\u001b[38;5;124m\"\u001b[39m, \u001b[38;5;28;01mTrue\u001b[39;00m):\n\u001b[1;32m--> 585\u001b[0m     \u001b[38;5;28;43mself\u001b[39;49m\u001b[38;5;241;43m.\u001b[39;49m\u001b[43m_check_n_features\u001b[49m\u001b[43m(\u001b[49m\u001b[43mX\u001b[49m\u001b[43m,\u001b[49m\u001b[43m \u001b[49m\u001b[43mreset\u001b[49m\u001b[38;5;241;43m=\u001b[39;49m\u001b[43mreset\u001b[49m\u001b[43m)\u001b[49m\n\u001b[0;32m    587\u001b[0m \u001b[38;5;28;01mreturn\u001b[39;00m out\n",
      "File \u001b[1;32m~\\anaconda3\\lib\\site-packages\\sklearn\\base.py:400\u001b[0m, in \u001b[0;36mBaseEstimator._check_n_features\u001b[1;34m(self, X, reset)\u001b[0m\n\u001b[0;32m    397\u001b[0m     \u001b[38;5;28;01mreturn\u001b[39;00m\n\u001b[0;32m    399\u001b[0m \u001b[38;5;28;01mif\u001b[39;00m n_features \u001b[38;5;241m!=\u001b[39m \u001b[38;5;28mself\u001b[39m\u001b[38;5;241m.\u001b[39mn_features_in_:\n\u001b[1;32m--> 400\u001b[0m     \u001b[38;5;28;01mraise\u001b[39;00m \u001b[38;5;167;01mValueError\u001b[39;00m(\n\u001b[0;32m    401\u001b[0m         \u001b[38;5;124mf\u001b[39m\u001b[38;5;124m\"\u001b[39m\u001b[38;5;124mX has \u001b[39m\u001b[38;5;132;01m{\u001b[39;00mn_features\u001b[38;5;132;01m}\u001b[39;00m\u001b[38;5;124m features, but \u001b[39m\u001b[38;5;132;01m{\u001b[39;00m\u001b[38;5;28mself\u001b[39m\u001b[38;5;241m.\u001b[39m\u001b[38;5;18m__class__\u001b[39m\u001b[38;5;241m.\u001b[39m\u001b[38;5;18m__name__\u001b[39m\u001b[38;5;132;01m}\u001b[39;00m\u001b[38;5;124m \u001b[39m\u001b[38;5;124m\"\u001b[39m\n\u001b[0;32m    402\u001b[0m         \u001b[38;5;124mf\u001b[39m\u001b[38;5;124m\"\u001b[39m\u001b[38;5;124mis expecting \u001b[39m\u001b[38;5;132;01m{\u001b[39;00m\u001b[38;5;28mself\u001b[39m\u001b[38;5;241m.\u001b[39mn_features_in_\u001b[38;5;132;01m}\u001b[39;00m\u001b[38;5;124m features as input.\u001b[39m\u001b[38;5;124m\"\u001b[39m\n\u001b[0;32m    403\u001b[0m     )\n",
      "\u001b[1;31mValueError\u001b[0m: X has 22 features, but SelectKBest is expecting 11 features as input."
     ]
    }
   ],
   "source": [
    "X_train_transformed = apply_pca(feature_selector.transform(X_train[feature_names]))\n",
    "X_test_transformed = apply_pca(feature_selector.transfoX_test[feature_names])"
   ]
  },
  {
   "cell_type": "code",
   "execution_count": 251,
   "id": "f52d3d49",
   "metadata": {},
   "outputs": [],
   "source": [
    "from sklearn.feature_selection import SelectKBest,mutual_info_classif"
   ]
  },
  {
   "cell_type": "code",
   "execution_count": 252,
   "id": "ef3b1c54",
   "metadata": {},
   "outputs": [
    {
     "data": {
      "text/plain": [
       "array([[-1.08870056, -1.52458921, -0.7123015 ,  0.44253662,  0.20040938],\n",
       "       [-2.33830881, -0.38093136,  0.50773308, -1.09308695, -0.03744881],\n",
       "       [-0.99994051, -0.70476026,  0.09241615,  0.33677424,  0.20955509],\n",
       "       ...,\n",
       "       [-0.96566009,  2.82113418, -0.64923646,  0.51770256, -0.37194941],\n",
       "       [-1.66790645, -0.18487079,  0.32875292, -0.12788932, -0.67979105],\n",
       "       [-0.21891884,  0.09666734,  1.37219005,  0.6917239 ,  0.51230761]])"
      ]
     },
     "execution_count": 252,
     "metadata": {},
     "output_type": "execute_result"
    }
   ],
   "source": [
    "feature_selector = SelectKBest(mutual_info_classif, k=5)\n",
    "feature_selector.fit_transform(X_train_transformed, y_train)"
   ]
  },
  {
   "cell_type": "code",
   "execution_count": 253,
   "id": "93b301bf",
   "metadata": {},
   "outputs": [
    {
     "data": {
      "text/plain": [
       "array([[-1.08870056, -1.52458921, -0.7123015 ,  0.44253662,  0.20040938],\n",
       "       [-2.33830881, -0.38093136,  0.50773308, -1.09308695, -0.03744881],\n",
       "       [-0.99994051, -0.70476026,  0.09241615,  0.33677424,  0.20955509],\n",
       "       ...,\n",
       "       [-0.96566009,  2.82113418, -0.64923646,  0.51770256, -0.37194941],\n",
       "       [-1.66790645, -0.18487079,  0.32875292, -0.12788932, -0.67979105],\n",
       "       [-0.21891884,  0.09666734,  1.37219005,  0.6917239 ,  0.51230761]])"
      ]
     },
     "execution_count": 253,
     "metadata": {},
     "output_type": "execute_result"
    }
   ],
   "source": [
    "feature_selector.transform(X_train_transformed)"
   ]
  },
  {
   "cell_type": "code",
   "execution_count": null,
   "id": "8caa06f3",
   "metadata": {},
   "outputs": [],
   "source": []
  },
  {
   "cell_type": "code",
   "execution_count": null,
   "id": "a3886175",
   "metadata": {},
   "outputs": [],
   "source": []
  },
  {
   "cell_type": "code",
   "execution_count": null,
   "id": "fcc59d38",
   "metadata": {},
   "outputs": [],
   "source": []
  },
  {
   "cell_type": "code",
   "execution_count": null,
   "id": "f7c856a3",
   "metadata": {},
   "outputs": [],
   "source": []
  },
  {
   "cell_type": "code",
   "execution_count": 250,
   "id": "f8835c5f",
   "metadata": {},
   "outputs": [
    {
     "data": {
      "text/plain": [
       "(548, 11)"
      ]
     },
     "execution_count": 250,
     "metadata": {},
     "output_type": "execute_result"
    }
   ],
   "source": [
    "np.shape(X_train_transformed)"
   ]
  },
  {
   "cell_type": "code",
   "execution_count": 254,
   "id": "b28831d1",
   "metadata": {},
   "outputs": [],
   "source": [
    "knn = KNeighborsClassifier(3)"
   ]
  },
  {
   "cell_type": "code",
   "execution_count": 255,
   "id": "79da5721",
   "metadata": {},
   "outputs": [
    {
     "data": {
      "text/plain": [
       "KNeighborsClassifier(n_neighbors=3)"
      ]
     },
     "execution_count": 255,
     "metadata": {},
     "output_type": "execute_result"
    }
   ],
   "source": [
    "knn.fit(feature_selector.transform(X_train_transformed),y_train)"
   ]
  },
  {
   "cell_type": "code",
   "execution_count": 259,
   "id": "6708e65e",
   "metadata": {},
   "outputs": [],
   "source": [
    "results_pca = knn.predict(feature_selector.transform(X_test_transformed))"
   ]
  },
  {
   "cell_type": "code",
   "execution_count": 261,
   "id": "b27ffd27",
   "metadata": {},
   "outputs": [
    {
     "data": {
      "text/plain": [
       "0.4807692307692308"
      ]
     },
     "execution_count": 261,
     "metadata": {},
     "output_type": "execute_result"
    }
   ],
   "source": [
    "recall_score(y_test,knn.predict(feature_selector.transform(X_test_transformed)))"
   ]
  },
  {
   "cell_type": "code",
   "execution_count": 183,
   "id": "d805a40f",
   "metadata": {},
   "outputs": [],
   "source": [
    "knn.fit(X_train[feature_names],y_train)\n",
    "results = knn.predict(X_test[feature_names])"
   ]
  },
  {
   "cell_type": "code",
   "execution_count": 184,
   "id": "43e9f1de",
   "metadata": {},
   "outputs": [],
   "source": [
    "predictions = pd.DataFrame({'Image ID':X_test['img_id'].tolist(), 'Results':results, 'Results PCA':results_pca, 'True':y_test})"
   ]
  },
  {
   "cell_type": "code",
   "execution_count": 258,
   "id": "61d02bd4",
   "metadata": {},
   "outputs": [
    {
     "data": {
      "text/plain": [
       "94"
      ]
     },
     "execution_count": 258,
     "metadata": {},
     "output_type": "execute_result"
    }
   ],
   "source": [
    "sum(y_test == results_pca)"
   ]
  },
  {
   "cell_type": "code",
   "execution_count": 193,
   "id": "dbc84f56",
   "metadata": {},
   "outputs": [],
   "source": [
    "from sklearn.neighbors import KNeighborsClassifier, NeighborhoodComponentsAnalysis\n",
    "from sklearn.preprocessing import StandardScaler\n",
    "from sklearn.pipeline import make_pipeline"
   ]
  },
  {
   "cell_type": "code",
   "execution_count": 198,
   "id": "d17da918",
   "metadata": {},
   "outputs": [],
   "source": [
    "feature_names = ['F10', 'F11', 'F12', 'convexity', 'F2', 'dom_hue', 'compactness', 'best_asymmetry']"
   ]
  },
  {
   "cell_type": "code",
   "execution_count": 234,
   "id": "58d3a5af",
   "metadata": {},
   "outputs": [],
   "source": [
    "feature_names = ['mean_assymmetry', 'best_asymmetry', 'worst_asymmetry', 'red_var', 'green_var', 'blue_var', \\\n",
    "     'hue_var', 'sat_var', 'val_var', 'dom_hue', 'dom_sat', 'dom_val', \\\n",
    "     'compactness', 'area', 'perimeter', 'convexity', 'F1', 'F2', 'F3', 'F10', 'F11', 'F12']\n"
   ]
  },
  {
   "cell_type": "code",
   "execution_count": 235,
   "id": "0a43a921",
   "metadata": {},
   "outputs": [],
   "source": [
    "nca = make_pipeline(\n",
    "    StandardScaler(),\n",
    "    NeighborhoodComponentsAnalysis(n_components=5, random_state=0),\n",
    ")"
   ]
  },
  {
   "cell_type": "code",
   "execution_count": 236,
   "id": "1d503c14",
   "metadata": {},
   "outputs": [
    {
     "data": {
      "text/plain": [
       "Pipeline(steps=[('standardscaler', StandardScaler()),\n",
       "                ('neighborhoodcomponentsanalysis',\n",
       "                 NeighborhoodComponentsAnalysis(n_components=5,\n",
       "                                                random_state=0))])"
      ]
     },
     "execution_count": 236,
     "metadata": {},
     "output_type": "execute_result"
    }
   ],
   "source": [
    "nca.fit(X_train[feature_names],y_train)"
   ]
  },
  {
   "cell_type": "code",
   "execution_count": 237,
   "id": "9dd844c2",
   "metadata": {},
   "outputs": [
    {
     "data": {
      "text/plain": [
       "KNeighborsClassifier(n_neighbors=3)"
      ]
     },
     "execution_count": 237,
     "metadata": {},
     "output_type": "execute_result"
    }
   ],
   "source": [
    "knn.fit(nca.transform(X_train[feature_names]), y_train)"
   ]
  },
  {
   "cell_type": "code",
   "execution_count": 238,
   "id": "9236e780",
   "metadata": {},
   "outputs": [],
   "source": [
    "acc_knn = knn.score(nca.transform(X_test[feature_names]),y_test)"
   ]
  },
  {
   "cell_type": "code",
   "execution_count": 239,
   "id": "e044924d",
   "metadata": {},
   "outputs": [
    {
     "data": {
      "text/plain": [
       "0.717391304347826"
      ]
     },
     "execution_count": 239,
     "metadata": {},
     "output_type": "execute_result"
    }
   ],
   "source": [
    "acc_knn"
   ]
  },
  {
   "cell_type": "code",
   "execution_count": 240,
   "id": "c5715b0a",
   "metadata": {},
   "outputs": [],
   "source": [
    "from sklearn.metrics import recall_score"
   ]
  },
  {
   "cell_type": "code",
   "execution_count": 241,
   "id": "ae98d9cb",
   "metadata": {},
   "outputs": [
    {
     "data": {
      "text/plain": [
       "0.5384615384615384"
      ]
     },
     "execution_count": 241,
     "metadata": {},
     "output_type": "execute_result"
    }
   ],
   "source": [
    "recall_score(y_test,knn.predict(nca.transform(X_test[feature_names])))"
   ]
  },
  {
   "cell_type": "code",
   "execution_count": 242,
   "id": "95db9a98",
   "metadata": {},
   "outputs": [],
   "source": [
    "X_embedded = nca.transform(X[feature_names])"
   ]
  },
  {
   "cell_type": "code",
   "execution_count": 243,
   "id": "c21b692e",
   "metadata": {},
   "outputs": [
    {
     "data": {
      "text/plain": [
       "<matplotlib.collections.PathCollection at 0x2bb0cf75190>"
      ]
     },
     "execution_count": 243,
     "metadata": {},
     "output_type": "execute_result"
    },
    {
     "data": {
      "image/png": "[encoded data removed]",
      "text/plain": [
       "<Figure size 432x288 with 1 Axes>"
      ]
     },
     "metadata": {
      "needs_background": "light"
     },
     "output_type": "display_data"
    }
   ],
   "source": [
    "plt.scatter(X_embedded[:, 0], X_embedded[:, 1], c=y, s=30, cmap=\"Set1\")"
   ]
  },
  {
   "cell_type": "code",
   "execution_count": null,
   "id": "bca76101",
   "metadata": {},
   "outputs": [],
   "source": []
  }
 ],
 "metadata": {
  "kernelspec": {
   "display_name": "Python 3 (ipykernel)",
   "language": "python",
   "name": "python3"
  },
  "language_info": {
   "codemirror_mode": {
    "name": "ipython",
    "version": 3
   },
   "file_extension": ".py",
   "mimetype": "text/x-python",
   "name": "python",
   "nbconvert_exporter": "python",
   "pygments_lexer": "ipython3",
   "version": "3.9.12"
  }
 },
 "nbformat": 4,
 "nbformat_minor": 5
}
