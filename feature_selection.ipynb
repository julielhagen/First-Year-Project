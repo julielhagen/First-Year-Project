{
 "cells": [
  {
   "cell_type": "markdown",
   "id": "b9188b1b",
   "metadata": {},
   "source": [
    "## This file contains a function for plotting best features after feature selections "
   ]
  },
  {
   "cell_type": "code",
   "execution_count": 2,
   "id": "da12d283",
   "metadata": {},
   "outputs": [],
   "source": [
    "import pandas as pd\n",
    "import numpy as np\n",
    "import matplotlib.pyplot as plt\n",
    "import os\n",
    "\n",
    "#from sklearn.feature_selection import VarianceTreshold\n",
    "from sklearn.feature_selection import SelectKBest,mutual_info_classif\n",
    "from sklearn.model_selection import train_test_split"
   ]
  },
  {
   "cell_type": "code",
   "execution_count": 3,
   "id": "742c70e9",
   "metadata": {},
   "outputs": [],
   "source": [
    "feature_data = \"feature_data.csv\"\n",
    "feature_df = pd.read_csv(feature_data)\n",
    "metadata = \"metadata.csv\"\n",
    "df = pd.read_csv(metadata)"
   ]
  },
  {
   "cell_type": "code",
   "execution_count": 4,
   "id": "8aaa0c65",
   "metadata": {},
   "outputs": [],
   "source": [
    "file_data = 'metadata_withmasks.csv'\n",
    "image_folder = 'test_images' + os.sep\n",
    "mask_folder = 'test_images_masks' + os.sep\n",
    "file_features = 'feature_data.csv'"
   ]
  },
  {
   "cell_type": "code",
   "execution_count": 5,
   "id": "3e48bad0",
   "metadata": {},
   "outputs": [],
   "source": [
    "# Extract image ids and labels\n",
    "df = pd.read_csv(file_data)\n",
    "\n",
    "# Remove images without masks\n",
    "df_mask = df['mask'] == 1\n",
    "df = df.loc[df_mask]\n",
    "\n",
    "labels = list(df['diagnostic'])"
   ]
  },
  {
   "cell_type": "code",
   "execution_count": 10,
   "id": "e6f40d96",
   "metadata": {},
   "outputs": [],
   "source": [
    "X_train , X_test, y_train, y_test = train_test_split(feature_df, labels, test_size = 0.30, random_state = 42)"
   ]
  },
  {
   "cell_type": "code",
   "execution_count": 7,
   "id": "7182f8ce",
   "metadata": {},
   "outputs": [
    {
     "name": "stdout",
     "output_type": "stream",
     "text": [
      "[0.         0.01040139 0.10472265 0.0129314  0.00126296 0.0954953\n",
      " 0.03536176 0.12446093 0.01716721 0.         0.         0.        ]\n"
     ]
    },
    {
     "data": {
      "image/png": "[encoded data removed]",
      "text/plain": [
       "<Figure size 432x288 with 1 Axes>"
      ]
     },
     "metadata": {
      "needs_background": "light"
     },
     "output_type": "display_data"
    }
   ],
   "source": [
    "def feature_scores(train_X, train_y, k):\n",
    "    '''Using SelectKBest to extract features from train_X, down to k features as output\n",
    "    Returns a selector object (which is applied to X_train and X_test afterwards) \n",
    "\tand the score for each feature.\n",
    "\n",
    "    Args:\n",
    "        train_X (pandas.DataFrame): Data Frame of features from X_train.\n",
    "\t\ttrain_y (pandas.DataFrame): Data Frame of target values from y_train.\n",
    "        k (int): Number of features to output.\n",
    "\n",
    "    Returns:\n",
    "\t\tfeature_selector (selector object): \n",
    "        scores (numpy.ndarray): Array containg scores for each feature.    \n",
    "    '''\n",
    "    feature_selector = SelectKBest(mutual_info_classif, k=k)\n",
    "    feature_selector.fit_transform(train_X, train_y)\n",
    "    \n",
    "    scores = feature_selector.scores_\n",
    "    \n",
    "    return feature_selector, scores\n",
    "\n",
    "selector, scores = feature_scores(X_train, y_train, 4)\n",
    "\n",
    "print(selector.scores_)\n",
    "\n",
    "def plot_feature_scores(scores, X_train):\n",
    "    # Get no. of features\n",
    "    features = len(scores)\n",
    "\n",
    "    # Visualize feature scores\n",
    "    plt.bar(np.arange(0,features), scores, width=.2)\n",
    "    plt.xticks(np.arange(0,features), list(X_train.columns), rotation='vertical')\n",
    "    plt.show()\n",
    "\n",
    "plot_feature_scores(scores, X_train)\n"
   ]
  },
  {
   "cell_type": "code",
   "execution_count": null,
   "id": "244ed61f",
   "metadata": {},
   "outputs": [],
   "source": []
  },
  {
   "cell_type": "code",
   "execution_count": 11,
   "id": "84b5b86f",
   "metadata": {},
   "outputs": [
    {
     "data": {
      "text/plain": [
       "(SelectKBest(k=2, score_func=<function mutual_info_classif at 0x7f9774ec2040>),\n",
       " array([0.        , 0.01056568, 0.10664649, 0.01288113, 0.        ,\n",
       "        0.09558608, 0.03346119, 0.12497267, 0.01618224, 0.        ,\n",
       "        0.        , 0.        ]))"
      ]
     },
     "execution_count": 11,
     "metadata": {},
     "output_type": "execute_result"
    }
   ],
   "source": [
    "feature_scores(X_train, y_train, 2)"
   ]
  },
  {
   "cell_type": "code",
   "execution_count": null,
   "id": "9bc538f2",
   "metadata": {},
   "outputs": [],
   "source": []
  }
 ],
 "metadata": {
  "kernelspec": {
   "display_name": "Python 3 (ipykernel)",
   "language": "python",
   "name": "python3"
  },
  "language_info": {
   "codemirror_mode": {
    "name": "ipython",
    "version": 3
   },
   "file_extension": ".py",
   "mimetype": "text/x-python",
   "name": "python",
   "nbconvert_exporter": "python",
   "pygments_lexer": "ipython3",
   "version": "3.9.12"
  },
  "vscode": {
   "interpreter": {
    "hash": "534d4e8b37863f4f5932f7cc25a9e87e2170c9c2a9fe02ecf0dcf4a0cfc94044"
   }
  }
 },
 "nbformat": 4,
 "nbformat_minor": 5
}
