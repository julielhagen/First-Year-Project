{
 "cells": [
  {
   "cell_type": "markdown",
   "id": "b9188b1b",
   "metadata": {},
   "source": [
    "## This file contains a function for plotting best features after feature selections "
   ]
  },
  {
   "cell_type": "code",
   "execution_count": 1,
   "id": "da12d283",
   "metadata": {},
   "outputs": [],
   "source": [
    "import pandas as pd\n",
    "import numpy as np\n",
    "import matplotlib.pyplot as plt\n",
    "import os\n",
    "\n",
    "#from sklearn.feature_selection import VarianceTreshold\n",
    "from sklearn.feature_selection import SelectKBest,mutual_info_classif\n",
    "from sklearn.model_selection import train_test_split"
   ]
  },
  {
   "cell_type": "code",
   "execution_count": 17,
   "id": "742c70e9",
   "metadata": {},
   "outputs": [],
   "source": [
    "feature_data = \"feature_data.csv\"\n",
    "feature_df = pd.read_csv(feature_data)\n",
    "metadata = \"metadata.csv\"\n",
    "df = pd.read_csv(metadata)"
   ]
  },
  {
   "cell_type": "code",
   "execution_count": 18,
   "id": "8aaa0c65",
   "metadata": {},
   "outputs": [],
   "source": [
    "file_data = 'metadata_withmasks.csv'\n",
    "image_folder = 'test_images' + os.sep\n",
    "mask_folder = 'test_images_masks' + os.sep\n",
    "file_features = 'feature_data.csv'"
   ]
  },
  {
   "cell_type": "code",
   "execution_count": 19,
   "id": "3e48bad0",
   "metadata": {},
   "outputs": [],
   "source": [
    "# Extract image ids and labels\n",
    "df = pd.read_csv(file_data)\n",
    "\n",
    "# Remove images without masks\n",
    "df_mask = df['mask'] == 1\n",
    "df = df.loc[df_mask]\n",
    "\n",
    "labels = list(df['diagnostic'])"
   ]
  },
  {
   "cell_type": "code",
   "execution_count": 20,
   "id": "b5d973ce",
   "metadata": {},
   "outputs": [],
   "source": [
    "feature_names = ['mean_assymmetry', 'best_asymmetry', 'worst_asymmetry', 'red_var', 'green_var', 'blue_var', \\\n",
    "     'hue_var', 'sat_var', 'val_var', 'dom_hue', 'dom_sat', 'dom_val', \\\n",
    "     'compactness', 'area', 'perimeter', 'convexity', 'F1', 'F2', 'F3', 'F10', 'F11', 'F12']"
   ]
  },
  {
   "cell_type": "code",
   "execution_count": 21,
   "id": "e6f40d96",
   "metadata": {},
   "outputs": [],
   "source": [
    "X_train , X_test, y_train, y_test = train_test_split(feature_df[feature_names], labels, test_size = 0.30, random_state = 42)"
   ]
  },
  {
   "cell_type": "code",
   "execution_count": 34,
   "id": "7182f8ce",
   "metadata": {},
   "outputs": [
    {
     "name": "stdout",
     "output_type": "stream",
     "text": [
      "[0.0645078  0.10506579 0.02357488 0.01871619 0.05707556 0.06730597\n",
      " 0.08232561 0.01166744 0.03855621 0.14792321 0.         0.03534946\n",
      " 0.14113426 0.07500418 0.10486456 0.18131007 0.0859727  0.1519883\n",
      " 0.03690792 0.24910727 0.20525464 0.1753872 ]\n"
     ]
    },
    {
     "data": {
      "image/png": "[encoded data removed]",
      "text/plain": [
       "<Figure size 432x288 with 1 Axes>"
      ]
     },
     "metadata": {
      "needs_background": "light"
     },
     "output_type": "display_data"
    }
   ],
   "source": [
    "def feature_scores(train_X, train_y, k):\n",
    "    '''Using SelectKBest to extract features from train_X, down to k features as output\n",
    "    Returns a selector object (which is applied to X_train and X_test afterwards) \n",
    "\tand the score for each feature.\n",
    "\n",
    "    Args:\n",
    "        train_X (pandas.DataFrame): Data Frame of features from X_train.\n",
    "\t\ttrain_y (pandas.DataFrame): Data Frame of target values from y_train.\n",
    "        k (int): Number of features to output.\n",
    "\n",
    "    Returns:\n",
    "\t\tfeature_selector (selector object): \n",
    "        scores (numpy.ndarray): Array containg scores for each feature.    \n",
    "    '''\n",
    "    feature_selector = SelectKBest(mutual_info_classif, k=k)\n",
    "    feature_selector.fit_transform(train_X, train_y)\n",
    "    \n",
    "    scores = feature_selector.scores_\n",
    "    \n",
    "    return feature_selector, scores\n",
    "\n",
    "selector, scores = feature_scores(X_train, y_train, 10)\n",
    "\n",
    "print(selector.scores_)\n",
    "threshold = np.sort(selector.scores_)[::-1][10]\n",
    "\n",
    "def plot_feature_scores(scores, X_train):\n",
    "    # Get no. of features\n",
    "    features = len(scores)\n",
    "\n",
    "    # Visualize feature scores\n",
    "    plt.bar(np.arange(0,features), scores, width=.2)\n",
    "    plt.xticks(np.arange(0,features), list(X_train.columns), rotation='vertical')\n",
    "    plt.axhline(y=threshold, color='r')\n",
    "    plt.show()\n",
    "\n",
    "plot_feature_scores(scores, X_train)\n"
   ]
  }
 ],
 "metadata": {
  "kernelspec": {
   "display_name": "Python 3 (ipykernel)",
   "language": "python",
   "name": "python3"
  },
  "language_info": {
   "codemirror_mode": {
    "name": "ipython",
    "version": 3
   },
   "file_extension": ".py",
   "mimetype": "text/x-python",
   "name": "python",
   "nbconvert_exporter": "python",
   "pygments_lexer": "ipython3",
   "version": "3.9.12"
  },
  "vscode": {
   "interpreter": {
    "hash": "534d4e8b37863f4f5932f7cc25a9e87e2170c9c2a9fe02ecf0dcf4a0cfc94044"
   }
  }
 },
 "nbformat": 4,
 "nbformat_minor": 5
}
