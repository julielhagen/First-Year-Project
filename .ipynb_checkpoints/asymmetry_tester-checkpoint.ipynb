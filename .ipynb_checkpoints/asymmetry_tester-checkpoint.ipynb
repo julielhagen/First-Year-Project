{
 "cells": [
  {
   "cell_type": "code",
   "execution_count": 69,
   "metadata": {},
   "outputs": [],
   "source": [
    "import matplotlib.pyplot as plt\n",
    "import numpy as np\n",
    "from math import floor, ceil\n",
    "from scipy.ndimage import rotate\n",
    "from prep_image import prep_im_and_gt"
   ]
  },
  {
   "cell_type": "code",
   "execution_count": 105,
   "metadata": {},
   "outputs": [
    {
     "data": {
      "text/plain": [
       "<matplotlib.image.AxesImage at 0x7fb7113033a0>"
      ]
     },
     "execution_count": 105,
     "metadata": {},
     "output_type": "execute_result"
    },
    {
     "data": {
      "image/png": "[encoded data removed]",
      "text/plain": [
       "<Figure size 432x288 with 1 Axes>"
      ]
     },
     "metadata": {
      "needs_background": "light"
     },
     "output_type": "display_data"
    }
   ],
   "source": [
    "im, gt = prep_im_and_gt(\"PAT_289_1399_481\", \"test_images/\", \"test_image_groundtruths/\", scalar=.25)\n",
    "plt.imshow(gt, cmap=\"gray\")"
   ]
  },
  {
   "cell_type": "code",
   "execution_count": 107,
   "metadata": {},
   "outputs": [],
   "source": [
    "def cut_edges(image):\n",
    "    col_sums = np.sum(image, axis=0)\n",
    "    row_sums = np.sum(image, axis=1)\n",
    "\n",
    "    active_cols = []\n",
    "    for index, col_sum in enumerate(col_sums):\n",
    "        if col_sum != 0:\n",
    "            active_cols.append(index)\n",
    "\n",
    "    active_rows = []\n",
    "    for index, row_sum in enumerate(row_sums):\n",
    "        if row_sum != 0:\n",
    "            active_rows.append(index)\n",
    "\n",
    "    col_min = active_cols[0]\n",
    "    col_max = active_cols[-1]\n",
    "    row_min = active_rows[0]\n",
    "    row_max = active_rows[-1]\n",
    "\n",
    "    cut_image = image[row_min:row_max, col_min:col_max]\n",
    "\n",
    "    return cut_image"
   ]
  },
  {
   "cell_type": "code",
   "execution_count": 108,
   "metadata": {},
   "outputs": [],
   "source": [
    "def midpoint(image):\n",
    "    row_mid = image.shape[0] / 2\n",
    "    col_mid = image.shape[1] / 2\n",
    "    return row_mid, col_mid"
   ]
  },
  {
   "cell_type": "code",
   "execution_count": 109,
   "metadata": {},
   "outputs": [
    {
     "name": "stdout",
     "output_type": "stream",
     "text": [
      "(50, 57)\n",
      "(25.0, 28.5)\n"
     ]
    },
    {
     "data": {
      "text/plain": [
       "<matplotlib.lines.Line2D at 0x7fb6e1327ee0>"
      ]
     },
     "execution_count": 109,
     "metadata": {},
     "output_type": "execute_result"
    },
    {
     "data": {
      "image/png": "[encoded data removed]",
      "text/plain": [
       "<Figure size 432x288 with 1 Axes>"
      ]
     },
     "metadata": {
      "needs_background": "light"
     },
     "output_type": "display_data"
    }
   ],
   "source": [
    "cut_gt = cut_edges(gt)\n",
    "\n",
    "mp = midpoint(cut_gt)\n",
    "print(cut_gt.shape)\n",
    "print(mp)\n",
    "\n",
    "x = mp[1]\n",
    "y = mp[0]\n",
    "\n",
    "plt.imshow(cut_gt, cmap=\"gray\")\n",
    "plt.axvline(x = x, color = \"r\")\n",
    "plt.axhline(y = y, color = \"r\")"
   ]
  },
  {
   "cell_type": "code",
   "execution_count": 110,
   "metadata": {},
   "outputs": [
    {
     "name": "stdout",
     "output_type": "stream",
     "text": [
      "0.0319\n"
     ]
    }
   ],
   "source": [
    "def asymmetry(image):\n",
    "    '''Calculate asymmetry score between 0 and 1 from vertical and horizontal axis\n",
    "    on a binary image, 0 being complete symmetry, 1 being complete asymmetry \n",
    "    (no pixels overlap when folding image on x- and y-axis)\n",
    "\n",
    "    Args:\n",
    "        image (numpy.ndarray): input image\n",
    "    \n",
    "    Returns:\n",
    "        asymmetry_score (float): Float between 0 and 1 indicating level of asymmetry.    \n",
    "    '''\n",
    "\n",
    "    row_mid, col_mid = midpoint(image)\n",
    "\n",
    "    # Split image into halves hortizontally and vertically\n",
    "    upper_half = image[:ceil(row_mid), :]\n",
    "    lower_half = image[floor(row_mid):, :]\n",
    "    left_half = image[:, :ceil(col_mid)]\n",
    "    right_half = image[:, floor(col_mid):]\n",
    "\n",
    "    # Flip one half for each axis\n",
    "    flipped_lower = np.flip(lower_half, axis=0)\n",
    "    flipped_right = np.flip(right_half, axis=1)\n",
    "\n",
    "    # Use logical xor to find pixels where only one half is present\n",
    "    hori_xor_area = np.logical_xor(upper_half, flipped_lower)\n",
    "    vert_xor_area = np.logical_xor(left_half, flipped_right)\n",
    "\n",
    "    # Compute sums of total pixels and pixels in asymmetry areas\n",
    "    total_pxls = np.sum(image)\n",
    "    hori_asymmetry_pxls = np.sum(hori_xor_area)\n",
    "    vert_asymmetry_pxls = np.sum(vert_xor_area)\n",
    "\n",
    "    # Calculate asymmetry score\n",
    "    asymmetry_score = (hori_asymmetry_pxls + vert_asymmetry_pxls) / (total_pxls * 2)\n",
    "\n",
    "    return round(asymmetry_score, 4)\n",
    "\n",
    "asymmetry_score = asymmetry(cut_gt)\n",
    "print(asymmetry_score)"
   ]
  },
  {
   "cell_type": "code",
   "execution_count": 111,
   "metadata": {},
   "outputs": [
    {
     "name": "stdout",
     "output_type": "stream",
     "text": [
      "{0.0: 0.0319, 3.0: 0.0404, 6.0: 0.0495, 9.0: 0.0571, 12.0: 0.0611, 15.0: 0.0652, 18.0: 0.0695, 21.0: 0.0791, 24.0: 0.0847, 27.0: 0.0886, 30.0: 0.0904, 33.0: 0.0928, 36.0: 0.0961, 39.0: 0.099, 42.0: 0.0961, 45.0: 0.0926, 48.0: 0.0917, 51.0: 0.0854, 54.0: 0.0808, 57.0: 0.0756, 60.0: 0.0664, 63.0: 0.0576, 66.0: 0.0526, 69.0: 0.0484, 72.0: 0.0449, 75.0: 0.04, 78.0: 0.0356, 81.0: 0.0345, 84.0: 0.0322, 87.0: 0.0302}\n"
     ]
    }
   ],
   "source": [
    "def rotation_asymmetry(image, n: int):\n",
    "    '''Rotate image n times and calculate asymmetry score for each iteration.\n",
    "    Rotates n times between 0 and 90 degrees, as 90 degree rotations do not change the\n",
    "    asymmetry score, i.e., a 30 degree rotation is the same as a 120 degree rotation.\n",
    "\n",
    "    Args:\n",
    "        image (numpy.ndarray): input image  \n",
    "        n (int): amount of rotations\n",
    "\n",
    "    Returns:\n",
    "        asymmetry_scores (dict): dict of asymmetry scores calculated from each rotation.    \n",
    "    '''\n",
    "\n",
    "    asymmetry_scores = {}\n",
    "    images = []\n",
    "\n",
    "    for i in range(n):\n",
    "\n",
    "        degrees = 90 * i / n\n",
    "\n",
    "        rotated_image = rotate(image, degrees)\n",
    "        cut_image = cut_edges(rotated_image)\n",
    "\n",
    "        images.append(cut_image)\n",
    "        asymmetry_scores[degrees] = asymmetry(cut_image)\n",
    "\n",
    "    return asymmetry_scores, images\n",
    "\n",
    "asymmetry_scores, images = rotation_asymmetry(gt, 30)\n",
    "\n",
    "print(asymmetry_scores)\n",
    "\n",
    "# Plotting\n",
    "#fig, axes = plt.subplots(nrows=3, ncols=4, figsize=(10, 10))\n",
    "#for row in range(3):\n",
    "#    for col in range(4):\n",
    "#        image = images[4*row + col]\n",
    "#        axes[row, col].imshow(image, cmap=\"gray\")\n",
    "#        mp = midpoint(image)\n",
    "#        axes[row, col].axvline(x = mp[1], color = \"r\")\n",
    "#        axes[row, col].axhline(y = mp[0], color = \"r\")\n",
    "#        axes[row, col].set_title(f\"rotation: {7.5*(4*row + col)}\")\n",
    "#fig.tight_layout"
   ]
  },
  {
   "cell_type": "code",
   "execution_count": 112,
   "metadata": {},
   "outputs": [
    {
     "data": {
      "text/plain": [
       "<matplotlib.collections.PathCollection at 0x7fb7045685e0>"
      ]
     },
     "execution_count": 112,
     "metadata": {},
     "output_type": "execute_result"
    },
    {
     "data": {
      "image/png": "[encoded data removed]",
      "text/plain": [
       "<Figure size 432x288 with 1 Axes>"
      ]
     },
     "metadata": {
      "needs_background": "light"
     },
     "output_type": "display_data"
    }
   ],
   "source": [
    "plt.scatter(asymmetry_scores.keys(), asymmetry_scores.values())"
   ]
  },
  {
   "cell_type": "code",
   "execution_count": 116,
   "metadata": {},
   "outputs": [
    {
     "name": "stdout",
     "output_type": "stream",
     "text": [
      "Best asymmetry (angle, score): (87.0, 0.0302)\n",
      "Worst asymmetry (angle, score): (39.0, 0.099)\n",
      "Average asymmetry: 0.0657\n"
     ]
    }
   ],
   "source": [
    "best_asymmetry = min(asymmetry_scores.items(), key=lambda x: x[1]) \n",
    "worst_asymmetry = max(asymmetry_scores.items(), key=lambda x: x[1]) \n",
    "avr_asymmetry = round(sum(asymmetry_scores.values()) / len(asymmetry_scores), 4)\n",
    "\n",
    "print(f\"Best asymmetry (angle, score): {best_asymmetry}\")\n",
    "print(f\"Worst asymmetry (angle, score): {worst_asymmetry}\")\n",
    "print(f\"Average asymmetry: {avr_asymmetry}\")"
   ]
  }
 ],
 "metadata": {
  "kernelspec": {
   "display_name": "Python 3 (ipykernel)",
   "language": "python",
   "name": "python3"
  },
  "language_info": {
   "codemirror_mode": {
    "name": "ipython",
    "version": 3
   },
   "file_extension": ".py",
   "mimetype": "text/x-python",
   "name": "python",
   "nbconvert_exporter": "python",
   "pygments_lexer": "ipython3",
   "version": "3.9.12"
  }
 },
 "nbformat": 4,
 "nbformat_minor": 2
}
