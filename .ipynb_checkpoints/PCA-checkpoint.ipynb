{
 "cells": [
  {
   "cell_type": "code",
   "execution_count": 2,
   "id": "4d385186",
   "metadata": {},
   "outputs": [],
   "source": [
    "import numpy as np\n",
    "from PIL import Image\n",
    "from sklearn.decomposition import PCA\n",
    "from sklearn.neighbors import KNeighborsClassifier\n",
    "from os import listdir\n",
    "from os.path import isfile, join\n",
    "import os\n",
    "from skimage.transform import resize\n",
    "import matplotlib.pyplot as plt\n",
    "from skimage.transform import resize, rescale\n"
   ]
  },
  {
   "cell_type": "code",
   "execution_count": 3,
   "id": "1470beeb",
   "metadata": {},
   "outputs": [],
   "source": [
    "def prep_im(im_id, im_dir_path = \"\", scalar = 1, output_shape = None):\n",
    "    '''Prepare image from im_id and optional dictory path.\n",
    "    If directory path is not passed, the whole filepath, including filetype notation, \n",
    "    should be given as im_id. If parameter scalar is passed, output image will be scaled by it. \n",
    "    Defualt 1 retains original size.\n",
    "    \n",
    "    Args:\n",
    "        im_id (str): image ID\n",
    "        im_dir_path (str, optional): image directory path\n",
    "        scalar (float, optional): rescale coefficient\n",
    "\n",
    "    Returns:\n",
    "        im (numpy.ndarray): image.\n",
    "    '''\n",
    "\n",
    "    # Read and resize image\n",
    "    if im_dir_path == \"\":\n",
    "        im = plt.imread(im_id)[:, :, :3] #Some images have fourth, empty color chanel which we slice of here\n",
    "    else:\n",
    "        im = plt.imread(im_dir_path + im_id)[:, :, :3] #Some images have fourth, empty color chanel which we slice of here\n",
    "    im = rescale(im, scalar, anti_aliasing=True, channel_axis = 2) #IDWE: Use channel_axis=2 to prevent picture from being turned bianry when rescaled\n",
    "    if output_shape != None:\n",
    "        im = resize(im, output_shape)\n",
    "\n",
    "    return im"
   ]
  },
  {
   "cell_type": "code",
   "execution_count": 7,
   "id": "71c5c60a",
   "metadata": {},
   "outputs": [
    {
     "ename": "NameError",
     "evalue": "name 'plt' is not defined",
     "output_type": "error",
     "traceback": [
      "\u001b[1;31m---------------------------------------------------------------------------\u001b[0m",
      "\u001b[1;31mNameError\u001b[0m                                 Traceback (most recent call last)",
      "Input \u001b[1;32mIn [7]\u001b[0m, in \u001b[0;36m<cell line: 7>\u001b[1;34m()\u001b[0m\n\u001b[0;32m      6\u001b[0m images \u001b[38;5;241m=\u001b[39m []\n\u001b[0;32m      7\u001b[0m \u001b[38;5;28;01mfor\u001b[39;00m im_path \u001b[38;5;129;01min\u001b[39;00m paths:\n\u001b[1;32m----> 8\u001b[0m   image \u001b[38;5;241m=\u001b[39m \u001b[43mprep_im\u001b[49m\u001b[43m(\u001b[49m\u001b[43mim_path\u001b[49m\u001b[43m,\u001b[49m\u001b[43m \u001b[49m\u001b[38;5;124;43m\"\u001b[39;49m\u001b[38;5;124;43mimgs_part_1/\u001b[39;49m\u001b[38;5;124;43m\"\u001b[39;49m\u001b[43m,\u001b[49m\u001b[43m \u001b[49m\u001b[43moutput_shape\u001b[49m\u001b[43m \u001b[49m\u001b[38;5;241;43m=\u001b[39;49m\u001b[43m \u001b[49m\u001b[43m(\u001b[49m\u001b[38;5;241;43m300\u001b[39;49m\u001b[43m,\u001b[49m\u001b[38;5;241;43m300\u001b[39;49m\u001b[43m)\u001b[49m\u001b[43m)\u001b[49m\n\u001b[0;32m     10\u001b[0m   \u001b[38;5;66;03m#image = Image.open(join(image_folder_path, im_path))\u001b[39;00m\n\u001b[0;32m     11\u001b[0m   \u001b[38;5;66;03m#image = resize(image, (300,300)) # Make sure the image has the same size\u001b[39;00m\n\u001b[0;32m     12\u001b[0m   arr \u001b[38;5;241m=\u001b[39m np\u001b[38;5;241m.\u001b[39masarray(image)\n",
      "Input \u001b[1;32mIn [3]\u001b[0m, in \u001b[0;36mprep_im\u001b[1;34m(im_id, im_dir_path, scalar, output_shape)\u001b[0m\n\u001b[0;32m     18\u001b[0m     im \u001b[38;5;241m=\u001b[39m plt\u001b[38;5;241m.\u001b[39mimread(im_id)[:, :, :\u001b[38;5;241m3\u001b[39m] \u001b[38;5;66;03m#Some images have fourth, empty color chanel which we slice of here\u001b[39;00m\n\u001b[0;32m     19\u001b[0m \u001b[38;5;28;01melse\u001b[39;00m:\n\u001b[1;32m---> 20\u001b[0m     im \u001b[38;5;241m=\u001b[39m \u001b[43mplt\u001b[49m\u001b[38;5;241m.\u001b[39mimread(im_dir_path \u001b[38;5;241m+\u001b[39m im_id)[:, :, :\u001b[38;5;241m3\u001b[39m] \u001b[38;5;66;03m#Some images have fourth, empty color chanel which we slice of here\u001b[39;00m\n\u001b[0;32m     21\u001b[0m im \u001b[38;5;241m=\u001b[39m rescale(im, scalar, anti_aliasing\u001b[38;5;241m=\u001b[39m\u001b[38;5;28;01mTrue\u001b[39;00m, channel_axis \u001b[38;5;241m=\u001b[39m \u001b[38;5;241m2\u001b[39m) \u001b[38;5;66;03m#IDWE: Use channel_axis=2 to prevent picture from being turned bianry when rescaled\u001b[39;00m\n\u001b[0;32m     22\u001b[0m \u001b[38;5;28;01mif\u001b[39;00m output_shape \u001b[38;5;241m!=\u001b[39m \u001b[38;5;28;01mNone\u001b[39;00m:\n",
      "\u001b[1;31mNameError\u001b[0m: name 'plt' is not defined"
     ]
    }
   ],
   "source": [
    "# Load images\n",
    "image_folder_path = \"imgs_part_1\"\n",
    "n_images = 10\n",
    "paths = [f for f in listdir(image_folder_path) if isfile(join(image_folder_path, f))][:n_images]\n",
    "\n",
    "images = []\n",
    "for im_path in paths:\n",
    "  image = prep_im(im_path, \"imgs_part_1/\", output_shape = (300,300))\n",
    "\n",
    "  #image = Image.open(join(image_folder_path, im_path))\n",
    "  #image = resize(image, (300,300)) # Make sure the image has the same size\n",
    "  arr = np.asarray(image)\n",
    "  images.append(arr)"
   ]
  },
  {
   "cell_type": "code",
   "execution_count": 6,
   "id": "5284f52f",
   "metadata": {},
   "outputs": [],
   "source": [
    "#Load labels for images\n",
    "data = np.array([i.strip().split(',') for i in open('metadata.csv')])\n",
    "\n",
    "mask = data == ''\n",
    "data[np.where(mask)] = np.nan\n",
    "\n",
    "labels = np.asarray([data[np.where(data[:,-2]==paths[i])[0][0],[17,-2]] for i in range(len(paths))])"
   ]
  },
  {
   "cell_type": "code",
   "execution_count": null,
   "id": "2bd93faf",
   "metadata": {},
   "outputs": [],
   "source": []
  },
  {
   "cell_type": "code",
   "execution_count": null,
   "id": "f9c89e3a",
   "metadata": {},
   "outputs": [],
   "source": []
  },
  {
   "cell_type": "code",
   "execution_count": null,
   "id": "6aa0b54a",
   "metadata": {},
   "outputs": [],
   "source": []
  }
 ],
 "metadata": {
  "kernelspec": {
   "display_name": "Python 3 (ipykernel)",
   "language": "python",
   "name": "python3"
  },
  "language_info": {
   "codemirror_mode": {
    "name": "ipython",
    "version": 3
   },
   "file_extension": ".py",
   "mimetype": "text/x-python",
   "name": "python",
   "nbconvert_exporter": "python",
   "pygments_lexer": "ipython3",
   "version": "3.9.12"
  }
 },
 "nbformat": 4,
 "nbformat_minor": 5
}
