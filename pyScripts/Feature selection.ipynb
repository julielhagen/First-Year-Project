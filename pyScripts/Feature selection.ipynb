{
 "cells": [
  {
   "cell_type": "code",
   "execution_count": 1,
   "id": "3feaf35d",
   "metadata": {},
   "outputs": [],
   "source": [
    "from prep_image import prep_im\n",
    "from MyModel import *"
   ]
  },
  {
   "cell_type": "code",
   "execution_count": 2,
   "id": "3adf0ae9",
   "metadata": {},
   "outputs": [],
   "source": [
    "feature_data = '..' + os.sep + \"feature_data.csv\"\n",
    "meta_data = '..' +  os.sep + 'metadata_withmasks.csv'\n",
    "\n",
    "image_folder = '..' +  os.sep + 'test_images' + os.sep\n",
    "mask_folder = '..' +  os.sep + 'test_images_masks' + os.sep"
   ]
  },
  {
   "cell_type": "code",
   "execution_count": 3,
   "id": "eb157ac2",
   "metadata": {},
   "outputs": [],
   "source": [
    "# Extract image ids and labels\n",
    "df = pd.read_csv(meta_data)\n",
    "df_features = pd.read_csv(feature_data)\n",
    "\n",
    "# Remove data for images without masks\n",
    "df_mask = df['mask'] == 1\n",
    "df = df.loc[df_mask]\n",
    "\n",
    "# Extract labels for images\n",
    "labels = list(df['diagnostic'])"
   ]
  },
  {
   "cell_type": "code",
   "execution_count": 4,
   "id": "1d301e0c",
   "metadata": {},
   "outputs": [],
   "source": [
    "feature_names = ['mean_assymmetry', 'best_asymmetry', 'worst_asymmetry', 'red_var', 'green_var', \\\n",
    "     'blue_var', 'hue_var', 'sat_var', 'val_var', 'dom_hue', 'dom_sat', 'dom_val', \\\n",
    "     'compactness', 'area', 'perimeter', 'convexity', 'F1', 'F2', 'F3', 'F10', 'F11', 'F12']"
   ]
  },
  {
   "cell_type": "code",
   "execution_count": 5,
   "id": "d5d82965",
   "metadata": {},
   "outputs": [],
   "source": [
    "X_train , X_test, y_train, y_test = train_test_split(df_features[feature_names], labels, test_size = 0.20, random_state = 42)"
   ]
  },
  {
   "cell_type": "code",
   "execution_count": 6,
   "id": "aab1596a",
   "metadata": {},
   "outputs": [],
   "source": [
    "feature_selector = feature_selector(X_train, y_train, 10)\n",
    "scores = feature_scores(feature_selector)"
   ]
  },
  {
   "cell_type": "code",
   "execution_count": 16,
   "id": "136e6add",
   "metadata": {},
   "outputs": [],
   "source": [
    "scores_sorted = np.sort(scores)[::-1]\n",
    "threshold = scores_sorted[10]"
   ]
  },
  {
   "cell_type": "code",
   "execution_count": 17,
   "id": "bee0cca1",
   "metadata": {},
   "outputs": [],
   "source": [
    "def plot_feature_scores(scores, X_train):\n",
    "    # Get no. of features\n",
    "    features = len(scores)\n",
    "\n",
    "    # Visualize feature scores\n",
    "    plt.bar(np.arange(0,features), scores, width=.2)\n",
    "    plt.xticks(np.arange(0,features), list(X_train.columns), rotation='vertical')\n",
    "    plt.axhline(y=threshold, color='r')\n",
    "    plt.show()"
   ]
  },
  {
   "cell_type": "code",
   "execution_count": 19,
   "id": "b353b1ee",
   "metadata": {},
   "outputs": [
    {
     "data": {
      "image/png": "[encoded data removed]",
      "text/plain": [
       "<Figure size 432x288 with 1 Axes>"
      ]
     },
     "metadata": {
      "needs_background": "light"
     },
     "output_type": "display_data"
    }
   ],
   "source": [
    "plot_feature_scores(scores, X_train)"
   ]
  },
  {
   "cell_type": "code",
   "execution_count": null,
   "id": "720cff4a",
   "metadata": {},
   "outputs": [],
   "source": []
  }
 ],
 "metadata": {
  "kernelspec": {
   "display_name": "Python 3 (ipykernel)",
   "language": "python",
   "name": "python3"
  },
  "language_info": {
   "codemirror_mode": {
    "name": "ipython",
    "version": 3
   },
   "file_extension": ".py",
   "mimetype": "text/x-python",
   "name": "python",
   "nbconvert_exporter": "python",
   "pygments_lexer": "ipython3",
   "version": "3.9.12"
  }
 },
 "nbformat": 4,
 "nbformat_minor": 5
}
