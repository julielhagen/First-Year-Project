{
 "cells": [
  {
   "cell_type": "code",
   "execution_count": 60,
   "id": "db5286d3",
   "metadata": {},
   "outputs": [],
   "source": [
    "from MyModel import *\n",
    "import pickle as pk\n",
    "from sklearn.decomposition import PCA"
   ]
  },
  {
   "cell_type": "code",
   "execution_count": 65,
   "id": "f6dbd1f4",
   "metadata": {},
   "outputs": [],
   "source": [
    "file_data = '..' + os.sep + 'metadata_withmasks.csv'\n",
    "image_folder = '..' + os.sep + 'images' + os.sep\n",
    "mask_folder = '..' + os.sep + 'images_masks' + os.sep\n",
    "file_features = '..' + os.sep + 'feature_data.csv'\n",
    "\n",
    "feature_names = ['mean_assymmetry', 'best_asymmetry', 'worst_asymmetry', 'red_var', 'green_var', \\\n",
    "     'blue_var', 'hue_var', 'sat_var', 'val_var', 'dom_hue', 'dom_sat', 'dom_val', \\\n",
    "     'compactness', 'area', 'perimeter', 'convexity', 'F1', 'F2', 'F3', 'F10', 'F11', 'F12']"
   ]
  },
  {
   "cell_type": "code",
   "execution_count": 66,
   "id": "2815445f",
   "metadata": {},
   "outputs": [],
   "source": [
    "# Metadata\n",
    "df = pd.read_csv(file_data)\n",
    "df = df[df['mask'] == 1]\n",
    "\n",
    "labels = df['diagnostic']\n",
    "\n",
    "# Feature data\n",
    "df_features = pd.read_csv(file_features)"
   ]
  },
  {
   "cell_type": "code",
   "execution_count": 67,
   "id": "4f3448e9",
   "metadata": {},
   "outputs": [],
   "source": [
    "# X and y\n",
    "groups = df_features['patient_id']\n",
    "X = df_features[feature_names]\n",
    "y = (labels == 'BCC') | (labels == 'SCC') | (labels == 'MEL') "
   ]
  },
  {
   "cell_type": "code",
   "execution_count": 75,
   "id": "8332745c",
   "metadata": {},
   "outputs": [
    {
     "name": "stdout",
     "output_type": "stream",
     "text": [
      "Round 1\n",
      "(686, 11)\n",
      "KNeighborsClassifier with n_neighbors: 9 0.5446455505279035\n",
      "Round 2\n",
      "(686, 11)\n",
      "KNeighborsClassifier with n_neighbors: 1 0.49811463046757165\n",
      "Round 3\n",
      "(686, 11)\n",
      "KNeighborsClassifier with n_neighbors: 9 0.4981900452488688\n",
      "Round 4\n",
      "(686, 11)\n",
      "KNeighborsClassifier with n_neighbors: 7 0.5447209653092007\n",
      "Round 5\n",
      "(686, 11)\n",
      "KNeighborsClassifier with n_neighbors: 5 0.598340874811463\n",
      "Round 6\n",
      "(686, 11)\n",
      "KNeighborsClassifier with n_neighbors: 5 0.5635746606334842\n",
      "Round 7\n",
      "(686, 11)\n",
      "KNeighborsClassifier with n_neighbors: 3 0.5984162895927602\n",
      "Round 8\n",
      "(686, 11)\n",
      "KNeighborsClassifier with n_neighbors: 3 0.5830316742081447\n",
      "Round 9\n",
      "(686, 11)\n",
      "KNeighborsClassifier with n_neighbors: 3 0.5597285067873303\n"
     ]
    }
   ],
   "source": [
    "for i in range(1,10):\n",
    "    print(f'Round {i}')\n",
    "\n",
    "    # PCA\n",
    "    train_pca(X)\n",
    "    X_transformed = apply_pca(X)\n",
    "    print(np.shape(X_transformed))\n",
    "    \n",
    "    # Feature selection\n",
    "    train_feature_selector(X_transformed, y, i)\n",
    "    X_transformed = apply_feature_selector(X_transformed)\n",
    "\n",
    "    # Define classifiers\n",
    "    classifiers = [KNeighborsClassifier(n_neighbors=i) for i in range(1, 10, 2)]\n",
    "\n",
    "    # Cross Validate\n",
    "    cv_results = cross_validate_clf(X_transformed, y, classifiers, groups)\n",
    "    #print_results(cv_results)\n",
    "    \n",
    "    recall_max = 0\n",
    "    clf_max = None\n",
    "\n",
    "    for clf, scores in cv_results.items():\n",
    "        if scores['Recall'] > recall_max:\n",
    "            recall_max = scores['Recall']\n",
    "            clf_max = clf\n",
    "    print(clf_max, recall_max)"
   ]
  }
 ],
 "metadata": {
  "kernelspec": {
   "display_name": "Python 3 (ipykernel)",
   "language": "python",
   "name": "python3"
  },
  "language_info": {
   "codemirror_mode": {
    "name": "ipython",
    "version": 3
   },
   "file_extension": ".py",
   "mimetype": "text/x-python",
   "name": "python",
   "nbconvert_exporter": "python",
   "pygments_lexer": "ipython3",
   "version": "3.9.12"
  }
 },
 "nbformat": 4,
 "nbformat_minor": 5
}
