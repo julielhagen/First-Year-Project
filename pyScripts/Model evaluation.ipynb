{
 "cells": [
  {
   "cell_type": "code",
   "execution_count": 1,
   "id": "db5286d3",
   "metadata": {},
   "outputs": [],
   "source": [
    "from MyModel import *"
   ]
  },
  {
   "cell_type": "code",
   "execution_count": 2,
   "id": "f6dbd1f4",
   "metadata": {},
   "outputs": [],
   "source": [
    "file_data = '..' + os.sep + 'metadata_withmasks.csv'\n",
    "image_folder = '..' + os.sep + 'images' + os.sep\n",
    "mask_folder = '..' + os.sep + 'images_masks' + os.sep\n",
    "file_features = '..' + os.sep + 'feature_data.csv'\n",
    "\n",
    "feature_names = ['mean_assymmetry', 'best_asymmetry', 'worst_asymmetry', 'red_var', 'green_var', \\\n",
    "     'blue_var', 'hue_var', 'sat_var', 'val_var', 'dom_hue', 'dom_sat', 'dom_val', \\\n",
    "     'compactness', 'area', 'perimeter', 'convexity', 'F1', 'F2', 'F3', 'F10', 'F11', 'F12']"
   ]
  },
  {
   "cell_type": "code",
   "execution_count": 7,
   "id": "2815445f",
   "metadata": {},
   "outputs": [],
   "source": [
    "# Metadata\n",
    "df = pd.read_csv(file_data)\n",
    "df = df[df['mask'] == 1]\n",
    "\n",
    "labels = df['diagnostic']\n",
    "\n",
    "# Feature data\n",
    "df_features = pd.read_csv(file_features)"
   ]
  },
  {
   "cell_type": "code",
   "execution_count": 16,
   "id": "4f3448e9",
   "metadata": {},
   "outputs": [],
   "source": [
    "# X and y\n",
    "X = df_features\n",
    "y = (labels == 'BCC') | (labels == 'SCC') | (labels == 'MEL') \n",
    "\n",
    "### TRAIN MODEL ###\n",
    "\n",
    "# Split in train test\n",
    "X_train, X_test, y_train, y_test = train_test_split(X, y, test_size = 0.2, random_state = 0, stratify = y)\n",
    "\n",
    "groups = X_train['patient_id']\n",
    "X_train = X_train[feature_names]\n",
    "X_test = X_test[feature_names]"
   ]
  },
  {
   "cell_type": "code",
   "execution_count": 18,
   "id": "8332745c",
   "metadata": {},
   "outputs": [
    {
     "name": "stdout",
     "output_type": "stream",
     "text": [
      "(548, 6)\n",
      "KNeighborsClassifier with n_neighbors: 1\n",
      "Accuracy: 0.6680\n",
      "Recall: 0.5362\n",
      "Precision: 0.5633\n",
      "ROC AUC: 0.6421\n",
      "\n",
      "KNeighborsClassifier with n_neighbors: 2\n",
      "Accuracy: 0.6861\n",
      "Recall: 0.3382\n",
      "Precision: 0.6660\n",
      "ROC AUC: 0.6963\n",
      "\n",
      "KNeighborsClassifier with n_neighbors: 3\n",
      "Accuracy: 0.7136\n",
      "Recall: 0.5506\n",
      "Precision: 0.6428\n",
      "ROC AUC: 0.7249\n",
      "\n",
      "KNeighborsClassifier with n_neighbors: 4\n",
      "Accuracy: 0.7080\n",
      "Recall: 0.4250\n",
      "Precision: 0.6817\n",
      "ROC AUC: 0.7408\n",
      "\n",
      "KNeighborsClassifier with n_neighbors: 5\n",
      "Accuracy: 0.7189\n",
      "Recall: 0.5551\n",
      "Precision: 0.6497\n",
      "ROC AUC: 0.7586\n",
      "\n",
      "KNeighborsClassifier with n_neighbors: 6\n",
      "Accuracy: 0.7190\n",
      "Recall: 0.4400\n",
      "Precision: 0.7052\n",
      "ROC AUC: 0.7637\n",
      "\n",
      "KNeighborsClassifier with n_neighbors: 7\n",
      "Accuracy: 0.7244\n",
      "Recall: 0.5461\n",
      "Precision: 0.6646\n",
      "ROC AUC: 0.7725\n",
      "\n",
      "KNeighborsClassifier with n_neighbors: 8\n",
      "Accuracy: 0.7318\n",
      "Recall: 0.4643\n",
      "Precision: 0.7244\n",
      "ROC AUC: 0.7774\n",
      "\n",
      "KNeighborsClassifier with n_neighbors: 9\n",
      "Accuracy: 0.7318\n",
      "Recall: 0.5268\n",
      "Precision: 0.6868\n",
      "ROC AUC: 0.7751\n",
      "\n"
     ]
    }
   ],
   "source": [
    "# Feature selection\n",
    "train_feature_selector(X_train, y_train, 10)\n",
    "X_train = apply_feature_selector(X_train)\n",
    "\n",
    "# PCA\n",
    "train_pca(X_train)\n",
    "X_train_transformed = apply_pca(X_train)\n",
    "\n",
    "print(np.shape(X_train_transformed))\n",
    "\n",
    "# Define classifiers\n",
    "classifiers = [KNeighborsClassifier(n_neighbors=i) for i in range(1, 10)]\n",
    "\n",
    "# Cross Validate\n",
    "cv_results = cross_validate_clf(X_train_transformed, y_train, classifiers, groups)\n",
    "print_results(cv_results)"
   ]
  },
  {
   "cell_type": "code",
   "execution_count": null,
   "id": "bda0a382",
   "metadata": {},
   "outputs": [],
   "source": []
  }
 ],
 "metadata": {
  "kernelspec": {
   "display_name": "Python 3 (ipykernel)",
   "language": "python",
   "name": "python3"
  },
  "language_info": {
   "codemirror_mode": {
    "name": "ipython",
    "version": 3
   },
   "file_extension": ".py",
   "mimetype": "text/x-python",
   "name": "python",
   "nbconvert_exporter": "python",
   "pygments_lexer": "ipython3",
   "version": "3.9.12"
  }
 },
 "nbformat": 4,
 "nbformat_minor": 5
}
