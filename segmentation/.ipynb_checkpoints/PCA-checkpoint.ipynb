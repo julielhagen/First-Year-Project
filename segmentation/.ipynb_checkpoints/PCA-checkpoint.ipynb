{
 "cells": [
  {
   "cell_type": "code",
   "execution_count": 2,
   "id": "4d385186",
   "metadata": {},
   "outputs": [],
   "source": [
    "import numpy as np\n",
    "from PIL import Image\n",
    "from sklearn.decomposition import PCA\n",
    "from sklearn.neighbors import KNeighborsClassifier\n",
    "from os import listdir\n",
    "from os.path import isfile, join\n",
    "import os\n",
    "from skimage.transform import resize"
   ]
  },
  {
   "cell_type": "code",
   "execution_count": 3,
   "id": "1470beeb",
   "metadata": {},
   "outputs": [],
   "source": [
    "def prep_im(im_id, im_dir_path = \"\", scalar = 1, output_shape = None):\n",
    "    '''Prepare image from im_id and optional dictory path.\n",
    "    If directory path is not passed, the whole filepath, including filetype notation, \n",
    "    should be given as im_id. If parameter scalar is passed, output image will be scaled by it. \n",
    "    Defualt 1 retains original size.\n",
    "    \n",
    "    Args:\n",
    "        im_id (str): image ID\n",
    "        im_dir_path (str, optional): image directory path\n",
    "        scalar (float, optional): rescale coefficient\n",
    "\n",
    "    Returns:\n",
    "        im (numpy.ndarray): image.\n",
    "    '''\n",
    "\n",
    "    # Read and resize image\n",
    "    if im_dir_path == \"\":\n",
    "        im = plt.imread(im_id)[:, :, :3] #Some images have fourth, empty color chanel which we slice of here\n",
    "    else:\n",
    "        im = plt.imread(im_dir_path + im_id)[:, :, :3] #Some images have fourth, empty color chanel which we slice of here\n",
    "    im = rescale(im, scalar, anti_aliasing=True, channel_axis = 2) #IDWE: Use channel_axis=2 to prevent picture from being turned bianry when rescaled\n",
    "    if output_shape != None:\n",
    "        im = resize(im, output_shape)\n",
    "\n",
    "    return im"
   ]
  },
  {
   "cell_type": "code",
   "execution_count": null,
   "id": "71c5c60a",
   "metadata": {},
   "outputs": [],
   "source": []
  },
  {
   "cell_type": "code",
   "execution_count": null,
   "id": "5284f52f",
   "metadata": {},
   "outputs": [],
   "source": []
  },
  {
   "cell_type": "code",
   "execution_count": null,
   "id": "2bd93faf",
   "metadata": {},
   "outputs": [],
   "source": []
  },
  {
   "cell_type": "code",
   "execution_count": null,
   "id": "f9c89e3a",
   "metadata": {},
   "outputs": [],
   "source": []
  },
  {
   "cell_type": "code",
   "execution_count": null,
   "id": "6aa0b54a",
   "metadata": {},
   "outputs": [],
   "source": []
  }
 ],
 "metadata": {
  "kernelspec": {
   "display_name": "Python 3 (ipykernel)",
   "language": "python",
   "name": "python3"
  },
  "language_info": {
   "codemirror_mode": {
    "name": "ipython",
    "version": 3
   },
   "file_extension": ".py",
   "mimetype": "text/x-python",
   "name": "python",
   "nbconvert_exporter": "python",
   "pygments_lexer": "ipython3",
   "version": "3.9.12"
  }
 },
 "nbformat": 4,
 "nbformat_minor": 5
}
