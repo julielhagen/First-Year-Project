{
 "cells": [
  {
   "cell_type": "code",
   "execution_count": 38,
   "id": "bcbe3a20",
   "metadata": {},
   "outputs": [],
   "source": [
    "import numpy as np\n",
    "from os import listdir\n",
    "from os.path import isfile, join\n",
    "import os\n",
    "import matplotlib.pyplot as plt\n",
    "\n",
    "from prep_image import prep_mask\n",
    "import matplotlib.image as mpimg"
   ]
  },
  {
   "cell_type": "code",
   "execution_count": null,
   "id": "ec2ce58d",
   "metadata": {},
   "outputs": [],
   "source": []
  },
  {
   "cell_type": "code",
   "execution_count": null,
   "id": "dba7256b",
   "metadata": {},
   "outputs": [],
   "source": []
  },
  {
   "cell_type": "code",
   "execution_count": 30,
   "id": "e60bf9c7",
   "metadata": {},
   "outputs": [],
   "source": [
    "# Load images\n",
    "image_folder_path = \"images\"\n",
    "paths = [f for f in listdir(image_folder_path) if isfile(join(image_folder_path, f))]"
   ]
  },
  {
   "cell_type": "code",
   "execution_count": 31,
   "id": "fbc09973",
   "metadata": {},
   "outputs": [
    {
     "data": {
      "text/plain": [
       "690"
      ]
     },
     "execution_count": 31,
     "metadata": {},
     "output_type": "execute_result"
    }
   ],
   "source": [
    "len(paths)"
   ]
  },
  {
   "cell_type": "code",
   "execution_count": null,
   "id": "eff3c7b8",
   "metadata": {},
   "outputs": [],
   "source": [
    "def save_mask(im_path, im_mask):\n",
    "    mask_path = 'images_masks_new/' + '_mask.'.join(im_path.split('.'))\n",
    "    \n",
    "    mpimg.imsave(mask_path,im_mask)"
   ]
  },
  {
   "cell_type": "code",
   "execution_count": null,
   "id": "5d0b2df9",
   "metadata": {},
   "outputs": [],
   "source": [
    "new_masks\n",
    "for im_path in paths:\n",
    "    mask = prep_mask(im_path, \"images_masks/\", output_shape = (300,300))\n",
    "    \n",
    "    try:\n",
    "        mask = mask[:,:,0]\n",
    "    \n",
    "    arr = np.asarray(image)\n",
    "    new_masks.append(arr)"
   ]
  },
  {
   "cell_type": "code",
   "execution_count": 32,
   "id": "b7301bc9",
   "metadata": {},
   "outputs": [],
   "source": [
    "mask = prep_mask(paths[1], \"images_masks/\", output_shape = (300,300))"
   ]
  },
  {
   "cell_type": "markdown",
   "id": "cbe6b359",
   "metadata": {},
   "source": []
  },
  {
   "cell_type": "code",
   "execution_count": 33,
   "id": "7ea84fb9",
   "metadata": {},
   "outputs": [],
   "source": [
    "mask = mask[:,:,0]\n"
   ]
  },
  {
   "cell_type": "code",
   "execution_count": 34,
   "id": "f87942f9",
   "metadata": {},
   "outputs": [
    {
     "data": {
      "text/plain": [
       "<matplotlib.image.AxesImage at 0x1fc95d22c10>"
      ]
     },
     "execution_count": 34,
     "metadata": {},
     "output_type": "execute_result"
    },
    {
     "data": {
      "image/png": "[encoded data removed]",
      "text/plain": [
       "<Figure size 432x288 with 1 Axes>"
      ]
     },
     "metadata": {
      "needs_background": "light"
     },
     "output_type": "display_data"
    }
   ],
   "source": [
    "plt.imshow(mask)"
   ]
  },
  {
   "cell_type": "code",
   "execution_count": 35,
   "id": "c2e3bf96",
   "metadata": {},
   "outputs": [
    {
     "data": {
      "text/plain": [
       "(300, 300)"
      ]
     },
     "execution_count": 35,
     "metadata": {},
     "output_type": "execute_result"
    }
   ],
   "source": [
    "mask.shape"
   ]
  },
  {
   "cell_type": "code",
   "execution_count": 39,
   "id": "fbd6b916",
   "metadata": {},
   "outputs": [],
   "source": [
    "def save_mask(im_path, im_mask):\n",
    "    mask_path = 'images_masks_new/' + '_mask.'.join(im_path.split('.'))\n",
    "    \n",
    "    mpimg.imsave(mask_path,im_mask)"
   ]
  },
  {
   "cell_type": "code",
   "execution_count": 40,
   "id": "6119352f",
   "metadata": {},
   "outputs": [],
   "source": [
    "save_mask(paths[1],mask)"
   ]
  },
  {
   "cell_type": "code",
   "execution_count": null,
   "id": "874f21f9",
   "metadata": {},
   "outputs": [],
   "source": []
  }
 ],
 "metadata": {
  "kernelspec": {
   "display_name": "Python 3 (ipykernel)",
   "language": "python",
   "name": "python3"
  },
  "language_info": {
   "codemirror_mode": {
    "name": "ipython",
    "version": 3
   },
   "file_extension": ".py",
   "mimetype": "text/x-python",
   "name": "python",
   "nbconvert_exporter": "python",
   "pygments_lexer": "ipython3",
   "version": "3.9.12"
  }
 },
 "nbformat": 4,
 "nbformat_minor": 5
}
